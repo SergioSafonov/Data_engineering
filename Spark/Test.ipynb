{
 "cells": [
  {
   "cell_type": "code",
   "execution_count": 1,
   "id": "bf41aab7",
   "metadata": {},
   "outputs": [],
   "source": [
    "import os\n",
    "\n",
    "from pyspark.sql import SparkSession\n",
    "import pyspark.sql.functions as func\n",
    "from pyspark.sql.types import *"
   ]
  },
  {
   "cell_type": "code",
   "execution_count": 2,
   "id": "6150cbef",
   "metadata": {},
   "outputs": [
    {
     "name": "stderr",
     "output_type": "stream",
     "text": [
      "Setting default log level to \"WARN\".\n",
      "To adjust logging level use sc.setLogLevel(newLevel). For SparkR, use setLogLevel(newLevel).\n",
      "22/04/29 13:39:09 WARN util.Utils: Service 'SparkUI' could not bind on port 4040. Attempting port 4041.\n",
      "22/04/29 13:39:09 WARN util.Utils: Service 'SparkUI' could not bind on port 4041. Attempting port 4042.\n",
      "22/04/29 13:39:09 WARN util.Utils: Service 'SparkUI' could not bind on port 4042. Attempting port 4043.\n"
     ]
    }
   ],
   "source": [
    "spark = SparkSession.builder\\\n",
    "    .master(\"local\")\\\n",
    "    .appName(\"test\")\\\n",
    "    .getOrCreate()"
   ]
  },
  {
   "cell_type": "code",
   "execution_count": null,
   "id": "0c890101",
   "metadata": {},
   "outputs": [],
   "source": [
    "source_column_list = \"store_type_id, type\"\n",
    "target_column_list = \"'store_type_id', 'store_type_name'\"\n",
    "rename_str = \".withColumnRenamed('type', 'store_type_name')\"\n",
    "csv_schema_str = 'StructType([StructField(\"store_type_id\", IntegerType(), False), StructField(\"type\", StringType(), True)])'\n",
    "csv_schema = eval(csv_schema_str)"
   ]
  },
  {
   "cell_type": "code",
   "execution_count": null,
   "id": "5019b9d1",
   "metadata": {},
   "outputs": [],
   "source": [
    "bronze_store_type_df = spark.read \\\n",
    "        .option(\"header\", True) \\\n",
    "        .schema(csv_schema) \\\n",
    "        .csv(os.path.join('/', 'datalake', 'bronze', 'dshop_bu', 'store_types', '2022-04-27', 'store_types.csv'))"
   ]
  },
  {
   "cell_type": "code",
   "execution_count": null,
   "id": "0dff2b4d",
   "metadata": {},
   "outputs": [],
   "source": [
    "display(bronze_store_type_df)"
   ]
  },
  {
   "cell_type": "code",
   "execution_count": null,
   "id": "5482133d",
   "metadata": {},
   "outputs": [],
   "source": [
    "bronze_store_type_df.show()"
   ]
  },
  {
   "cell_type": "code",
   "execution_count": null,
   "id": "b84967a6",
   "metadata": {},
   "outputs": [],
   "source": [
    "silver_store_type_str = \"bronze_store_type_df.where(func.col('type').isNotNull())\" \\\n",
    "                                f\"{rename_str}.dropDuplicates()\" \\\n",
    "                                f\".select({target_column_list})\""
   ]
  },
  {
   "cell_type": "code",
   "execution_count": null,
   "id": "1abc3983",
   "metadata": {},
   "outputs": [],
   "source": [
    "silver_store_type_df = eval(silver_store_type_str)"
   ]
  },
  {
   "cell_type": "code",
   "execution_count": null,
   "id": "a1df963d",
   "metadata": {},
   "outputs": [],
   "source": [
    "display(silver_store_type_df)"
   ]
  },
  {
   "cell_type": "code",
   "execution_count": null,
   "id": "133414c5",
   "metadata": {},
   "outputs": [],
   "source": [
    "silver_store_type_df.show()"
   ]
  },
  {
   "cell_type": "code",
   "execution_count": null,
   "id": "afcea2f2",
   "metadata": {},
   "outputs": [],
   "source": [
    "source_column_list = \"id, fullname, location_area_id\"\n",
    "target_column_list = \"'client_id', 'client_name', 'location_area_id'\"\n",
    "rename_str = \".withColumnRenamed('id', 'client_id').withColumnRenamed('fullname', 'client_name')\"\n",
    "csv_schema_str = 'StructType([StructField(\"id\", IntegerType(), False), StructField(\"fullname\", StringType(), True), StructField(\"location_area_id\", IntegerType(), True)])'\n",
    "csv_schema = eval(csv_schema_str)"
   ]
  },
  {
   "cell_type": "code",
   "execution_count": null,
   "id": "c55495a3",
   "metadata": {},
   "outputs": [],
   "source": [
    "bronze_client_df = spark.read \\\n",
    "            .option(\"header\", True) \\\n",
    "            .schema(csv_schema) \\\n",
    "            .csv(os.path.join('/', 'datalake', 'bronze', 'dshop_bu', 'clients', '2022-04-27', 'clients.csv'))"
   ]
  },
  {
   "cell_type": "code",
   "execution_count": null,
   "id": "0d4e9a63",
   "metadata": {},
   "outputs": [],
   "source": [
    "silver_client_str = \"bronze_client_df.where(func.col('fullname').isNotNull())\" \\\n",
    "                            f\"{rename_str}.dropDuplicates()\" \\\n",
    "                            f\".select({target_column_list})\""
   ]
  },
  {
   "cell_type": "code",
   "execution_count": null,
   "id": "b7b71775",
   "metadata": {},
   "outputs": [],
   "source": [
    "silver_client_df = eval(silver_client_str)"
   ]
  },
  {
   "cell_type": "code",
   "execution_count": null,
   "id": "b7779e1c",
   "metadata": {},
   "outputs": [],
   "source": [
    "display(silver_client_df)"
   ]
  },
  {
   "cell_type": "code",
   "execution_count": null,
   "id": "063e0116",
   "metadata": {},
   "outputs": [],
   "source": [
    "silver_client_df.show()"
   ]
  },
  {
   "cell_type": "code",
   "execution_count": null,
   "id": "63187329",
   "metadata": {},
   "outputs": [],
   "source": [
    "bronze_aisles_df = spark.read \\\n",
    "        .load(os.path.join('/', 'datalake', 'bronze', 'dshop_bu', 'aisles', '2022-03-04', 'aisles.csv'),\n",
    "              header=\"true\",\n",
    "              inferSchema=\"true\",\n",
    "              format=\"csv\"\n",
    "              )"
   ]
  },
  {
   "cell_type": "code",
   "execution_count": null,
   "id": "095576d2",
   "metadata": {},
   "outputs": [],
   "source": [
    "silver_aisles_df = bronze_aisles_df \\\n",
    "        .where(func.col('aisle').isNotNull()) \\\n",
    "        .withColumnRenamed('aisle', 'aisle_name') \\\n",
    "        .dropDuplicates()"
   ]
  },
  {
   "cell_type": "code",
   "execution_count": null,
   "id": "2be4e828",
   "metadata": {},
   "outputs": [],
   "source": [
    "silver_aisles_df.show()\n",
    "display(silver_aisles_df)"
   ]
  },
  {
   "cell_type": "code",
   "execution_count": null,
   "id": "dedec614",
   "metadata": {},
   "outputs": [],
   "source": [
    "bronze_departments_df = spark.read \\\n",
    "        .load(os.path.join('/', 'datalake', 'bronze', 'dshop_bu', 'departments', '2022-03-04', 'departments.csv'),\n",
    "              header=\"true\",\n",
    "              inferSchema=\"true\",\n",
    "              format=\"csv\"\n",
    "              )"
   ]
  },
  {
   "cell_type": "code",
   "execution_count": null,
   "id": "4eaee11b",
   "metadata": {},
   "outputs": [],
   "source": [
    "silver_departments_df = bronze_departments_df \\\n",
    "        .where(func.col('department').isNotNull()) \\\n",
    "        .withColumnRenamed('department', 'department_name') \\\n",
    "        .dropDuplicates()"
   ]
  },
  {
   "cell_type": "code",
   "execution_count": null,
   "id": "c64e2971",
   "metadata": {},
   "outputs": [],
   "source": [
    "silver_departments_df.show()\n",
    "display(silver_departments_df)"
   ]
  },
  {
   "cell_type": "code",
   "execution_count": 50,
   "id": "f8746a39",
   "metadata": {},
   "outputs": [],
   "source": [
    "source_column_list = \"order_id, product_id, client_id, store_id, quantity, order_date\"\n",
    "target_column_list = \"'order_id', 'product_id', 'client_id', 'store_id', 'quantity', 'order_date'\"\n",
    "rename_str = \"\"\n",
    "csv_schema_str = 'StructType([StructField(\"order_id\", IntegerType(), True), StructField(\"product_id\", IntegerType(), True), StructField(\"client_id\", IntegerType(), True), StructField(\"store_id\", IntegerType(), True), StructField(\"quantity\", IntegerType(), True), StructField(\"order_date\", DateType(), True)])'\n",
    "csv_schema = eval(csv_schema_str)\n",
    "order_date = '2022-04-28'"
   ]
  },
  {
   "cell_type": "code",
   "execution_count": 51,
   "id": "9e3c9044",
   "metadata": {},
   "outputs": [],
   "source": [
    "bronze_order_df = spark.read \\\n",
    "        .option(\"header\", True) \\\n",
    "        .schema(csv_schema) \\\n",
    "        .csv(os.path.join('/', 'datalake', 'bronze', 'dshop_bu', 'orders', '2022-04-29', 'orders.csv'))"
   ]
  },
  {
   "cell_type": "code",
   "execution_count": 52,
   "id": "ad4b1158",
   "metadata": {},
   "outputs": [
    {
     "data": {
      "text/plain": [
       "DataFrame[order_id: int, product_id: int, client_id: int, store_id: int, quantity: int, order_date: date]"
      ]
     },
     "metadata": {},
     "output_type": "display_data"
    }
   ],
   "source": [
    "display(bronze_order_df)"
   ]
  },
  {
   "cell_type": "code",
   "execution_count": 53,
   "id": "8bc08a07",
   "metadata": {},
   "outputs": [
    {
     "name": "stdout",
     "output_type": "stream",
     "text": [
      "+--------+----------+---------+--------+--------+----------+\n",
      "|order_id|product_id|client_id|store_id|quantity|order_date|\n",
      "+--------+----------+---------+--------+--------+----------+\n",
      "+--------+----------+---------+--------+--------+----------+\n",
      "\n"
     ]
    }
   ],
   "source": [
    "bronze_order_df.show()"
   ]
  },
  {
   "cell_type": "code",
   "execution_count": 54,
   "id": "d2d941cd",
   "metadata": {},
   "outputs": [
    {
     "data": {
      "text/plain": [
       "0"
      ]
     },
     "execution_count": 54,
     "metadata": {},
     "output_type": "execute_result"
    }
   ],
   "source": [
    "bronze_order_df.count()"
   ]
  },
  {
   "cell_type": "code",
   "execution_count": 55,
   "id": "8e3b65ab",
   "metadata": {},
   "outputs": [],
   "source": [
    "silver_order_str = \"bronze_order_df.where(bronze_order_df.order_id.isNotNull())\" \\\n",
    "                           \".where(bronze_order_df.order_date.isNotNull())\" \\\n",
    "                           \".where(bronze_order_df.quantity.isNotNull())\" \\\n",
    "                           f\".where(bronze_order_df.order_date == '{order_date}')\" \\\n",
    "                           f\"{rename_str}.withColumn('order_month', func.month('order_date'))\" \\\n",
    "                           \".dropDuplicates()\" \\\n",
    "                           f\".select({target_column_list}, 'order_month')\""
   ]
  },
  {
   "cell_type": "code",
   "execution_count": 56,
   "id": "d7889f5f",
   "metadata": {},
   "outputs": [],
   "source": [
    "silver_order_df = eval(silver_order_str)"
   ]
  },
  {
   "cell_type": "code",
   "execution_count": 57,
   "id": "72f3a62d",
   "metadata": {},
   "outputs": [
    {
     "data": {
      "text/plain": [
       "DataFrame[order_id: int, product_id: int, client_id: int, store_id: int, quantity: int, order_date: date, order_month: int]"
      ]
     },
     "metadata": {},
     "output_type": "display_data"
    }
   ],
   "source": [
    "display(silver_order_df)"
   ]
  },
  {
   "cell_type": "code",
   "execution_count": 58,
   "id": "0a9796f2",
   "metadata": {},
   "outputs": [
    {
     "name": "stdout",
     "output_type": "stream",
     "text": [
      "+--------+----------+---------+--------+--------+----------+-----------+\n",
      "|order_id|product_id|client_id|store_id|quantity|order_date|order_month|\n",
      "+--------+----------+---------+--------+--------+----------+-----------+\n",
      "+--------+----------+---------+--------+--------+----------+-----------+\n",
      "\n"
     ]
    }
   ],
   "source": [
    "silver_order_df.show()"
   ]
  },
  {
   "cell_type": "code",
   "execution_count": 59,
   "id": "e81f7b49",
   "metadata": {},
   "outputs": [
    {
     "name": "stderr",
     "output_type": "stream",
     "text": [
      "                                                                                \r"
     ]
    }
   ],
   "source": [
    "silver_order_df.write \\\n",
    "            .partitionBy('order_month') \\\n",
    "            .parquet(os.path.join('/', 'datalake', 'silver', 'dshop_bu', 'order')\n",
    "                     , mode='append')"
   ]
  },
  {
   "cell_type": "code",
   "execution_count": 60,
   "id": "9df20dee",
   "metadata": {},
   "outputs": [],
   "source": [
    "silver_date_df = silver_order_df \\\n",
    "            .select(silver_order_df.order_date.alias('date')) \\\n",
    "            .distinct()"
   ]
  },
  {
   "cell_type": "code",
   "execution_count": 61,
   "id": "98e1c4b2",
   "metadata": {},
   "outputs": [],
   "source": [
    "silver_date_str = \"silver_date_df\" \\\n",
    "                          f\".where(silver_date_df.date == '{order_date}')\" \\\n",
    "                          \".select(silver_date_df.date, \" \\\n",
    "                          \"func.dayofmonth('date').alias('day'), \" \\\n",
    "                          \"func.month('date').alias('month'), \" \\\n",
    "                          \"func.quarter('date').alias('quarter'), \" \\\n",
    "                          \"func.year('date').alias('year'), \" \\\n",
    "                          \"func.dayofweek('date').alias('week_day'), \" \\\n",
    "                          \"func.weekofyear('date').alias('week') )\""
   ]
  },
  {
   "cell_type": "code",
   "execution_count": 62,
   "id": "37a7de53",
   "metadata": {},
   "outputs": [],
   "source": [
    "silver_date_df = eval(silver_date_str)"
   ]
  },
  {
   "cell_type": "code",
   "execution_count": 63,
   "id": "c33f393f",
   "metadata": {},
   "outputs": [
    {
     "name": "stderr",
     "output_type": "stream",
     "text": [
      "                                                                                \r"
     ]
    },
    {
     "name": "stdout",
     "output_type": "stream",
     "text": [
      "+----+---+-----+-------+----+--------+----+\n",
      "|date|day|month|quarter|year|week_day|week|\n",
      "+----+---+-----+-------+----+--------+----+\n",
      "+----+---+-----+-------+----+--------+----+\n",
      "\n"
     ]
    }
   ],
   "source": [
    "silver_date_df.show()"
   ]
  },
  {
   "cell_type": "code",
   "execution_count": 64,
   "id": "c528d83e",
   "metadata": {},
   "outputs": [
    {
     "name": "stderr",
     "output_type": "stream",
     "text": [
      "                                                                                \r"
     ]
    }
   ],
   "source": [
    "silver_date_df.write \\\n",
    "            .parquet(os.path.join('/', 'datalake', 'silver', 'dshop_bu', 'date')\n",
    "                     , mode='append')"
   ]
  },
  {
   "cell_type": "code",
   "execution_count": 65,
   "id": "c140b3a2",
   "metadata": {},
   "outputs": [],
   "source": [
    "date_df = spark.read.parquet(os.path.join('/', 'datalake', 'silver', 'dshop_bu', 'date'))"
   ]
  },
  {
   "cell_type": "code",
   "execution_count": 66,
   "id": "2effb853",
   "metadata": {},
   "outputs": [
    {
     "data": {
      "text/plain": [
       "120"
      ]
     },
     "execution_count": 66,
     "metadata": {},
     "output_type": "execute_result"
    }
   ],
   "source": [
    "date_df.count()"
   ]
  },
  {
   "cell_type": "code",
   "execution_count": 67,
   "id": "423ecd14",
   "metadata": {},
   "outputs": [],
   "source": [
    "order_df = spark.read.parquet(os.path.join('/', 'datalake', 'silver', 'dshop_bu', 'order'))"
   ]
  },
  {
   "cell_type": "code",
   "execution_count": 68,
   "id": "01d5a156",
   "metadata": {},
   "outputs": [
    {
     "name": "stderr",
     "output_type": "stream",
     "text": [
      "                                                                                \r"
     ]
    },
    {
     "data": {
      "text/plain": [
       "8112551"
      ]
     },
     "execution_count": 68,
     "metadata": {},
     "output_type": "execute_result"
    }
   ],
   "source": [
    "order_df.count()"
   ]
  },
  {
   "cell_type": "code",
   "execution_count": 69,
   "id": "39df3760",
   "metadata": {},
   "outputs": [
    {
     "name": "stdout",
     "output_type": "stream",
     "text": [
      "+--------+----------+---------+--------+--------+----------+-----------+\n",
      "|order_id|product_id|client_id|store_id|quantity|order_date|order_month|\n",
      "+--------+----------+---------+--------+--------+----------+-----------+\n",
      "|  197879|     27427|      907|      28|       1|2021-03-01|          3|\n",
      "|  197918|      8294|     1064|       9|       1|2021-03-01|          3|\n",
      "|  197946|      6137|      266|      25|       1|2021-03-01|          3|\n",
      "|  197953|     33561|       44|      19|       1|2021-03-01|          3|\n",
      "|  197953|     45870|       44|      19|       1|2021-03-01|          3|\n",
      "|  198007|     28701|      116|      24|       1|2021-03-01|          3|\n",
      "|  198019|      5466|      204|      22|       1|2021-03-01|          3|\n",
      "|  198175|     22209|      189|      32|       1|2021-03-01|          3|\n",
      "|  198179|     15190|     1304|       2|       1|2021-03-01|          3|\n",
      "|  198220|     22511|      778|       7|       1|2021-03-01|          3|\n",
      "|  198262|     44792|      458|      22|       1|2021-03-01|          3|\n",
      "|  198323|     20423|      447|       6|       1|2021-03-01|          3|\n",
      "|  198333|     20407|     1288|      22|       1|2021-03-01|          3|\n",
      "|  198526|     35100|      512|       8|       1|2021-03-01|          3|\n",
      "|  198529|      4251|      575|      10|       1|2021-03-01|          3|\n",
      "|  198596|     23150|      524|       3|       1|2021-03-01|          3|\n",
      "|  198618|     15732|     1001|      30|       1|2021-03-01|          3|\n",
      "|  198628|      6682|      121|       5|       1|2021-03-01|          3|\n",
      "|  198650|     16268|      827|      19|       1|2021-03-01|          3|\n",
      "|  198840|     41013|      703|       7|       1|2021-03-01|          3|\n",
      "+--------+----------+---------+--------+--------+----------+-----------+\n",
      "only showing top 20 rows\n",
      "\n"
     ]
    }
   ],
   "source": [
    "order_df.show()"
   ]
  },
  {
   "cell_type": "code",
   "execution_count": 29,
   "id": "616004d0",
   "metadata": {},
   "outputs": [],
   "source": [
    "order_gold_df = order_df \\\n",
    "            .where(order_df.order_date == order_date) \\\n",
    "            .select('order_id', 'order_month', 'order_date', 'store_id', 'client_id', 'product_id', 'quantity')"
   ]
  },
  {
   "cell_type": "code",
   "execution_count": 30,
   "id": "e2f33247",
   "metadata": {},
   "outputs": [
    {
     "name": "stderr",
     "output_type": "stream",
     "text": [
      "                                                                                \r"
     ]
    },
    {
     "data": {
      "text/plain": [
       "8112551"
      ]
     },
     "execution_count": 30,
     "metadata": {},
     "output_type": "execute_result"
    }
   ],
   "source": [
    "order_gold_df.count()"
   ]
  },
  {
   "cell_type": "code",
   "execution_count": 31,
   "id": "7657b33c",
   "metadata": {},
   "outputs": [
    {
     "data": {
      "text/plain": [
       "Row(order_id=197879, order_month=3, order_date=datetime.date(2021, 3, 1), store_id=28, client_id=907, product_id=27427, quantity=1)"
      ]
     },
     "execution_count": 31,
     "metadata": {},
     "output_type": "execute_result"
    }
   ],
   "source": [
    "order_gold_df.first()"
   ]
  },
  {
   "cell_type": "code",
   "execution_count": 32,
   "id": "e8611b5c",
   "metadata": {},
   "outputs": [],
   "source": [
    "gp_url = \"jdbc:postgresql://192.168.1.56:5433/data_mart\"\n",
    "gp_properties = {\"user\": \"gpuser\", \"password\": \"secret\"}"
   ]
  },
  {
   "cell_type": "code",
   "execution_count": 33,
   "id": "197ff679",
   "metadata": {},
   "outputs": [
    {
     "ename": "Py4JJavaError",
     "evalue": "An error occurred while calling o170.jdbc.\n: java.sql.SQLException: No suitable driver\n\tat java.sql.DriverManager.getDriver(DriverManager.java:315)\n\tat org.apache.spark.sql.execution.datasources.jdbc.JDBCOptions.$anonfun$driverClass$2(JDBCOptions.scala:108)\n\tat scala.Option.getOrElse(Option.scala:189)\n\tat org.apache.spark.sql.execution.datasources.jdbc.JDBCOptions.<init>(JDBCOptions.scala:108)\n\tat org.apache.spark.sql.execution.datasources.jdbc.JdbcOptionsInWrite.<init>(JDBCOptions.scala:215)\n\tat org.apache.spark.sql.execution.datasources.jdbc.JdbcOptionsInWrite.<init>(JDBCOptions.scala:219)\n\tat org.apache.spark.sql.execution.datasources.jdbc.JdbcRelationProvider.createRelation(JdbcRelationProvider.scala:45)\n\tat org.apache.spark.sql.execution.datasources.SaveIntoDataSourceCommand.run(SaveIntoDataSourceCommand.scala:46)\n\tat org.apache.spark.sql.execution.command.ExecutedCommandExec.sideEffectResult$lzycompute(commands.scala:70)\n\tat org.apache.spark.sql.execution.command.ExecutedCommandExec.sideEffectResult(commands.scala:68)\n\tat org.apache.spark.sql.execution.command.ExecutedCommandExec.doExecute(commands.scala:90)\n\tat org.apache.spark.sql.execution.SparkPlan.$anonfun$execute$1(SparkPlan.scala:180)\n\tat org.apache.spark.sql.execution.SparkPlan.$anonfun$executeQuery$1(SparkPlan.scala:218)\n\tat org.apache.spark.rdd.RDDOperationScope$.withScope(RDDOperationScope.scala:151)\n\tat org.apache.spark.sql.execution.SparkPlan.executeQuery(SparkPlan.scala:215)\n\tat org.apache.spark.sql.execution.SparkPlan.execute(SparkPlan.scala:176)\n\tat org.apache.spark.sql.execution.QueryExecution.toRdd$lzycompute(QueryExecution.scala:132)\n\tat org.apache.spark.sql.execution.QueryExecution.toRdd(QueryExecution.scala:131)\n\tat org.apache.spark.sql.DataFrameWriter.$anonfun$runCommand$1(DataFrameWriter.scala:989)\n\tat org.apache.spark.sql.execution.SQLExecution$.$anonfun$withNewExecutionId$5(SQLExecution.scala:103)\n\tat org.apache.spark.sql.execution.SQLExecution$.withSQLConfPropagated(SQLExecution.scala:163)\n\tat org.apache.spark.sql.execution.SQLExecution$.$anonfun$withNewExecutionId$1(SQLExecution.scala:90)\n\tat org.apache.spark.sql.SparkSession.withActive(SparkSession.scala:772)\n\tat org.apache.spark.sql.execution.SQLExecution$.withNewExecutionId(SQLExecution.scala:64)\n\tat org.apache.spark.sql.DataFrameWriter.runCommand(DataFrameWriter.scala:989)\n\tat org.apache.spark.sql.DataFrameWriter.saveToV1Source(DataFrameWriter.scala:438)\n\tat org.apache.spark.sql.DataFrameWriter.saveInternal(DataFrameWriter.scala:415)\n\tat org.apache.spark.sql.DataFrameWriter.save(DataFrameWriter.scala:301)\n\tat org.apache.spark.sql.DataFrameWriter.jdbc(DataFrameWriter.scala:817)\n\tat sun.reflect.NativeMethodAccessorImpl.invoke0(Native Method)\n\tat sun.reflect.NativeMethodAccessorImpl.invoke(NativeMethodAccessorImpl.java:62)\n\tat sun.reflect.DelegatingMethodAccessorImpl.invoke(DelegatingMethodAccessorImpl.java:43)\n\tat java.lang.reflect.Method.invoke(Method.java:498)\n\tat py4j.reflection.MethodInvoker.invoke(MethodInvoker.java:244)\n\tat py4j.reflection.ReflectionEngine.invoke(ReflectionEngine.java:357)\n\tat py4j.Gateway.invoke(Gateway.java:282)\n\tat py4j.commands.AbstractCommand.invokeMethod(AbstractCommand.java:132)\n\tat py4j.commands.CallCommand.execute(CallCommand.java:79)\n\tat py4j.GatewayConnection.run(GatewayConnection.java:238)\n\tat java.lang.Thread.run(Thread.java:748)\n",
     "output_type": "error",
     "traceback": [
      "\u001b[0;31m---------------------------------------------------------------------------\u001b[0m",
      "\u001b[0;31mPy4JJavaError\u001b[0m                             Traceback (most recent call last)",
      "Input \u001b[0;32mIn [33]\u001b[0m, in \u001b[0;36m<module>\u001b[0;34m\u001b[0m\n\u001b[0;32m----> 1\u001b[0m \u001b[43morder_gold_df\u001b[49m\u001b[38;5;241;43m.\u001b[39;49m\u001b[43mwrite\u001b[49m\u001b[43m \u001b[49m\u001b[43m\\\u001b[49m\n\u001b[1;32m      2\u001b[0m \u001b[43m            \u001b[49m\u001b[38;5;241;43m.\u001b[39;49m\u001b[43mjdbc\u001b[49m\u001b[43m(\u001b[49m\u001b[43mgp_url\u001b[49m\n\u001b[1;32m      3\u001b[0m \u001b[43m                  \u001b[49m\u001b[43m,\u001b[49m\u001b[43m \u001b[49m\u001b[43mtable\u001b[49m\u001b[38;5;241;43m=\u001b[39;49m\u001b[38;5;124;43m\"\u001b[39;49m\u001b[38;5;124;43mpublic.fact_order\u001b[39;49m\u001b[38;5;124;43m\"\u001b[39;49m\n\u001b[1;32m      4\u001b[0m \u001b[43m                  \u001b[49m\u001b[43m,\u001b[49m\u001b[43m \u001b[49m\u001b[43mproperties\u001b[49m\u001b[38;5;241;43m=\u001b[39;49m\u001b[43mgp_properties\u001b[49m\n\u001b[1;32m      5\u001b[0m \u001b[43m                  \u001b[49m\u001b[43m,\u001b[49m\u001b[43m \u001b[49m\u001b[43mmode\u001b[49m\u001b[38;5;241;43m=\u001b[39;49m\u001b[38;5;124;43m\"\u001b[39;49m\u001b[38;5;124;43moverwrite\u001b[39;49m\u001b[38;5;124;43m\"\u001b[39;49m\u001b[43m)\u001b[49m\n",
      "File \u001b[0;32m~/.local/lib/python3.8/site-packages/pyspark/sql/readwriter.py:1444\u001b[0m, in \u001b[0;36mDataFrameWriter.jdbc\u001b[0;34m(self, url, table, mode, properties)\u001b[0m\n\u001b[1;32m   1442\u001b[0m \u001b[38;5;28;01mfor\u001b[39;00m k \u001b[38;5;129;01min\u001b[39;00m properties:\n\u001b[1;32m   1443\u001b[0m     jprop\u001b[38;5;241m.\u001b[39msetProperty(k, properties[k])\n\u001b[0;32m-> 1444\u001b[0m \u001b[38;5;28;43mself\u001b[39;49m\u001b[38;5;241;43m.\u001b[39;49m\u001b[43mmode\u001b[49m\u001b[43m(\u001b[49m\u001b[43mmode\u001b[49m\u001b[43m)\u001b[49m\u001b[38;5;241;43m.\u001b[39;49m\u001b[43m_jwrite\u001b[49m\u001b[38;5;241;43m.\u001b[39;49m\u001b[43mjdbc\u001b[49m\u001b[43m(\u001b[49m\u001b[43murl\u001b[49m\u001b[43m,\u001b[49m\u001b[43m \u001b[49m\u001b[43mtable\u001b[49m\u001b[43m,\u001b[49m\u001b[43m \u001b[49m\u001b[43mjprop\u001b[49m\u001b[43m)\u001b[49m\n",
      "File \u001b[0;32m~/.local/lib/python3.8/site-packages/py4j/java_gateway.py:1304\u001b[0m, in \u001b[0;36mJavaMember.__call__\u001b[0;34m(self, *args)\u001b[0m\n\u001b[1;32m   1298\u001b[0m command \u001b[38;5;241m=\u001b[39m proto\u001b[38;5;241m.\u001b[39mCALL_COMMAND_NAME \u001b[38;5;241m+\u001b[39m\\\n\u001b[1;32m   1299\u001b[0m     \u001b[38;5;28mself\u001b[39m\u001b[38;5;241m.\u001b[39mcommand_header \u001b[38;5;241m+\u001b[39m\\\n\u001b[1;32m   1300\u001b[0m     args_command \u001b[38;5;241m+\u001b[39m\\\n\u001b[1;32m   1301\u001b[0m     proto\u001b[38;5;241m.\u001b[39mEND_COMMAND_PART\n\u001b[1;32m   1303\u001b[0m answer \u001b[38;5;241m=\u001b[39m \u001b[38;5;28mself\u001b[39m\u001b[38;5;241m.\u001b[39mgateway_client\u001b[38;5;241m.\u001b[39msend_command(command)\n\u001b[0;32m-> 1304\u001b[0m return_value \u001b[38;5;241m=\u001b[39m \u001b[43mget_return_value\u001b[49m\u001b[43m(\u001b[49m\n\u001b[1;32m   1305\u001b[0m \u001b[43m    \u001b[49m\u001b[43manswer\u001b[49m\u001b[43m,\u001b[49m\u001b[43m \u001b[49m\u001b[38;5;28;43mself\u001b[39;49m\u001b[38;5;241;43m.\u001b[39;49m\u001b[43mgateway_client\u001b[49m\u001b[43m,\u001b[49m\u001b[43m \u001b[49m\u001b[38;5;28;43mself\u001b[39;49m\u001b[38;5;241;43m.\u001b[39;49m\u001b[43mtarget_id\u001b[49m\u001b[43m,\u001b[49m\u001b[43m \u001b[49m\u001b[38;5;28;43mself\u001b[39;49m\u001b[38;5;241;43m.\u001b[39;49m\u001b[43mname\u001b[49m\u001b[43m)\u001b[49m\n\u001b[1;32m   1307\u001b[0m \u001b[38;5;28;01mfor\u001b[39;00m temp_arg \u001b[38;5;129;01min\u001b[39;00m temp_args:\n\u001b[1;32m   1308\u001b[0m     temp_arg\u001b[38;5;241m.\u001b[39m_detach()\n",
      "File \u001b[0;32m~/.local/lib/python3.8/site-packages/pyspark/sql/utils.py:111\u001b[0m, in \u001b[0;36mcapture_sql_exception.<locals>.deco\u001b[0;34m(*a, **kw)\u001b[0m\n\u001b[1;32m    109\u001b[0m \u001b[38;5;28;01mdef\u001b[39;00m \u001b[38;5;21mdeco\u001b[39m(\u001b[38;5;241m*\u001b[39ma, \u001b[38;5;241m*\u001b[39m\u001b[38;5;241m*\u001b[39mkw):\n\u001b[1;32m    110\u001b[0m     \u001b[38;5;28;01mtry\u001b[39;00m:\n\u001b[0;32m--> 111\u001b[0m         \u001b[38;5;28;01mreturn\u001b[39;00m \u001b[43mf\u001b[49m\u001b[43m(\u001b[49m\u001b[38;5;241;43m*\u001b[39;49m\u001b[43ma\u001b[49m\u001b[43m,\u001b[49m\u001b[43m \u001b[49m\u001b[38;5;241;43m*\u001b[39;49m\u001b[38;5;241;43m*\u001b[39;49m\u001b[43mkw\u001b[49m\u001b[43m)\u001b[49m\n\u001b[1;32m    112\u001b[0m     \u001b[38;5;28;01mexcept\u001b[39;00m py4j\u001b[38;5;241m.\u001b[39mprotocol\u001b[38;5;241m.\u001b[39mPy4JJavaError \u001b[38;5;28;01mas\u001b[39;00m e:\n\u001b[1;32m    113\u001b[0m         converted \u001b[38;5;241m=\u001b[39m convert_exception(e\u001b[38;5;241m.\u001b[39mjava_exception)\n",
      "File \u001b[0;32m~/.local/lib/python3.8/site-packages/py4j/protocol.py:326\u001b[0m, in \u001b[0;36mget_return_value\u001b[0;34m(answer, gateway_client, target_id, name)\u001b[0m\n\u001b[1;32m    324\u001b[0m value \u001b[38;5;241m=\u001b[39m OUTPUT_CONVERTER[\u001b[38;5;28mtype\u001b[39m](answer[\u001b[38;5;241m2\u001b[39m:], gateway_client)\n\u001b[1;32m    325\u001b[0m \u001b[38;5;28;01mif\u001b[39;00m answer[\u001b[38;5;241m1\u001b[39m] \u001b[38;5;241m==\u001b[39m REFERENCE_TYPE:\n\u001b[0;32m--> 326\u001b[0m     \u001b[38;5;28;01mraise\u001b[39;00m Py4JJavaError(\n\u001b[1;32m    327\u001b[0m         \u001b[38;5;124m\"\u001b[39m\u001b[38;5;124mAn error occurred while calling \u001b[39m\u001b[38;5;132;01m{0}\u001b[39;00m\u001b[38;5;132;01m{1}\u001b[39;00m\u001b[38;5;132;01m{2}\u001b[39;00m\u001b[38;5;124m.\u001b[39m\u001b[38;5;130;01m\\n\u001b[39;00m\u001b[38;5;124m\"\u001b[39m\u001b[38;5;241m.\u001b[39m\n\u001b[1;32m    328\u001b[0m         \u001b[38;5;28mformat\u001b[39m(target_id, \u001b[38;5;124m\"\u001b[39m\u001b[38;5;124m.\u001b[39m\u001b[38;5;124m\"\u001b[39m, name), value)\n\u001b[1;32m    329\u001b[0m \u001b[38;5;28;01melse\u001b[39;00m:\n\u001b[1;32m    330\u001b[0m     \u001b[38;5;28;01mraise\u001b[39;00m Py4JError(\n\u001b[1;32m    331\u001b[0m         \u001b[38;5;124m\"\u001b[39m\u001b[38;5;124mAn error occurred while calling \u001b[39m\u001b[38;5;132;01m{0}\u001b[39;00m\u001b[38;5;132;01m{1}\u001b[39;00m\u001b[38;5;132;01m{2}\u001b[39;00m\u001b[38;5;124m. Trace:\u001b[39m\u001b[38;5;130;01m\\n\u001b[39;00m\u001b[38;5;132;01m{3}\u001b[39;00m\u001b[38;5;130;01m\\n\u001b[39;00m\u001b[38;5;124m\"\u001b[39m\u001b[38;5;241m.\u001b[39m\n\u001b[1;32m    332\u001b[0m         \u001b[38;5;28mformat\u001b[39m(target_id, \u001b[38;5;124m\"\u001b[39m\u001b[38;5;124m.\u001b[39m\u001b[38;5;124m\"\u001b[39m, name, value))\n",
      "\u001b[0;31mPy4JJavaError\u001b[0m: An error occurred while calling o170.jdbc.\n: java.sql.SQLException: No suitable driver\n\tat java.sql.DriverManager.getDriver(DriverManager.java:315)\n\tat org.apache.spark.sql.execution.datasources.jdbc.JDBCOptions.$anonfun$driverClass$2(JDBCOptions.scala:108)\n\tat scala.Option.getOrElse(Option.scala:189)\n\tat org.apache.spark.sql.execution.datasources.jdbc.JDBCOptions.<init>(JDBCOptions.scala:108)\n\tat org.apache.spark.sql.execution.datasources.jdbc.JdbcOptionsInWrite.<init>(JDBCOptions.scala:215)\n\tat org.apache.spark.sql.execution.datasources.jdbc.JdbcOptionsInWrite.<init>(JDBCOptions.scala:219)\n\tat org.apache.spark.sql.execution.datasources.jdbc.JdbcRelationProvider.createRelation(JdbcRelationProvider.scala:45)\n\tat org.apache.spark.sql.execution.datasources.SaveIntoDataSourceCommand.run(SaveIntoDataSourceCommand.scala:46)\n\tat org.apache.spark.sql.execution.command.ExecutedCommandExec.sideEffectResult$lzycompute(commands.scala:70)\n\tat org.apache.spark.sql.execution.command.ExecutedCommandExec.sideEffectResult(commands.scala:68)\n\tat org.apache.spark.sql.execution.command.ExecutedCommandExec.doExecute(commands.scala:90)\n\tat org.apache.spark.sql.execution.SparkPlan.$anonfun$execute$1(SparkPlan.scala:180)\n\tat org.apache.spark.sql.execution.SparkPlan.$anonfun$executeQuery$1(SparkPlan.scala:218)\n\tat org.apache.spark.rdd.RDDOperationScope$.withScope(RDDOperationScope.scala:151)\n\tat org.apache.spark.sql.execution.SparkPlan.executeQuery(SparkPlan.scala:215)\n\tat org.apache.spark.sql.execution.SparkPlan.execute(SparkPlan.scala:176)\n\tat org.apache.spark.sql.execution.QueryExecution.toRdd$lzycompute(QueryExecution.scala:132)\n\tat org.apache.spark.sql.execution.QueryExecution.toRdd(QueryExecution.scala:131)\n\tat org.apache.spark.sql.DataFrameWriter.$anonfun$runCommand$1(DataFrameWriter.scala:989)\n\tat org.apache.spark.sql.execution.SQLExecution$.$anonfun$withNewExecutionId$5(SQLExecution.scala:103)\n\tat org.apache.spark.sql.execution.SQLExecution$.withSQLConfPropagated(SQLExecution.scala:163)\n\tat org.apache.spark.sql.execution.SQLExecution$.$anonfun$withNewExecutionId$1(SQLExecution.scala:90)\n\tat org.apache.spark.sql.SparkSession.withActive(SparkSession.scala:772)\n\tat org.apache.spark.sql.execution.SQLExecution$.withNewExecutionId(SQLExecution.scala:64)\n\tat org.apache.spark.sql.DataFrameWriter.runCommand(DataFrameWriter.scala:989)\n\tat org.apache.spark.sql.DataFrameWriter.saveToV1Source(DataFrameWriter.scala:438)\n\tat org.apache.spark.sql.DataFrameWriter.saveInternal(DataFrameWriter.scala:415)\n\tat org.apache.spark.sql.DataFrameWriter.save(DataFrameWriter.scala:301)\n\tat org.apache.spark.sql.DataFrameWriter.jdbc(DataFrameWriter.scala:817)\n\tat sun.reflect.NativeMethodAccessorImpl.invoke0(Native Method)\n\tat sun.reflect.NativeMethodAccessorImpl.invoke(NativeMethodAccessorImpl.java:62)\n\tat sun.reflect.DelegatingMethodAccessorImpl.invoke(DelegatingMethodAccessorImpl.java:43)\n\tat java.lang.reflect.Method.invoke(Method.java:498)\n\tat py4j.reflection.MethodInvoker.invoke(MethodInvoker.java:244)\n\tat py4j.reflection.ReflectionEngine.invoke(ReflectionEngine.java:357)\n\tat py4j.Gateway.invoke(Gateway.java:282)\n\tat py4j.commands.AbstractCommand.invokeMethod(AbstractCommand.java:132)\n\tat py4j.commands.CallCommand.execute(CallCommand.java:79)\n\tat py4j.GatewayConnection.run(GatewayConnection.java:238)\n\tat java.lang.Thread.run(Thread.java:748)\n"
     ]
    }
   ],
   "source": [
    "order_gold_df.write \\\n",
    "            .jdbc(gp_url\n",
    "                  , table=\"public.fact_order\"\n",
    "                  , properties=gp_properties\n",
    "                  , mode=\"overwrite\")"
   ]
  },
  {
   "cell_type": "code",
   "execution_count": null,
   "id": "f1fb822c",
   "metadata": {},
   "outputs": [],
   "source": [
    "bronze_oos_df = spark.read \\\n",
    "        .load(os.path.join('/', 'datalake', 'bronze', 'rd_payload', '2021-07-06', 'api_values.json'),\n",
    "              header=\"true\",\n",
    "              inferSchema=\"true\",\n",
    "              format=\"json\"\n",
    "              )"
   ]
  },
  {
   "cell_type": "code",
   "execution_count": null,
   "id": "a58f6ef5",
   "metadata": {},
   "outputs": [],
   "source": [
    "display(bronze_oos_df)"
   ]
  },
  {
   "cell_type": "code",
   "execution_count": null,
   "id": "4a48d8da",
   "metadata": {},
   "outputs": [],
   "source": [
    "bronze_oos_df.count()"
   ]
  },
  {
   "cell_type": "code",
   "execution_count": null,
   "id": "bb1e7541",
   "metadata": {},
   "outputs": [],
   "source": [
    "silver_oos_df = bronze_oos_df \\\n",
    "            .withColumn('date', func.col('date').cast('date')) \\\n",
    "            .withColumnRenamed('date', 'process_date') \\\n",
    "            .dropDuplicates()"
   ]
  },
  {
   "cell_type": "code",
   "execution_count": null,
   "id": "2418768d",
   "metadata": {},
   "outputs": [],
   "source": [
    "display(silver_oos_df)"
   ]
  },
  {
   "cell_type": "code",
   "execution_count": null,
   "id": "abe13fde",
   "metadata": {},
   "outputs": [],
   "source": [
    "silver_oos_df.first()"
   ]
  },
  {
   "cell_type": "code",
   "execution_count": null,
   "id": "5730beb6",
   "metadata": {},
   "outputs": [],
   "source": [
    "silver_oos_df.count()"
   ]
  },
  {
   "cell_type": "code",
   "execution_count": 70,
   "id": "e12df1b7",
   "metadata": {},
   "outputs": [],
   "source": [
    "oos_df = spark.read.parquet(os.path.join('/', 'datalake', 'silver', 'rd_payload'))"
   ]
  },
  {
   "cell_type": "code",
   "execution_count": 71,
   "id": "511782f4",
   "metadata": {},
   "outputs": [
    {
     "name": "stdout",
     "output_type": "stream",
     "text": [
      "+----------+------------+\n",
      "|product_id|process_date|\n",
      "+----------+------------+\n",
      "|      1161|  2021-07-05|\n",
      "|     22924|  2021-07-05|\n",
      "|      4964|  2021-07-05|\n",
      "|      5255|  2021-07-05|\n",
      "|     31303|  2021-07-05|\n",
      "|     45621|  2021-07-05|\n",
      "|      3738|  2021-07-05|\n",
      "|     21412|  2021-07-05|\n",
      "|     37544|  2021-07-05|\n",
      "|      5644|  2021-07-05|\n",
      "|       616|  2021-07-05|\n",
      "|     28932|  2021-07-05|\n",
      "|     27794|  2021-07-05|\n",
      "|     46493|  2021-07-05|\n",
      "|     25390|  2021-07-05|\n",
      "|      1161|  2021-07-05|\n",
      "|     22924|  2021-07-05|\n",
      "|      4964|  2021-07-05|\n",
      "|      5255|  2021-07-05|\n",
      "|     31303|  2021-07-05|\n",
      "+----------+------------+\n",
      "only showing top 20 rows\n",
      "\n"
     ]
    }
   ],
   "source": [
    "oos_df.where(oos_df.process_date == '2021-07-05').show()"
   ]
  },
  {
   "cell_type": "code",
   "execution_count": 73,
   "id": "e428172b",
   "metadata": {},
   "outputs": [
    {
     "name": "stderr",
     "output_type": "stream",
     "text": [
      "                                                                                \r"
     ]
    },
    {
     "data": {
      "text/plain": [
       "1532"
      ]
     },
     "execution_count": 73,
     "metadata": {},
     "output_type": "execute_result"
    }
   ],
   "source": [
    "oos_df.where(oos_df.process_date == '2021-07-05').distinct().count()"
   ]
  },
  {
   "cell_type": "code",
   "execution_count": 74,
   "id": "8a3e07a7",
   "metadata": {},
   "outputs": [
    {
     "name": "stdout",
     "output_type": "stream",
     "text": [
      "+----------+------------+\n",
      "|product_id|process_date|\n",
      "+----------+------------+\n",
      "|     29268|  2021-07-06|\n",
      "|     22077|  2021-07-06|\n",
      "|     16719|  2021-07-06|\n",
      "|     16061|  2021-07-06|\n",
      "|     23007|  2021-07-06|\n",
      "|     27394|  2021-07-06|\n",
      "|     26444|  2021-07-06|\n",
      "|     28396|  2021-07-06|\n",
      "|     33296|  2021-07-06|\n",
      "|     21584|  2021-07-06|\n",
      "|     43107|  2021-07-06|\n",
      "|     12785|  2021-07-06|\n",
      "|      5292|  2021-07-06|\n",
      "|       277|  2021-07-06|\n",
      "|     20342|  2021-07-06|\n",
      "|      5543|  2021-07-06|\n",
      "|     45254|  2021-07-06|\n",
      "|     44475|  2021-07-06|\n",
      "|      9712|  2021-07-06|\n",
      "|     29268|  2021-07-06|\n",
      "+----------+------------+\n",
      "only showing top 20 rows\n",
      "\n"
     ]
    }
   ],
   "source": [
    "oos_df.where(oos_df.process_date == '2021-07-06').show()"
   ]
  },
  {
   "cell_type": "code",
   "execution_count": 76,
   "id": "8b6fa659",
   "metadata": {},
   "outputs": [
    {
     "name": "stderr",
     "output_type": "stream",
     "text": [
      "                                                                                \r"
     ]
    },
    {
     "data": {
      "text/plain": [
       "1762"
      ]
     },
     "execution_count": 76,
     "metadata": {},
     "output_type": "execute_result"
    }
   ],
   "source": [
    "oos_df.where(oos_df.process_date == '2021-07-06').distinct().count()"
   ]
  },
  {
   "cell_type": "code",
   "execution_count": 77,
   "id": "7c0e168e",
   "metadata": {},
   "outputs": [
    {
     "name": "stderr",
     "output_type": "stream",
     "text": [
      "                                                                                \r"
     ]
    },
    {
     "data": {
      "text/plain": [
       "9391"
      ]
     },
     "execution_count": 77,
     "metadata": {},
     "output_type": "execute_result"
    }
   ],
   "source": [
    "oos_df.count()"
   ]
  },
  {
   "cell_type": "code",
   "execution_count": 34,
   "id": "73534a40",
   "metadata": {},
   "outputs": [],
   "source": [
    "bronze_currency_df = spark.read \\\n",
    "        .load(os.path.join('/', 'datalake', 'bronze', 'currencies', '2022-04-29', 'RUB_EUR.json'),\n",
    "              header=\"true\",\n",
    "              inferSchema=\"true\",\n",
    "              format=\"json\",\n",
    "              multiline=\"true\"\n",
    "              )"
   ]
  },
  {
   "cell_type": "code",
   "execution_count": 40,
   "id": "370ef84a",
   "metadata": {},
   "outputs": [],
   "source": [
    "currency = 'RUB'\n",
    "process_date = '2022-04-29'"
   ]
  },
  {
   "cell_type": "code",
   "execution_count": 36,
   "id": "92b9b78a",
   "metadata": {},
   "outputs": [],
   "source": [
    "silver_currency_df = bronze_currency_df \\\n",
    "                .withColumn('rates.RUB', func.col('rates.RUB').cast('double')) \\\n",
    "                .withColumnRenamed('rates.RUB', 'rate')"
   ]
  },
  {
   "cell_type": "code",
   "execution_count": 37,
   "id": "8d85c2d0",
   "metadata": {},
   "outputs": [],
   "source": [
    "silver_currency_df = silver_currency_df \\\n",
    "            .withColumn('currency', func.lit(currency)) \\\n",
    "            .withColumn('rate_month', func.month('date')) \\\n",
    "            .withColumn('date', func.col('date').cast('date')) \\\n",
    "            .withColumnRenamed('base', 'currency_base') \\\n",
    "            .withColumnRenamed('date', 'rate_date') \\\n",
    "            .drop('success') \\\n",
    "            .drop('timestamp') \\\n",
    "            .drop('rates')"
   ]
  },
  {
   "cell_type": "code",
   "execution_count": 41,
   "id": "717d69e4",
   "metadata": {},
   "outputs": [],
   "source": [
    "silver_currency_df = silver_currency_df \\\n",
    "            .where(silver_currency_df.rate_date == process_date) \\\n",
    "            .dropDuplicates() \\\n",
    "            .select('currency_base', 'currency', 'rate_date', 'rate_month', 'rate')"
   ]
  },
  {
   "cell_type": "code",
   "execution_count": 42,
   "id": "ebde5441",
   "metadata": {},
   "outputs": [
    {
     "data": {
      "text/plain": [
       "DataFrame[currency_base: string, currency: string, rate_date: date, rate_month: int, rate: double]"
      ]
     },
     "metadata": {},
     "output_type": "display_data"
    }
   ],
   "source": [
    "display(silver_currency_df)"
   ]
  },
  {
   "cell_type": "code",
   "execution_count": 43,
   "id": "6fa627eb",
   "metadata": {},
   "outputs": [
    {
     "name": "stderr",
     "output_type": "stream",
     "text": [
      "\r",
      "[Stage 52:============================================>         (164 + 1) / 200]\r",
      "\r",
      "                                                                                \r"
     ]
    },
    {
     "data": {
      "text/plain": [
       "1"
      ]
     },
     "execution_count": 43,
     "metadata": {},
     "output_type": "execute_result"
    }
   ],
   "source": [
    "silver_currency_df.count()"
   ]
  },
  {
   "cell_type": "code",
   "execution_count": 44,
   "id": "c86412d3",
   "metadata": {},
   "outputs": [
    {
     "name": "stdout",
     "output_type": "stream",
     "text": [
      "+-------------+--------+----------+----------+---------+\n",
      "|currency_base|currency| rate_date|rate_month|     rate|\n",
      "+-------------+--------+----------+----------+---------+\n",
      "|          EUR|     RUB|2022-04-29|         4|75.295908|\n",
      "+-------------+--------+----------+----------+---------+\n",
      "\n"
     ]
    }
   ],
   "source": [
    "silver_currency_df.show()"
   ]
  },
  {
   "cell_type": "code",
   "execution_count": null,
   "id": "82aa43a3",
   "metadata": {},
   "outputs": [],
   "source": [
    "silver_currency_df.write \\\n",
    "        .partitionBy('rate_month') \\\n",
    "        .parquet(os.path.join('/', 'datalake', 'silver', 'currencies', 'RUB_EUR')\n",
    "                 , mode='append')"
   ]
  },
  {
   "cell_type": "code",
   "execution_count": 45,
   "id": "41af0331",
   "metadata": {},
   "outputs": [],
   "source": [
    "currency_silver_df = spark.read.parquet(os.path.join('/', 'datalake', 'silver', 'currencies', 'RUB_EUR'))"
   ]
  },
  {
   "cell_type": "code",
   "execution_count": 46,
   "id": "2420fda1",
   "metadata": {},
   "outputs": [],
   "source": [
    "process_date = '2022-04-29'"
   ]
  },
  {
   "cell_type": "code",
   "execution_count": 48,
   "id": "0021969a",
   "metadata": {},
   "outputs": [],
   "source": [
    "currency_silver_df = currency_silver_df \\\n",
    "                .where(currency_silver_df.rate_date == process_date) \\\n",
    "                .dropDuplicates() \\\n",
    "                .select('currency_base', 'currency', 'rate_date', 'rate_month', 'rate')"
   ]
  },
  {
   "cell_type": "code",
   "execution_count": 49,
   "id": "da7c19c6",
   "metadata": {},
   "outputs": [
    {
     "name": "stdout",
     "output_type": "stream",
     "text": [
      "+-------------+--------+----------+----------+---------+\n",
      "|currency_base|currency| rate_date|rate_month|     rate|\n",
      "+-------------+--------+----------+----------+---------+\n",
      "|          EUR|     RUB|2022-04-29|         4|75.295908|\n",
      "+-------------+--------+----------+----------+---------+\n",
      "\n"
     ]
    }
   ],
   "source": [
    "currency_silver_df.show()"
   ]
  },
  {
   "cell_type": "code",
   "execution_count": null,
   "id": "f2fd1d1e",
   "metadata": {},
   "outputs": [],
   "source": [
    "display(currency_silver_df)"
   ]
  },
  {
   "cell_type": "code",
   "execution_count": null,
   "id": "a17bbdf3",
   "metadata": {},
   "outputs": [],
   "source": [
    "currency_silver_df.write \\\n",
    "            .partitionBy('rate_month') \\\n",
    "            .parquet(os.path.join('/', 'datalake', 'gold', 'currencies', 'currency')\n",
    "                     , mode='append')"
   ]
  },
  {
   "cell_type": "code",
   "execution_count": null,
   "id": "e7e49412",
   "metadata": {},
   "outputs": [],
   "source": [
    "display(currency_RUB_df)"
   ]
  },
  {
   "cell_type": "code",
   "execution_count": null,
   "id": "fd8663b7",
   "metadata": {},
   "outputs": [],
   "source": [
    "currency_RUB_df.show(100)"
   ]
  },
  {
   "cell_type": "code",
   "execution_count": null,
   "id": "b137dbcb",
   "metadata": {},
   "outputs": [],
   "source": [
    "currency_df = currency_RUB_df.where(currency_RUB_df.rate_date == '2022-04-27')"
   ]
  },
  {
   "cell_type": "code",
   "execution_count": null,
   "id": "4aa0ea9a",
   "metadata": {},
   "outputs": [],
   "source": [
    "currency_df = currency_df.union(currency_USD_df.where(currency_USD_df.rate_date == '2022-04-27'))"
   ]
  },
  {
   "cell_type": "code",
   "execution_count": null,
   "id": "a5c28d7a",
   "metadata": {},
   "outputs": [],
   "source": [
    "currency_df = currency_df.union(currency_GBP_df.where(currency_GBP_df.rate_date == '2022-04-27'))"
   ]
  },
  {
   "cell_type": "code",
   "execution_count": null,
   "id": "f53a1fe2",
   "metadata": {},
   "outputs": [],
   "source": [
    "currency_df = currency_df.union(currency_PLN_df.where(currency_PLN_df.rate_date == '2022-04-27'))"
   ]
  },
  {
   "cell_type": "code",
   "execution_count": null,
   "id": "3957df75",
   "metadata": {},
   "outputs": [],
   "source": [
    "currency_df = currency_df.union(currency_UAH_df.where(currency_UAH_df.rate_date == '2022-04-27'))"
   ]
  },
  {
   "cell_type": "code",
   "execution_count": null,
   "id": "305ddcbc",
   "metadata": {},
   "outputs": [],
   "source": [
    "display(currency_df)"
   ]
  },
  {
   "cell_type": "code",
   "execution_count": null,
   "id": "f1548007",
   "metadata": {},
   "outputs": [],
   "source": [
    "currency_df.show(100)"
   ]
  },
  {
   "cell_type": "code",
   "execution_count": null,
   "id": "efb1c5cd",
   "metadata": {},
   "outputs": [],
   "source": [
    "gp_url = \"jdbc:postgresql://192.168.0.16:5433/data_mart\"\n",
    "gp_properties = {\"user\": \"gpuser\", \"password\": \"secret\"}"
   ]
  },
  {
   "cell_type": "code",
   "execution_count": null,
   "id": "b3b7453e",
   "metadata": {},
   "outputs": [],
   "source": [
    "currency_df.write \\\n",
    "               .jdbc(gp_url, table=\"public.fact_currency_rate\", properties=gp_properties, mode=\"overwrite\")"
   ]
  },
  {
   "cell_type": "code",
   "execution_count": null,
   "id": "61ddeff1",
   "metadata": {},
   "outputs": [],
   "source": [
    "currency_df.write.jdbc(gp_url\n",
    "                   , table = 'public.fact_currency_rate'\n",
    "                   , properties = gp_properties\n",
    "                   , mode = 'overwrite')"
   ]
  },
  {
   "cell_type": "code",
   "execution_count": null,
   "id": "02752a3d",
   "metadata": {},
   "outputs": [],
   "source": []
  }
 ],
 "metadata": {
  "kernelspec": {
   "display_name": "Python 3 (ipykernel)",
   "language": "python",
   "name": "python3"
  },
  "language_info": {
   "codemirror_mode": {
    "name": "ipython",
    "version": 3
   },
   "file_extension": ".py",
   "mimetype": "text/x-python",
   "name": "python",
   "nbconvert_exporter": "python",
   "pygments_lexer": "ipython3",
   "version": "3.8.8"
  }
 },
 "nbformat": 4,
 "nbformat_minor": 5
}
