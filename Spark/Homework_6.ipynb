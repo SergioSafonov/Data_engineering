{
 "cells": [
  {
   "cell_type": "code",
   "execution_count": 100,
   "id": "9dcbb8eb",
   "metadata": {},
   "outputs": [],
   "source": [
    "import os\n",
    "from datetime import datetime\n",
    "\n",
    "import psycopg2\n",
    "\n",
    "from pyspark.sql import SparkSession\n",
    "from pyspark.sql import Window\n",
    "import pyspark.sql.functions as F\n",
    "\n",
    "from hdfs import InsecureClient"
   ]
  },
  {
   "cell_type": "code",
   "execution_count": 2,
   "id": "ab3f964b",
   "metadata": {},
   "outputs": [
    {
     "name": "stderr",
     "output_type": "stream",
     "text": [
      "Setting default log level to \"WARN\".\n",
      "To adjust logging level use sc.setLogLevel(newLevel). For SparkR, use setLogLevel(newLevel).\n",
      "22/02/22 13:51:01 WARN util.Utils: Service 'SparkUI' could not bind on port 4040. Attempting port 4041.\n",
      "22/02/22 13:51:01 WARN util.Utils: Service 'SparkUI' could not bind on port 4041. Attempting port 4042.\n",
      "22/02/22 13:51:01 WARN util.Utils: Service 'SparkUI' could not bind on port 4042. Attempting port 4043.\n"
     ]
    }
   ],
   "source": [
    "spark = SparkSession\\\n",
    "    .builder\\\n",
    "    .config('spark.driver.extraClassPath'\n",
    "            , '/home/user/shared_folder/Distrib/postgresql-42.2.23.jar')\\\n",
    "    .master('local')\\\n",
    "    .appName(\"homework_6\")\\\n",
    "    .getOrCreate()"
   ]
  },
  {
   "cell_type": "code",
   "execution_count": 3,
   "id": "b751b1b0",
   "metadata": {},
   "outputs": [],
   "source": [
    "# Load Pagila tables to Bronze HDFS"
   ]
  },
  {
   "cell_type": "code",
   "execution_count": 4,
   "id": "8db88ac8",
   "metadata": {},
   "outputs": [],
   "source": [
    "pg_creds = {\n",
    "    'host': '192.168.1.56',\n",
    "    'port': '5432',\n",
    "    'database': 'pagila',\n",
    "    'user': 'pguser',\n",
    "    'password': 'secret',\n",
    "}"
   ]
  },
  {
   "cell_type": "code",
   "execution_count": 5,
   "id": "7298d6ac",
   "metadata": {},
   "outputs": [],
   "source": [
    "tables_to_load = (  \n",
    "     'actor'\n",
    "    ,'category'\n",
    "    ,'film'\n",
    "    ,'film_actor'\n",
    "    ,'film_category'\n",
    "    ,'customer'\n",
    "    ,'address'\n",
    "    ,'city'\n",
    "    ,'inventory'\n",
    "    ,'rental'\n",
    ")"
   ]
  },
  {
   "cell_type": "code",
   "execution_count": 6,
   "id": "3f185e53",
   "metadata": {},
   "outputs": [],
   "source": [
    "hdfs_url = 'http://127.0.0.1:50070/'"
   ]
  },
  {
   "cell_type": "code",
   "execution_count": 7,
   "id": "3bba3475",
   "metadata": {},
   "outputs": [],
   "source": [
    "client_hdfs = InsecureClient(hdfs_url, user='user')"
   ]
  },
  {
   "cell_type": "code",
   "execution_count": 8,
   "id": "b80be2bf",
   "metadata": {},
   "outputs": [],
   "source": [
    "current_date = datetime.now().strftime(\"%Y-%m-%d\")"
   ]
  },
  {
   "cell_type": "code",
   "execution_count": 10,
   "id": "029eb048",
   "metadata": {},
   "outputs": [],
   "source": [
    "for table_name in tables_to_load:\n",
    "    \n",
    "    bronze_dir = os.path.join('/', 'datalake', 'bronze', 'pagila', table_name, current_date)\n",
    "                               \n",
    "    with psycopg2.connect(**pg_creds) as pg_connection:\n",
    "        cursor = pg_connection.cursor()\n",
    "        \n",
    "        with client_hdfs.write(os.path.join(bronze_dir, table_name + '.csv'), overwrite=True) as csv_file:\n",
    "            cursor.copy_expert(f\"COPY {table_name} TO STDOUT WITH HEADER CSV\", csv_file)"
   ]
  },
  {
   "cell_type": "code",
   "execution_count": 11,
   "id": "1895b00e",
   "metadata": {},
   "outputs": [],
   "source": [
    "# Read used csv files to DataFrames"
   ]
  },
  {
   "cell_type": "code",
   "execution_count": 54,
   "id": "5448ac0b",
   "metadata": {},
   "outputs": [],
   "source": [
    "actor_df = spark.read.load(\n",
    "    os.path.join('/', 'datalake', 'bronze', 'pagila', 'actor', current_date, 'actor.csv')\n",
    "    , header=\"true\"\n",
    "    , inferSchema=\"true\"\n",
    "    , format=\"csv\"\n",
    ")\n",
    "category_df = spark.read.load(\n",
    "    os.path.join('/', 'datalake', 'bronze', 'pagila', 'category', current_date, 'category.csv')\n",
    "    , header=\"true\"\n",
    "    , inferSchema=\"true\"\n",
    "    , format=\"csv\"\n",
    ")\n",
    "film_df = spark.read.load(\n",
    "    os.path.join('/', 'datalake', 'bronze', 'pagila', 'film', current_date, 'film.csv')\n",
    "    , header=\"true\"\n",
    "    , inferSchema=\"true\"\n",
    "    , format=\"csv\"\n",
    ")\n",
    "film_actor_df = spark.read.load(\n",
    "    os.path.join('/', 'datalake', 'bronze', 'pagila', 'film_actor', current_date, 'film_actor.csv')\n",
    "    , header=\"true\"\n",
    "    , inferSchema=\"true\"\n",
    "    , format=\"csv\"\n",
    ")\n",
    "film_category_df = spark.read.load(\n",
    "    os.path.join('/', 'datalake', 'bronze', 'pagila', 'film_category', current_date, 'film_category.csv')\n",
    "    , header=\"true\"\n",
    "    , inferSchema=\"true\"\n",
    "    , format=\"csv\"\n",
    ")\n",
    "customer_df = spark.read.load(\n",
    "    os.path.join('/', 'datalake', 'bronze', 'pagila', 'customer', current_date, 'customer.csv')\n",
    "    , header=\"true\"\n",
    "    , inferSchema=\"true\"\n",
    "    , format=\"csv\"\n",
    ")\n",
    "address_df = spark.read.load(\n",
    "    os.path.join('/', 'datalake', 'bronze', 'pagila', 'address', current_date, 'address.csv')\n",
    "    , header=\"true\"\n",
    "    , inferSchema=\"true\"\n",
    "    , format=\"csv\"\n",
    ")\n",
    "city_df = spark.read.load(\n",
    "    os.path.join('/', 'datalake', 'bronze', 'pagila', 'city', current_date, 'city.csv')\n",
    "    , header=\"true\"\n",
    "    , inferSchema=\"true\"\n",
    "    , format=\"csv\"\n",
    ")\n",
    "inventory_df = spark.read.load(\n",
    "    os.path.join('/', 'datalake', 'bronze', 'pagila', 'inventory', current_date, 'inventory.csv')\n",
    "    , header=\"true\"\n",
    "    , inferSchema=\"true\"\n",
    "    , format=\"csv\"\n",
    ")\n",
    "rental_df = spark.read.load(\n",
    "    os.path.join('/', 'datalake', 'bronze', 'pagila', 'rental', current_date, 'rental.csv')\n",
    "    , header=\"true\"\n",
    "    , inferSchema=\"true\"\n",
    "    , format=\"csv\"\n",
    ")"
   ]
  },
  {
   "cell_type": "code",
   "execution_count": 13,
   "id": "3ae6d09e",
   "metadata": {},
   "outputs": [],
   "source": [
    "#1 вывести количество фильмов в каждой категории, отсортировать по убыванию."
   ]
  },
  {
   "cell_type": "code",
   "execution_count": 55,
   "id": "455e1f7d",
   "metadata": {},
   "outputs": [
    {
     "name": "stdout",
     "output_type": "stream",
     "text": [
      "+-------------+-----+\n",
      "|category_name|count|\n",
      "+-------------+-----+\n",
      "|       Sports|   74|\n",
      "|      Foreign|   73|\n",
      "|       Family|   69|\n",
      "|  Documentary|   68|\n",
      "|    Animation|   66|\n",
      "|       Action|   64|\n",
      "|          New|   63|\n",
      "|        Drama|   62|\n",
      "|       Sci-Fi|   61|\n",
      "|        Games|   61|\n",
      "|     Children|   60|\n",
      "|       Comedy|   58|\n",
      "|       Travel|   57|\n",
      "|     Classics|   57|\n",
      "|       Horror|   56|\n",
      "|        Music|   51|\n",
      "+-------------+-----+\n",
      "\n"
     ]
    },
    {
     "name": "stderr",
     "output_type": "stream",
     "text": [
      "                                                                                \r"
     ]
    }
   ],
   "source": [
    "result_1 = film_category_df\\\n",
    "    .join(category_df\n",
    "         , film_category_df.category_id == category_df.category_id\n",
    "         , 'inner')\\\n",
    "    .select(category_df.name.alias('category_name'))\n",
    "\n",
    "result_1 = result_1.groupBy('category_name')\\\n",
    "    .count().orderBy(F.desc('count')).show()"
   ]
  },
  {
   "cell_type": "code",
   "execution_count": 18,
   "id": "0b740c2a",
   "metadata": {},
   "outputs": [],
   "source": [
    "#2 вывести 10 актеров, чьи фильмы большего всего арендовали, отсортировать по убыванию."
   ]
  },
  {
   "cell_type": "code",
   "execution_count": 56,
   "id": "778c73f8",
   "metadata": {},
   "outputs": [
    {
     "name": "stdout",
     "output_type": "stream",
     "text": [
      "+----------+---------+--------------------+\n",
      "|first_name|last_name|sum(rental_duration)|\n",
      "+----------+---------+--------------------+\n",
      "|     SUSAN|    DAVIS|                 484|\n",
      "|      GINA|DEGENERES|                 418|\n",
      "|    WALTER|     TORN|                 402|\n",
      "|      MARY|   KEITEL|                 384|\n",
      "|   MATTHEW|   CARREY|                 380|\n",
      "|   GROUCHO|    DUNST|                 366|\n",
      "|    ANGELA|   HUDSON|                 366|\n",
      "|    SANDRA|   KILMER|                 362|\n",
      "|     HENRY|    BERRY|                 360|\n",
      "|       UMA|     WOOD|                 358|\n",
      "+----------+---------+--------------------+\n",
      "only showing top 10 rows\n",
      "\n"
     ]
    },
    {
     "name": "stderr",
     "output_type": "stream",
     "text": [
      "                                                                                \r"
     ]
    }
   ],
   "source": [
    "result_2 = film_actor_df\\\n",
    "    .join(actor_df\n",
    "         , film_actor_df.actor_id == actor_df.actor_id\n",
    "         , 'inner')\\\n",
    "    .select(film_actor_df.film_id, actor_df.first_name, actor_df.last_name)\n",
    "\n",
    "result_2 = film_df.join(result_2\n",
    "                      , film_df.film_id == result_2.film_id\n",
    "                      , 'inner')\\\n",
    "                .select(result_2.first_name, result_2.last_name, film_df.rental_duration)\n",
    "\n",
    "result_2 = result_2.groupBy(['first_name','last_name'])\\\n",
    "    .agg({'rental_duration': 'sum'})\n",
    "\n",
    "result_2 = result_2.orderBy(result_2['sum(rental_duration)'].desc()).show(10)"
   ]
  },
  {
   "cell_type": "code",
   "execution_count": 36,
   "id": "31286415",
   "metadata": {},
   "outputs": [],
   "source": [
    "#3 вывести категорию фильмов, на которую потратили больше всего денег."
   ]
  },
  {
   "cell_type": "code",
   "execution_count": 132,
   "id": "3808f181",
   "metadata": {},
   "outputs": [
    {
     "name": "stdout",
     "output_type": "stream",
     "text": [
      "+-------------+---------------------+\n",
      "|category_name|sum(replacement_cost)|\n",
      "+-------------+---------------------+\n",
      "|       Sports|   3018.5199999999904|\n",
      "+-------------+---------------------+\n",
      "only showing top 1 row\n",
      "\n"
     ]
    }
   ],
   "source": [
    "result_3 = film_category_df\\\n",
    "    .join(category_df\n",
    "         , film_category_df.category_id == category_df.category_id\n",
    "         , 'inner')\\\n",
    "    .join(film_df\n",
    "         ,  film_category_df.film_id == film_df.film_id\n",
    "         , 'inner')\\\n",
    "    .select(category_df.name.alias('category_name'), film_df.replacement_cost)\\\n",
    "    .groupBy('category_name')\\\n",
    "    .agg({'replacement_cost': 'sum'})\n",
    "\n",
    "result_3 = result_3.orderBy(result_3['sum(replacement_cost)'].desc()).show(1)"
   ]
  },
  {
   "cell_type": "code",
   "execution_count": 44,
   "id": "5c556d1e",
   "metadata": {},
   "outputs": [],
   "source": [
    "#4 вывести названия фильмов, которых нет в inventory."
   ]
  },
  {
   "cell_type": "code",
   "execution_count": 89,
   "id": "046bdafe",
   "metadata": {},
   "outputs": [
    {
     "name": "stdout",
     "output_type": "stream",
     "text": [
      "+--------------------+\n",
      "|               title|\n",
      "+--------------------+\n",
      "|      ALICE FANTASIA|\n",
      "|         APOLLO TEEN|\n",
      "|      ARGONAUTS TOWN|\n",
      "|       ARK RIDGEMONT|\n",
      "|ARSENIC INDEPENDENCE|\n",
      "|   BOONDOCK BALLROOM|\n",
      "|       BUTCH PANTHER|\n",
      "|       CATCH AMISTAD|\n",
      "| CHINATOWN GLADIATOR|\n",
      "|      CHOCOLATE DUCK|\n",
      "|COMMANDMENTS EXPRESS|\n",
      "|    CROSSING DIVORCE|\n",
      "|     CROWDS TELEMARK|\n",
      "|    CRYSTAL BREAKING|\n",
      "|          DAZED PUNK|\n",
      "|DELIVERANCE MULHO...|\n",
      "|   FIREHOUSE VIETNAM|\n",
      "|       FLOATS GARDEN|\n",
      "|FRANKENSTEIN STRA...|\n",
      "|  GLADIATOR WESTWARD|\n",
      "+--------------------+\n",
      "only showing top 20 rows\n",
      "\n"
     ]
    }
   ],
   "source": [
    "result_4 = film_df.join(inventory_df\n",
    "                      , film_df.film_id == inventory_df.film_id\n",
    "                      , 'left')\\\n",
    "                .select(film_df.film_id, film_df.title, inventory_df.film_id.alias('film_id2'))\n",
    "\n",
    "result_4.where(F.col('film_id2').isNull()).select('title').distinct().sort('title').show()"
   ]
  },
  {
   "cell_type": "code",
   "execution_count": 88,
   "id": "ffab497a",
   "metadata": {},
   "outputs": [
    {
     "name": "stdout",
     "output_type": "stream",
     "text": [
      "+-------+\n",
      "|film_id|\n",
      "+-------+\n",
      "|    148|\n",
      "|    108|\n",
      "|    950|\n",
      "|    642|\n",
      "|    874|\n",
      "|    497|\n",
      "|    332|\n",
      "|    192|\n",
      "|    860|\n",
      "|    128|\n",
      "|    671|\n",
      "|    325|\n",
      "|    386|\n",
      "|    955|\n",
      "|    359|\n",
      "|    419|\n",
      "|     41|\n",
      "|    607|\n",
      "|    318|\n",
      "|    742|\n",
      "+-------+\n",
      "only showing top 20 rows\n",
      "\n"
     ]
    }
   ],
   "source": [
    "result_4_1 = film_df.select('film_id').subtract(inventory_df.select('film_id')).show()"
   ]
  },
  {
   "cell_type": "code",
   "execution_count": 91,
   "id": "1bb5f5b0",
   "metadata": {},
   "outputs": [],
   "source": [
    "#5 вывести топ 3 актеров, которые больше всего появлялись в фильмах в категории “Children”. \n",
    "# Если у нескольких актеров одинаковое кол-во фильмов, вывести всех.."
   ]
  },
  {
   "cell_type": "code",
   "execution_count": 113,
   "id": "debaaaf3",
   "metadata": {},
   "outputs": [
    {
     "name": "stderr",
     "output_type": "stream",
     "text": [
      "22/02/22 18:09:27 WARN window.WindowExec: No Partition Defined for Window operation! Moving all data to a single partition, this can cause serious performance degradation.\n"
     ]
    },
    {
     "name": "stdout",
     "output_type": "stream",
     "text": [
      "+----------+---------+----------+\n",
      "|first_name|last_name|appearance|\n",
      "+----------+---------+----------+\n",
      "|     HELEN|   VOIGHT|        14|\n",
      "|     SUSAN|    DAVIS|        12|\n",
      "|     KEVIN|  GARLAND|        10|\n",
      "|     RALPH|     CRUZ|        10|\n",
      "|    WHOOPI|     HURT|        10|\n",
      "|      MARY|    TANDY|        10|\n",
      "+----------+---------+----------+\n",
      "\n"
     ]
    },
    {
     "name": "stderr",
     "output_type": "stream",
     "text": [
      "                                                                                \r"
     ]
    }
   ],
   "source": [
    "result_5 = actor_df\\\n",
    "    .join(film_actor_df\n",
    "         , actor_df.actor_id == film_actor_df.actor_id\n",
    "         , 'inner')\\\n",
    "    .join(film_df\n",
    "         , film_actor_df.film_id ==film_df.film_id\n",
    "         , 'inner')\\\n",
    "    .join(film_category_df\n",
    "         , film_df.film_id == film_category_df.film_id\n",
    "         , 'inner')\\\n",
    "     .join(category_df\n",
    "         , film_category_df.category_id == category_df.category_id\n",
    "         , 'inner')\\\n",
    "    .where(category_df.name == 'Children')\\\n",
    "    .select(actor_df.first_name, actor_df.last_name)\\\n",
    "    .groupBy(F.col('first_name'), F.col('last_name'))\\\n",
    "    .count()\\\n",
    "    .withColumn('appearance_rank', F.dense_rank().over(Window.orderBy(F.desc('count'))))\n",
    "\n",
    "result_5 = result_5\\\n",
    "    .where(result_5.appearance_rank <=3)\\\n",
    "    .select('first_name','last_name',F.col('count').alias('appearance')).show()\n"
   ]
  },
  {
   "cell_type": "code",
   "execution_count": 114,
   "id": "03c1353e",
   "metadata": {},
   "outputs": [],
   "source": [
    "#6 вывести города с количеством активных и неактивных клиентов (активный — customer.active = 1). \n",
    "# Отсортировать по количеству неактивных клиентов по убыванию."
   ]
  },
  {
   "cell_type": "code",
   "execution_count": 171,
   "id": "29e57426",
   "metadata": {},
   "outputs": [
    {
     "name": "stdout",
     "output_type": "stream",
     "text": [
      "+------------------+---------------+-------------+\n",
      "|              city|sum(isInactive)|sum(isActive)|\n",
      "+------------------+---------------+-------------+\n",
      "|            Amroha|              1|            0|\n",
      "|           Bat Yam|              1|            0|\n",
      "|  Charlotte Amalie|              1|            0|\n",
      "|     Coatzacoalcos|              1|            0|\n",
      "|            Daxian|              1|            0|\n",
      "|            Kamyin|              1|            0|\n",
      "|            Ktahya|              1|            0|\n",
      "|        Kumbakonam|              1|            0|\n",
      "|         Najafabad|              1|            0|\n",
      "|         Pingxiang|              1|            0|\n",
      "|   Southend-on-Sea|              1|            0|\n",
      "|       Szkesfehrvr|              1|            0|\n",
      "|          Uluberia|              1|            0|\n",
      "|           Wroclaw|              1|            0|\n",
      "|          Xiangfan|              1|            0|\n",
      "|A Corua (La Corua)|              0|            1|\n",
      "|              Abha|              0|            1|\n",
      "|         Abu Dhabi|              0|            1|\n",
      "|              Acua|              0|            1|\n",
      "|             Adana|              0|            1|\n",
      "+------------------+---------------+-------------+\n",
      "only showing top 20 rows\n",
      "\n"
     ]
    }
   ],
   "source": [
    "result_6 = customer_df\\\n",
    "    .join(address_df\n",
    "          , customer_df.address_id == address_df.address_id\n",
    "          , 'inner')\\\n",
    "    .join(city_df\n",
    "          , address_df.city_id == city_df.city_id\n",
    "          , 'inner')\\\n",
    "    .select(city_df.city,\n",
    "        F.when(customer_df.active == 1, 1).otherwise(0).alias('isActive'),\n",
    "        F.when(customer_df.active == 0, 1).otherwise(0).alias('isInactive'))\n",
    "    \n",
    "result_6 = result_6\\\n",
    "    .groupBy('city')\\\n",
    "    .agg({'isActive': 'sum', 'isInactive': 'sum'})\\\n",
    "    .orderBy(F.col('sum(isInactive)').desc(), 'city').show()"
   ]
  },
  {
   "cell_type": "code",
   "execution_count": 172,
   "id": "120c8838",
   "metadata": {},
   "outputs": [],
   "source": [
    "#7 вывести категорию фильмов, у которой самое большое кол-во часов суммарной аренды в городах \n",
    "# (customer.address_id в этом city), и которые начинаются на букву “a”. \n",
    "# То же самое сделать для городов в которых есть символ “-”."
   ]
  },
  {
   "cell_type": "code",
   "execution_count": 195,
   "id": "ab9c896a",
   "metadata": {},
   "outputs": [
    {
     "name": "stderr",
     "output_type": "stream",
     "text": [
      "[Stage 646:=====================>                                (80 + 1) / 200]\r"
     ]
    },
    {
     "name": "stdout",
     "output_type": "stream",
     "text": [
      "+-------------+---------------+----------------+\n",
      "|category_name|rental_duration|for \"a\" - cities|\n",
      "+-------------+---------------+----------------+\n",
      "|       Sports|            132|for \"a\" - cities|\n",
      "|      Foreign|            550|for \"-\" - cities|\n",
      "+-------------+---------------+----------------+\n",
      "\n"
     ]
    },
    {
     "name": "stderr",
     "output_type": "stream",
     "text": [
      "                                                                                \r"
     ]
    }
   ],
   "source": [
    "result_7_prep = film_category_df\\\n",
    "    .join(category_df\n",
    "         , film_category_df.category_id == category_df.category_id\n",
    "         , 'inner')\\\n",
    "    .join(film_df\n",
    "         ,  film_category_df.film_id == film_df.film_id\n",
    "         , 'inner')\\\n",
    "    .join(inventory_df\n",
    "         , film_df.film_id == inventory_df.film_id\n",
    "         , 'inner')\\\n",
    "    .join(rental_df\n",
    "         ,  inventory_df.inventory_id == rental_df.inventory_id\n",
    "         , 'inner')\\\n",
    "    .join(customer_df\n",
    "          , rental_df.customer_id == customer_df.customer_id\n",
    "          , 'inner')\\\n",
    "    .join(address_df\n",
    "          , customer_df.address_id == address_df.address_id\n",
    "          , 'inner')\\\n",
    "    .join(city_df\n",
    "          , address_df.city_id == city_df.city_id\n",
    "          , 'inner')\\\n",
    "    .filter(city_df.city.like('a%') | city_df.city.like('%-%'))\\\n",
    "    .select(category_df.name.alias('category_name'),\n",
    "            F.when(city_df.city.like('a%'), film_df.rental_duration).otherwise(0).alias('rental_duration_1'),\n",
    "            F.when(city_df.city.like('%-%'), film_df.rental_duration).otherwise(0).alias('rental_duration_2'))\\\n",
    "    .groupBy('category_name')\\\n",
    "    .agg({'rental_duration_1': 'sum', 'rental_duration_2': 'sum'})\n",
    "\n",
    "result_7_1 = result_7_prep\\\n",
    "    .select('category_name', F.col('sum(rental_duration_1)').alias('rental_duration'), F.lit('for \"a\" - cities'))\\\n",
    "    .orderBy(F.col('sum(rental_duration_1)').desc()).limit(1)\n",
    "\n",
    "result_7_2 = result_7_prep\\\n",
    "    .select('category_name', F.col('sum(rental_duration_2)').alias('rental_duration'), F.lit('for \"-\" - cities'))\\\n",
    "    .orderBy(F.col('sum(rental_duration_2)').desc()).limit(1)\n",
    "\n",
    "result_7 = result_7_1.union(result_7_2).show()"
   ]
  },
  {
   "cell_type": "code",
   "execution_count": null,
   "id": "791a00b6",
   "metadata": {},
   "outputs": [],
   "source": []
  }
 ],
 "metadata": {
  "kernelspec": {
   "display_name": "Python 3 (ipykernel)",
   "language": "python",
   "name": "python3"
  },
  "language_info": {
   "codemirror_mode": {
    "name": "ipython",
    "version": 3
   },
   "file_extension": ".py",
   "mimetype": "text/x-python",
   "name": "python",
   "nbconvert_exporter": "python",
   "pygments_lexer": "ipython3",
   "version": "3.8.8"
  }
 },
 "nbformat": 4,
 "nbformat_minor": 5
}
