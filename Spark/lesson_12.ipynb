{
 "cells": [
  {
   "cell_type": "code",
   "execution_count": 3,
   "id": "0a285aae",
   "metadata": {},
   "outputs": [],
   "source": [
    "from pyspark.sql import SparkSession\n",
    "import pyspark.sql.functions as F"
   ]
  },
  {
   "cell_type": "code",
   "execution_count": 4,
   "id": "e07676fe",
   "metadata": {},
   "outputs": [
    {
     "name": "stderr",
     "output_type": "stream",
     "text": [
      "Setting default log level to \"WARN\".\n",
      "To adjust logging level use sc.setLogLevel(newLevel). For SparkR, use setLogLevel(newLevel).\n",
      "22/02/21 14:36:28 WARN util.Utils: Service 'SparkUI' could not bind on port 4040. Attempting port 4041.\n"
     ]
    }
   ],
   "source": [
    "spark = SparkSession\\\n",
    "    .builder\\\n",
    "    .master('local')\\\n",
    "    .appName(\"lesson_12\")\\\n",
    "    .getOrCreate()"
   ]
  },
  {
   "cell_type": "code",
   "execution_count": 11,
   "id": "a19c3762",
   "metadata": {},
   "outputs": [],
   "source": [
    "film_actor = spark.read\\\n",
    "    .option(\"header\", True)\\\n",
    "    .option(\"inferSchema\", True)\\\n",
    "    .option(\"sep\", \",\")\\\n",
    "    .csv(\"/datalake/bronze/samples/film_actor.csv\")"
   ]
  },
  {
   "cell_type": "code",
   "execution_count": 12,
   "id": "4161caca",
   "metadata": {},
   "outputs": [
    {
     "name": "stdout",
     "output_type": "stream",
     "text": [
      "root\n",
      " |-- first_name: string (nullable = true)\n",
      " |-- last_name: string (nullable = true)\n",
      " |-- title: string (nullable = true)\n",
      " |-- release_year: integer (nullable = true)\n",
      " |-- rental_rate: double (nullable = true)\n",
      " |-- replacement_cost: double (nullable = true)\n",
      " |-- language_id: integer (nullable = true)\n",
      "\n"
     ]
    }
   ],
   "source": [
    "film_actor.printSchema()"
   ]
  },
  {
   "cell_type": "code",
   "execution_count": 5,
   "id": "f6334028",
   "metadata": {},
   "outputs": [
    {
     "data": {
      "text/plain": [
       "['first_name',\n",
       " 'last_name',\n",
       " 'title',\n",
       " 'release_year',\n",
       " 'rental_rate',\n",
       " 'replacement_cost',\n",
       " 'language_id']"
      ]
     },
     "execution_count": 5,
     "metadata": {},
     "output_type": "execute_result"
    }
   ],
   "source": [
    "film_actor.columns"
   ]
  },
  {
   "cell_type": "code",
   "execution_count": 6,
   "id": "46a92bb0",
   "metadata": {},
   "outputs": [],
   "source": [
    "film_actor = film_actor\\\n",
    "    .withColumnRenamed('first_name', 'actor_first_name')\\\n",
    "    .withColumnRenamed('last_name', 'actor_last_name')\\\n",
    "    .withColumnRenamed('title', 'film_name')\\\n",
    "    .withColumnRenamed('release_year', 'film_year')\\\n",
    "    .withColumn('film_year', F.col('film_year').cast('int'))\\\n",
    "    .drop('rental_rate')\n",
    "\n",
    "# film_actor = film_actor\\\n",
    "#    .withColumn('film_year', film_actor.film_year.cast('int'))\\\n",
    "#    .drop('rental_rate')"
   ]
  },
  {
   "cell_type": "code",
   "execution_count": 7,
   "id": "8470b0e7",
   "metadata": {},
   "outputs": [
    {
     "name": "stdout",
     "output_type": "stream",
     "text": [
      "+----------------+---------------+--------------------+---------+----------------+-----------+\n",
      "|actor_first_name|actor_last_name|           film_name|film_year|replacement_cost|language_id|\n",
      "+----------------+---------------+--------------------+---------+----------------+-----------+\n",
      "|        PENELOPE|        GUINESS|    ACADEMY DINOSAUR|     2006|           20.99|          1|\n",
      "|        PENELOPE|        GUINESS|ANACONDA CONFESSIONS|     2006|            9.99|          1|\n",
      "|        PENELOPE|        GUINESS|         ANGELS LIFE|     2006|           15.99|          1|\n",
      "|        PENELOPE|        GUINESS|BULWORTH COMMANDM...|     2006|           14.99|          1|\n",
      "|        PENELOPE|        GUINESS|       CHEAPER CLYDE|     2006|           23.99|          1|\n",
      "|        PENELOPE|        GUINESS|  COLOR PHILADELPHIA|     2006|           19.99|          1|\n",
      "|        PENELOPE|        GUINESS|     ELEPHANT TROJAN|     2006|           24.99|          1|\n",
      "|        PENELOPE|        GUINESS| GLEAMING JAWBREAKER|     2006|           25.99|          1|\n",
      "|        PENELOPE|        GUINESS|      HUMAN GRAFFITI|     2006|           22.99|          1|\n",
      "|        PENELOPE|        GUINESS|      KING EVOLUTION|     2006|           24.99|          1|\n",
      "|        PENELOPE|        GUINESS|          LADY STAGE|     2006|           14.99|          1|\n",
      "|        PENELOPE|        GUINESS|     LANGUAGE COWBOY|     2006|           26.99|          1|\n",
      "|        PENELOPE|        GUINESS|    MULHOLLAND BEAST|     2006|           13.99|          1|\n",
      "|        PENELOPE|        GUINESS|    OKLAHOMA JUMANJI|     2006|           15.99|          1|\n",
      "|        PENELOPE|        GUINESS|         RULES HUMAN|     2006|           19.99|          1|\n",
      "|        PENELOPE|        GUINESS|         SPLASH GUMP|     2006|           16.99|          1|\n",
      "|        PENELOPE|        GUINESS|   VERTIGO NORTHWEST|     2006|           17.99|          1|\n",
      "|        PENELOPE|        GUINESS| WESTWARD SEABISCUIT|     2006|           11.99|          1|\n",
      "|        PENELOPE|        GUINESS|  WIZARD COLDBLOODED|     2006|           12.99|          1|\n",
      "|            NICK|       WAHLBERG|    ADAPTATION HOLES|     2006|           18.99|          1|\n",
      "+----------------+---------------+--------------------+---------+----------------+-----------+\n",
      "only showing top 20 rows\n",
      "\n"
     ]
    }
   ],
   "source": [
    "film_actor.show()"
   ]
  },
  {
   "cell_type": "code",
   "execution_count": 8,
   "id": "70531380",
   "metadata": {},
   "outputs": [
    {
     "name": "stdout",
     "output_type": "stream",
     "text": [
      "+----------------+---------------+----------------+---------+----------------+\n",
      "|actor_first_name|actor_last_name|       film_name|film_year|replacement_cost|\n",
      "+----------------+---------------+----------------+---------+----------------+\n",
      "|         LUCILLE|          TRACY|ACADEMY DINOSAUR|     2006|           20.99|\n",
      "|            MENA|         TEMPLE|ACADEMY DINOSAUR|     2006|           20.99|\n",
      "|          SANDRA|           PECK|ACADEMY DINOSAUR|     2006|           20.99|\n",
      "|          WARREN|          NOLTE|ACADEMY DINOSAUR|     2006|           20.99|\n",
      "|           OPRAH|         KILMER|ACADEMY DINOSAUR|     2006|           20.99|\n",
      "|            MARY|         KEITEL|ACADEMY DINOSAUR|     2006|           20.99|\n",
      "|        PENELOPE|        GUINESS|ACADEMY DINOSAUR|     2006|           20.99|\n",
      "|       CHRISTIAN|          GABLE|ACADEMY DINOSAUR|     2006|           20.99|\n",
      "|            ROCK|        DUKAKIS|ACADEMY DINOSAUR|     2006|           20.99|\n",
      "|          JOHNNY|           CAGE|ACADEMY DINOSAUR|     2006|           20.99|\n",
      "+----------------+---------------+----------------+---------+----------------+\n",
      "\n"
     ]
    }
   ],
   "source": [
    "film_actor\\\n",
    "    .where(film_actor.film_name == 'ACADEMY DINOSAUR')\\\n",
    "    .sort(F.desc('actor_last_name'))\\\n",
    "    .select('actor_first_name','actor_last_name','film_name','film_year','replacement_cost')\\\n",
    "    .show()"
   ]
  },
  {
   "cell_type": "code",
   "execution_count": 9,
   "id": "fdb231f9",
   "metadata": {},
   "outputs": [
    {
     "name": "stderr",
     "output_type": "stream",
     "text": [
      "[Stage 5:=================================>                     (123 + 2) / 200]\r"
     ]
    },
    {
     "name": "stdout",
     "output_type": "stream",
     "text": [
      "+---------+\n",
      "|film_year|\n",
      "+---------+\n",
      "|     2006|\n",
      "+---------+\n",
      "\n"
     ]
    },
    {
     "name": "stderr",
     "output_type": "stream",
     "text": [
      "                                                                                \r"
     ]
    }
   ],
   "source": [
    "film_actor.select('film_year').distinct().sort('film_year').show()"
   ]
  },
  {
   "cell_type": "code",
   "execution_count": 10,
   "id": "e2ee8452",
   "metadata": {},
   "outputs": [
    {
     "name": "stdout",
     "output_type": "stream",
     "text": [
      "+----------------+---------------+--------------------+---------+----------------+\n",
      "|actor_first_name|actor_last_name|           film_name|film_year|replacement_cost|\n",
      "+----------------+---------------+--------------------+---------+----------------+\n",
      "|          MINNIE|      ZELLWEGER|      ALICE FANTASIA|     2006|           23.99|\n",
      "|         CAMERON|      ZELLWEGER|     MALLRATS UNITED|     2006|           25.99|\n",
      "|          MINNIE|      ZELLWEGER|    BONNIE HOLOCAUST|     2006|           29.99|\n",
      "|          MINNIE|      ZELLWEGER|      EVERYONE CRAFT|     2006|           29.99|\n",
      "|          MINNIE|      ZELLWEGER|      EXPRESS LONELY|     2006|           23.99|\n",
      "|          MINNIE|      ZELLWEGER|EXTRAORDINARY CON...|     2006|           29.99|\n",
      "|          MINNIE|      ZELLWEGER|        JAPANESE RUN|     2006|           29.99|\n",
      "|          MINNIE|      ZELLWEGER|      MADIGAN DORADO|     2006|           20.99|\n",
      "|          MINNIE|      ZELLWEGER|       MONSOON CAUSE|     2006|           20.99|\n",
      "|          MINNIE|      ZELLWEGER|      PICKUP DRIVING|     2006|           23.99|\n",
      "|          MINNIE|      ZELLWEGER|         SANTA PARIS|     2006|           23.99|\n",
      "|          MINNIE|      ZELLWEGER|     SUSPECTS QUILLS|     2006|           22.99|\n",
      "|          MINNIE|      ZELLWEGER|    TOMORROW HUSTLER|     2006|           21.99|\n",
      "|          MINNIE|      ZELLWEGER|         WAR NOTTING|     2006|           26.99|\n",
      "|         CAMERON|      ZELLWEGER|       BEAUTY GREASE|     2006|           28.99|\n",
      "|         CAMERON|      ZELLWEGER|         CROW GREASE|     2006|           22.99|\n",
      "|         CAMERON|      ZELLWEGER|       FLOATS GARDEN|     2006|           29.99|\n",
      "|         CAMERON|      ZELLWEGER|  GLADIATOR WESTWARD|     2006|           20.99|\n",
      "|         CAMERON|      ZELLWEGER|      GRIT CLOCKWORK|     2006|           21.99|\n",
      "|         CAMERON|      ZELLWEGER| HELLFIGHTERS SIERRA|     2006|           23.99|\n",
      "+----------------+---------------+--------------------+---------+----------------+\n",
      "only showing top 20 rows\n",
      "\n"
     ]
    }
   ],
   "source": [
    "film_actor\\\n",
    "    .where(F.col('replacement_cost') > 20)\\\n",
    "    .sort(F.desc('actor_last_name'))\\\n",
    "    .select('actor_first_name','actor_last_name','film_name','film_year','replacement_cost')\\\n",
    "    .show()"
   ]
  },
  {
   "cell_type": "code",
   "execution_count": 11,
   "id": "01553838",
   "metadata": {},
   "outputs": [
    {
     "name": "stdout",
     "output_type": "stream",
     "text": [
      "+---------------+\n",
      "|actor_last_name|\n",
      "+---------------+\n",
      "|AKROYD         |\n",
      "|ALLEN          |\n",
      "|ASTAIRE        |\n",
      "|BACALL         |\n",
      "|BAILEY         |\n",
      "|BALE           |\n",
      "|BALL           |\n",
      "|BARRYMORE      |\n",
      "|BASINGER       |\n",
      "|BENING         |\n",
      "|BERGEN         |\n",
      "|BERGMAN        |\n",
      "|BERRY          |\n",
      "|BIRCH          |\n",
      "|BLOOM          |\n",
      "|BOLGER         |\n",
      "|BRIDGES        |\n",
      "|BRODY          |\n",
      "|BULLOCK        |\n",
      "|CAGE           |\n",
      "+---------------+\n",
      "only showing top 20 rows\n",
      "\n"
     ]
    },
    {
     "name": "stderr",
     "output_type": "stream",
     "text": [
      "                                                                                \r"
     ]
    }
   ],
   "source": [
    "film_actor.select('actor_last_name').distinct().sort('actor_last_name').show(truncate=False, n=20)"
   ]
  },
  {
   "cell_type": "code",
   "execution_count": 12,
   "id": "5b5771ac",
   "metadata": {},
   "outputs": [
    {
     "name": "stderr",
     "output_type": "stream",
     "text": [
      "[Stage 10:====================================================> (194 + 1) / 200]\r"
     ]
    },
    {
     "name": "stdout",
     "output_type": "stream",
     "text": [
      "+---------------+-----+\n",
      "|actor_last_name|count|\n",
      "+---------------+-----+\n",
      "|         KILMER|  134|\n",
      "|          NOLTE|  124|\n",
      "|         TEMPLE|  104|\n",
      "|           TORN|   96|\n",
      "|         KEITEL|   95|\n",
      "|      DEGENERES|   93|\n",
      "|         AKROYD|   90|\n",
      "|        HOFFMAN|   88|\n",
      "|        GARLAND|   88|\n",
      "|          BERRY|   86|\n",
      "|      JOHANSSON|   83|\n",
      "|         WILLIS|   82|\n",
      "|        GUINESS|   81|\n",
      "|        HOPKINS|   81|\n",
      "|      ZELLWEGER|   80|\n",
      "|         HARRIS|   79|\n",
      "|       WILLIAMS|   78|\n",
      "|          DAVIS|   76|\n",
      "|          ALLEN|   75|\n",
      "|         BOLGER|   65|\n",
      "+---------------+-----+\n",
      "only showing top 20 rows\n",
      "\n"
     ]
    },
    {
     "name": "stderr",
     "output_type": "stream",
     "text": [
      "                                                                                \r"
     ]
    }
   ],
   "source": [
    "film_actor.groupby(film_actor.actor_last_name).count().sort(F.desc('count')).show(20)"
   ]
  },
  {
   "cell_type": "code",
   "execution_count": 13,
   "id": "41e34d90",
   "metadata": {},
   "outputs": [
    {
     "name": "stdout",
     "output_type": "stream",
     "text": [
      "+----------------+---------------+--------------------+---------+----------------+-----------+\n",
      "|actor_first_name|actor_last_name|           film_name|film_year|replacement_cost|language_id|\n",
      "+----------------+---------------+--------------------+---------+----------------+-----------+\n",
      "|        PENELOPE|        GUINESS|    ACADEMY DINOSAUR|     2006|           20.99|          1|\n",
      "|        PENELOPE|        GUINESS|ANACONDA CONFESSIONS|     2006|            9.99|          1|\n",
      "|        PENELOPE|        GUINESS|         ANGELS LIFE|     2006|           15.99|          1|\n",
      "|        PENELOPE|        GUINESS|BULWORTH COMMANDM...|     2006|           14.99|          1|\n",
      "|        PENELOPE|        GUINESS|       CHEAPER CLYDE|     2006|           23.99|          1|\n",
      "|        PENELOPE|        GUINESS|  COLOR PHILADELPHIA|     2006|           19.99|          1|\n",
      "|        PENELOPE|        GUINESS|     ELEPHANT TROJAN|     2006|           24.99|          1|\n",
      "|        PENELOPE|        GUINESS| GLEAMING JAWBREAKER|     2006|           25.99|          1|\n",
      "|        PENELOPE|        GUINESS|      HUMAN GRAFFITI|     2006|           22.99|          1|\n",
      "|        PENELOPE|        GUINESS|      KING EVOLUTION|     2006|           24.99|          1|\n",
      "|        PENELOPE|        GUINESS|          LADY STAGE|     2006|           14.99|          1|\n",
      "|        PENELOPE|        GUINESS|     LANGUAGE COWBOY|     2006|           26.99|          1|\n",
      "|        PENELOPE|        GUINESS|    MULHOLLAND BEAST|     2006|           13.99|          1|\n",
      "|        PENELOPE|        GUINESS|    OKLAHOMA JUMANJI|     2006|           15.99|          1|\n",
      "|        PENELOPE|        GUINESS|         RULES HUMAN|     2006|           19.99|          1|\n",
      "|        PENELOPE|        GUINESS|         SPLASH GUMP|     2006|           16.99|          1|\n",
      "|        PENELOPE|        GUINESS|   VERTIGO NORTHWEST|     2006|           17.99|          1|\n",
      "|        PENELOPE|        GUINESS| WESTWARD SEABISCUIT|     2006|           11.99|          1|\n",
      "|        PENELOPE|        GUINESS|  WIZARD COLDBLOODED|     2006|           12.99|          1|\n",
      "|            NICK|       WAHLBERG|    ADAPTATION HOLES|     2006|           18.99|          1|\n",
      "+----------------+---------------+--------------------+---------+----------------+-----------+\n",
      "only showing top 20 rows\n",
      "\n"
     ]
    }
   ],
   "source": [
    "film_actor.select('*').show()"
   ]
  },
  {
   "cell_type": "code",
   "execution_count": 14,
   "id": "ca51e2fe",
   "metadata": {},
   "outputs": [
    {
     "name": "stdout",
     "output_type": "stream",
     "text": [
      "+--------------------+--------------------+--------------------+--------------------+\n",
      "|           film_name|           film_name|           film_name|           film_name|\n",
      "+--------------------+--------------------+--------------------+--------------------+\n",
      "|    ACADEMY DINOSAUR|    ACADEMY DINOSAUR|    ACADEMY DINOSAUR|    ACADEMY DINOSAUR|\n",
      "|ANACONDA CONFESSIONS|ANACONDA CONFESSIONS|ANACONDA CONFESSIONS|ANACONDA CONFESSIONS|\n",
      "|         ANGELS LIFE|         ANGELS LIFE|         ANGELS LIFE|         ANGELS LIFE|\n",
      "|BULWORTH COMMANDM...|BULWORTH COMMANDM...|BULWORTH COMMANDM...|BULWORTH COMMANDM...|\n",
      "|       CHEAPER CLYDE|       CHEAPER CLYDE|       CHEAPER CLYDE|       CHEAPER CLYDE|\n",
      "|  COLOR PHILADELPHIA|  COLOR PHILADELPHIA|  COLOR PHILADELPHIA|  COLOR PHILADELPHIA|\n",
      "|     ELEPHANT TROJAN|     ELEPHANT TROJAN|     ELEPHANT TROJAN|     ELEPHANT TROJAN|\n",
      "| GLEAMING JAWBREAKER| GLEAMING JAWBREAKER| GLEAMING JAWBREAKER| GLEAMING JAWBREAKER|\n",
      "|      HUMAN GRAFFITI|      HUMAN GRAFFITI|      HUMAN GRAFFITI|      HUMAN GRAFFITI|\n",
      "|      KING EVOLUTION|      KING EVOLUTION|      KING EVOLUTION|      KING EVOLUTION|\n",
      "|          LADY STAGE|          LADY STAGE|          LADY STAGE|          LADY STAGE|\n",
      "|     LANGUAGE COWBOY|     LANGUAGE COWBOY|     LANGUAGE COWBOY|     LANGUAGE COWBOY|\n",
      "|    MULHOLLAND BEAST|    MULHOLLAND BEAST|    MULHOLLAND BEAST|    MULHOLLAND BEAST|\n",
      "|    OKLAHOMA JUMANJI|    OKLAHOMA JUMANJI|    OKLAHOMA JUMANJI|    OKLAHOMA JUMANJI|\n",
      "|         RULES HUMAN|         RULES HUMAN|         RULES HUMAN|         RULES HUMAN|\n",
      "|         SPLASH GUMP|         SPLASH GUMP|         SPLASH GUMP|         SPLASH GUMP|\n",
      "|   VERTIGO NORTHWEST|   VERTIGO NORTHWEST|   VERTIGO NORTHWEST|   VERTIGO NORTHWEST|\n",
      "| WESTWARD SEABISCUIT| WESTWARD SEABISCUIT| WESTWARD SEABISCUIT| WESTWARD SEABISCUIT|\n",
      "|  WIZARD COLDBLOODED|  WIZARD COLDBLOODED|  WIZARD COLDBLOODED|  WIZARD COLDBLOODED|\n",
      "|    ADAPTATION HOLES|    ADAPTATION HOLES|    ADAPTATION HOLES|    ADAPTATION HOLES|\n",
      "+--------------------+--------------------+--------------------+--------------------+\n",
      "only showing top 20 rows\n",
      "\n"
     ]
    }
   ],
   "source": [
    "film_actor.select('film_name', F.col('film_name'), film_actor.film_name, film_actor['film_name']).show()"
   ]
  },
  {
   "cell_type": "code",
   "execution_count": 15,
   "id": "279d705f",
   "metadata": {},
   "outputs": [],
   "source": [
    "language = spark.read\\\n",
    "    .option(\"header\", True)\\\n",
    "    .option(\"inferSchema\", True)\\\n",
    "    .csv(\"/datalake/bronze/samples/language.csv\")"
   ]
  },
  {
   "cell_type": "code",
   "execution_count": 16,
   "id": "7f0e099a",
   "metadata": {},
   "outputs": [
    {
     "name": "stdout",
     "output_type": "stream",
     "text": [
      "root\n",
      " |-- language_id: integer (nullable = true)\n",
      " |-- name: string (nullable = true)\n",
      "\n"
     ]
    }
   ],
   "source": [
    "language.printSchema()"
   ]
  },
  {
   "cell_type": "code",
   "execution_count": 17,
   "id": "1f9a7587",
   "metadata": {},
   "outputs": [],
   "source": [
    "language = language\\\n",
    "    .withColumnRenamed('name', 'language')"
   ]
  },
  {
   "cell_type": "code",
   "execution_count": 18,
   "id": "f654fddd",
   "metadata": {},
   "outputs": [
    {
     "name": "stdout",
     "output_type": "stream",
     "text": [
      "+-----------+--------------------+\n",
      "|language_id|            language|\n",
      "+-----------+--------------------+\n",
      "|          1|English             |\n",
      "|          2|Italian             |\n",
      "|          3|Japanese            |\n",
      "|          4|Mandarin            |\n",
      "|          5|French              |\n",
      "|          6|German              |\n",
      "+-----------+--------------------+\n",
      "\n"
     ]
    }
   ],
   "source": [
    "language.show()"
   ]
  },
  {
   "cell_type": "code",
   "execution_count": 19,
   "id": "c015684a",
   "metadata": {},
   "outputs": [
    {
     "name": "stdout",
     "output_type": "stream",
     "text": [
      "+----------+---------+--------------------+---------+----------------+--------------------+\n",
      "|first_name|last_name|           film_name|film_year|replacement_cost|            language|\n",
      "+----------+---------+--------------------+---------+----------------+--------------------+\n",
      "|  PENELOPE|  GUINESS|    ACADEMY DINOSAUR|     2006|           20.99|English             |\n",
      "|  PENELOPE|  GUINESS|ANACONDA CONFESSIONS|     2006|            9.99|English             |\n",
      "|  PENELOPE|  GUINESS|         ANGELS LIFE|     2006|           15.99|English             |\n",
      "|  PENELOPE|  GUINESS|BULWORTH COMMANDM...|     2006|           14.99|English             |\n",
      "|  PENELOPE|  GUINESS|       CHEAPER CLYDE|     2006|           23.99|English             |\n",
      "|  PENELOPE|  GUINESS|  COLOR PHILADELPHIA|     2006|           19.99|English             |\n",
      "|  PENELOPE|  GUINESS|     ELEPHANT TROJAN|     2006|           24.99|English             |\n",
      "|  PENELOPE|  GUINESS| GLEAMING JAWBREAKER|     2006|           25.99|English             |\n",
      "|  PENELOPE|  GUINESS|      HUMAN GRAFFITI|     2006|           22.99|English             |\n",
      "|  PENELOPE|  GUINESS|      KING EVOLUTION|     2006|           24.99|English             |\n",
      "|  PENELOPE|  GUINESS|          LADY STAGE|     2006|           14.99|English             |\n",
      "|  PENELOPE|  GUINESS|     LANGUAGE COWBOY|     2006|           26.99|English             |\n",
      "|  PENELOPE|  GUINESS|    MULHOLLAND BEAST|     2006|           13.99|English             |\n",
      "|  PENELOPE|  GUINESS|    OKLAHOMA JUMANJI|     2006|           15.99|English             |\n",
      "|  PENELOPE|  GUINESS|         RULES HUMAN|     2006|           19.99|English             |\n",
      "|  PENELOPE|  GUINESS|         SPLASH GUMP|     2006|           16.99|English             |\n",
      "|  PENELOPE|  GUINESS|   VERTIGO NORTHWEST|     2006|           17.99|English             |\n",
      "|  PENELOPE|  GUINESS| WESTWARD SEABISCUIT|     2006|           11.99|English             |\n",
      "|  PENELOPE|  GUINESS|  WIZARD COLDBLOODED|     2006|           12.99|English             |\n",
      "|      NICK| WAHLBERG|    ADAPTATION HOLES|     2006|           18.99|English             |\n",
      "+----------+---------+--------------------+---------+----------------+--------------------+\n",
      "only showing top 20 rows\n",
      "\n"
     ]
    }
   ],
   "source": [
    "fal = film_actor\\\n",
    "    .join(language, film_actor.language_id == language.language_id, 'left')\\\n",
    "    .select(film_actor.actor_first_name.alias('first_name')\n",
    "            ,film_actor.actor_last_name.alias('last_name')\n",
    "            ,'film_name','film_year','replacement_cost','language')\\\n",
    "    .show()"
   ]
  },
  {
   "cell_type": "code",
   "execution_count": 20,
   "id": "5b0e2ee9",
   "metadata": {},
   "outputs": [],
   "source": [
    "film_actor.createOrReplaceTempView('v_film_actor')"
   ]
  },
  {
   "cell_type": "code",
   "execution_count": 21,
   "id": "91c73a8b",
   "metadata": {},
   "outputs": [],
   "source": [
    "dfv = spark\\\n",
    "    .sql(\"SELECT * FROM v_film_actor WHERE film_name = 'ACADEMY DINOSAUR'\")"
   ]
  },
  {
   "cell_type": "code",
   "execution_count": 22,
   "id": "d82ca484",
   "metadata": {},
   "outputs": [
    {
     "name": "stdout",
     "output_type": "stream",
     "text": [
      "+----------------+---------------+----------------+---------+----------------+-----------+\n",
      "|actor_first_name|actor_last_name|       film_name|film_year|replacement_cost|language_id|\n",
      "+----------------+---------------+----------------+---------+----------------+-----------+\n",
      "|        PENELOPE|        GUINESS|ACADEMY DINOSAUR|     2006|           20.99|          1|\n",
      "|       CHRISTIAN|          GABLE|ACADEMY DINOSAUR|     2006|           20.99|          1|\n",
      "|         LUCILLE|          TRACY|ACADEMY DINOSAUR|     2006|           20.99|          1|\n",
      "|          SANDRA|           PECK|ACADEMY DINOSAUR|     2006|           20.99|          1|\n",
      "|          JOHNNY|           CAGE|ACADEMY DINOSAUR|     2006|           20.99|          1|\n",
      "|            MENA|         TEMPLE|ACADEMY DINOSAUR|     2006|           20.99|          1|\n",
      "|          WARREN|          NOLTE|ACADEMY DINOSAUR|     2006|           20.99|          1|\n",
      "|           OPRAH|         KILMER|ACADEMY DINOSAUR|     2006|           20.99|          1|\n",
      "|            ROCK|        DUKAKIS|ACADEMY DINOSAUR|     2006|           20.99|          1|\n",
      "|            MARY|         KEITEL|ACADEMY DINOSAUR|     2006|           20.99|          1|\n",
      "+----------------+---------------+----------------+---------+----------------+-----------+\n",
      "\n"
     ]
    }
   ],
   "source": [
    "dfv.show()"
   ]
  },
  {
   "cell_type": "code",
   "execution_count": 23,
   "id": "da163d7a",
   "metadata": {},
   "outputs": [
    {
     "name": "stdout",
     "output_type": "stream",
     "text": [
      "+----------------+---------------+----------------+---------+----------------+-----------+\n",
      "|actor_first_name|actor_last_name|       film_name|film_year|replacement_cost|language_id|\n",
      "+----------------+---------------+----------------+---------+----------------+-----------+\n",
      "|        PENELOPE|        GUINESS|ACADEMY DINOSAUR|     2006|           20.99|          1|\n",
      "|       CHRISTIAN|          GABLE|ACADEMY DINOSAUR|     2006|           20.99|          1|\n",
      "|         LUCILLE|          TRACY|ACADEMY DINOSAUR|     2006|           20.99|          1|\n",
      "|          SANDRA|           PECK|ACADEMY DINOSAUR|     2006|           20.99|          1|\n",
      "|          JOHNNY|           CAGE|ACADEMY DINOSAUR|     2006|           20.99|          1|\n",
      "|            MENA|         TEMPLE|ACADEMY DINOSAUR|     2006|           20.99|          1|\n",
      "|          WARREN|          NOLTE|ACADEMY DINOSAUR|     2006|           20.99|          1|\n",
      "|           OPRAH|         KILMER|ACADEMY DINOSAUR|     2006|           20.99|          1|\n",
      "|            ROCK|        DUKAKIS|ACADEMY DINOSAUR|     2006|           20.99|          1|\n",
      "|            MARY|         KEITEL|ACADEMY DINOSAUR|     2006|           20.99|          1|\n",
      "+----------------+---------------+----------------+---------+----------------+-----------+\n",
      "\n"
     ]
    }
   ],
   "source": [
    "film_actor = film_actor.where(film_actor.film_name == 'ACADEMY DINOSAUR').show()"
   ]
  },
  {
   "cell_type": "code",
   "execution_count": null,
   "id": "60826bed",
   "metadata": {},
   "outputs": [],
   "source": []
  }
 ],
 "metadata": {
  "kernelspec": {
   "display_name": "Python 3 (ipykernel)",
   "language": "python",
   "name": "python3"
  },
  "language_info": {
   "codemirror_mode": {
    "name": "ipython",
    "version": 3
   },
   "file_extension": ".py",
   "mimetype": "text/x-python",
   "name": "python",
   "nbconvert_exporter": "python",
   "pygments_lexer": "ipython3",
   "version": "3.8.8"
  }
 },
 "nbformat": 4,
 "nbformat_minor": 5
}
