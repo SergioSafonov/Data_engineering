{
 "cells": [
  {
   "cell_type": "code",
   "execution_count": 1,
   "id": "f9fbe9f6",
   "metadata": {},
   "outputs": [],
   "source": [
    "from pyspark.sql import SparkSession\n",
    "import pyspark.sql.functions as F"
   ]
  },
  {
   "cell_type": "code",
   "execution_count": 2,
   "id": "bdbfc948",
   "metadata": {},
   "outputs": [
    {
     "name": "stderr",
     "output_type": "stream",
     "text": [
      "Setting default log level to \"WARN\".\n",
      "To adjust logging level use sc.setLogLevel(newLevel). For SparkR, use setLogLevel(newLevel).\n",
      "22/03/05 15:48:54 WARN util.Utils: Service 'SparkUI' could not bind on port 4040. Attempting port 4041.\n"
     ]
    }
   ],
   "source": [
    "spark = SparkSession.builder\\\n",
    "    .master(\"local\")\\\n",
    "    .appName(\"lesson_15\")\\\n",
    "    .getOrCreate()\n",
    "sc = spark.sparkContext"
   ]
  },
  {
   "cell_type": "code",
   "execution_count": 3,
   "id": "6e4c627c",
   "metadata": {},
   "outputs": [
    {
     "name": "stderr",
     "output_type": "stream",
     "text": [
      "                                                                                \r"
     ]
    }
   ],
   "source": [
    "employees = sc.parallelize([[1, 'Anton'], [2, 'Vasiliy'], [3, 'Anna']]).toDF((\"id\", \"name\"))\n",
    "salary = sc.parallelize([[1, 2000], [2, 3000], [3, 4000]]).toDF((\"id\",\"salary\"))"
   ]
  },
  {
   "cell_type": "markdown",
   "id": "f009e78b",
   "metadata": {},
   "source": [
    "employees.show()"
   ]
  },
  {
   "cell_type": "code",
   "execution_count": 4,
   "id": "5a2180a6",
   "metadata": {},
   "outputs": [
    {
     "name": "stdout",
     "output_type": "stream",
     "text": [
      "+---+-------+\n",
      "| id|   name|\n",
      "+---+-------+\n",
      "|  1|  Anton|\n",
      "|  2|Vasiliy|\n",
      "|  3|   Anna|\n",
      "+---+-------+\n",
      "\n",
      "+---+------+\n",
      "| id|salary|\n",
      "+---+------+\n",
      "|  1|  2000|\n",
      "|  2|  3000|\n",
      "|  3|  4000|\n",
      "+---+------+\n",
      "\n"
     ]
    }
   ],
   "source": [
    "employees.show()\n",
    "salary.show()"
   ]
  },
  {
   "cell_type": "code",
   "execution_count": 5,
   "id": "60d98a12",
   "metadata": {},
   "outputs": [
    {
     "name": "stderr",
     "output_type": "stream",
     "text": [
      "                                                                                \r"
     ]
    },
    {
     "name": "stdout",
     "output_type": "stream",
     "text": [
      "+---+-------+------+\n",
      "| id|   name|salary|\n",
      "+---+-------+------+\n",
      "|  1|  Anton|  2000|\n",
      "|  3|   Anna|  4000|\n",
      "|  2|Vasiliy|  3000|\n",
      "+---+-------+------+\n",
      "\n"
     ]
    },
    {
     "name": "stderr",
     "output_type": "stream",
     "text": [
      "\r",
      "[Stage 18:===================================================>    (69 + 1) / 75]\r",
      "\r",
      "                                                                                \r"
     ]
    }
   ],
   "source": [
    "employees.join(salary, 'id').show()"
   ]
  },
  {
   "cell_type": "code",
   "execution_count": 6,
   "id": "68249c82",
   "metadata": {},
   "outputs": [
    {
     "name": "stdout",
     "output_type": "stream",
     "text": [
      "== Physical Plan ==\n",
      "*(5) Project [id#0L, name#1, salary#5L]\n",
      "+- *(5) SortMergeJoin [id#0L], [id#4L], Inner\n",
      "   :- *(2) Sort [id#0L ASC NULLS FIRST], false, 0\n",
      "   :  +- Exchange hashpartitioning(id#0L, 200), ENSURE_REQUIREMENTS, [id=#105]\n",
      "   :     +- *(1) Filter isnotnull(id#0L)\n",
      "   :        +- *(1) Scan ExistingRDD[id#0L,name#1]\n",
      "   +- *(4) Sort [id#4L ASC NULLS FIRST], false, 0\n",
      "      +- Exchange hashpartitioning(id#4L, 200), ENSURE_REQUIREMENTS, [id=#111]\n",
      "         +- *(3) Filter isnotnull(id#4L)\n",
      "            +- *(3) Scan ExistingRDD[id#4L,salary#5L]\n",
      "\n",
      "\n"
     ]
    }
   ],
   "source": [
    "employees.join(salary, 'id').explain()  # query plan - shuffling (join tables from different nodes (partitions))"
   ]
  },
  {
   "cell_type": "code",
   "execution_count": 7,
   "id": "e66c911a",
   "metadata": {},
   "outputs": [
    {
     "name": "stdout",
     "output_type": "stream",
     "text": [
      "== Physical Plan ==\n",
      "*(2) Project [id#0L, name#1, salary#5L]\n",
      "+- *(2) BroadcastHashJoin [id#0L], [id#4L], Inner, BuildRight, false\n",
      "   :- *(2) Filter isnotnull(id#0L)\n",
      "   :  +- *(2) Scan ExistingRDD[id#0L,name#1]\n",
      "   +- BroadcastExchange HashedRelationBroadcastMode(List(input[0, bigint, false]),false), [id=#146]\n",
      "      +- *(1) Filter isnotnull(id#4L)\n",
      "         +- *(1) Scan ExistingRDD[id#4L,salary#5L]\n",
      "\n",
      "\n"
     ]
    },
    {
     "name": "stderr",
     "output_type": "stream",
     "text": [
      "----------------------------------------\n",
      "Exception happened during processing of request from ('127.0.0.1', 60254)\n",
      "Traceback (most recent call last):\n",
      "  File \"/usr/lib/python3.8/socketserver.py\", line 316, in _handle_request_noblock\n",
      "    self.process_request(request, client_address)\n",
      "  File \"/usr/lib/python3.8/socketserver.py\", line 347, in process_request\n",
      "    self.finish_request(request, client_address)\n",
      "  File \"/usr/lib/python3.8/socketserver.py\", line 360, in finish_request\n",
      "    self.RequestHandlerClass(request, client_address, self)\n",
      "  File \"/usr/lib/python3.8/socketserver.py\", line 720, in __init__\n",
      "    self.handle()\n",
      "  File \"/home/user/.local/lib/python3.8/site-packages/pyspark/accumulators.py\", line 262, in handle\n",
      "    poll(accum_updates)\n",
      "  File \"/home/user/.local/lib/python3.8/site-packages/pyspark/accumulators.py\", line 235, in poll\n",
      "    if func():\n",
      "  File \"/home/user/.local/lib/python3.8/site-packages/pyspark/accumulators.py\", line 239, in accum_updates\n",
      "    num_updates = read_int(self.rfile)\n",
      "  File \"/home/user/.local/lib/python3.8/site-packages/pyspark/serializers.py\", line 564, in read_int\n",
      "    raise EOFError\n",
      "EOFError\n",
      "----------------------------------------\n"
     ]
    }
   ],
   "source": [
    "employees.join(F.broadcast(salary), 'id').explain() # broadcast salary - is copy to each nodes (partitions)"
   ]
  }
 ],
 "metadata": {
  "kernelspec": {
   "display_name": "Python 3 (ipykernel)",
   "language": "python",
   "name": "python3"
  },
  "language_info": {
   "codemirror_mode": {
    "name": "ipython",
    "version": 3
   },
   "file_extension": ".py",
   "mimetype": "text/x-python",
   "name": "python",
   "nbconvert_exporter": "python",
   "pygments_lexer": "ipython3",
   "version": "3.8.8"
  }
 },
 "nbformat": 4,
 "nbformat_minor": 5
}
