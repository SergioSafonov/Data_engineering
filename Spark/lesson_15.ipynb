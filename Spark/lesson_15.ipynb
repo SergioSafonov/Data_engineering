{
 "cells": [
  {
   "cell_type": "code",
   "execution_count": 14,
   "id": "99c8e142",
   "metadata": {},
   "outputs": [],
   "source": [
    "from pyspark.sql import SparkSession\n",
    "import pyspark.sql.functions as F\n",
    "\n",
    "from pyspark import StorageLevel"
   ]
  },
  {
   "cell_type": "code",
   "execution_count": 2,
   "id": "a8b63197",
   "metadata": {},
   "outputs": [
    {
     "name": "stderr",
     "output_type": "stream",
     "text": [
      "Setting default log level to \"WARN\".\n",
      "To adjust logging level use sc.setLogLevel(newLevel). For SparkR, use setLogLevel(newLevel).\n",
      "22/03/05 16:25:28 WARN util.Utils: Service 'SparkUI' could not bind on port 4040. Attempting port 4041.\n"
     ]
    }
   ],
   "source": [
    "spark = SparkSession.builder\\\n",
    "    .master(\"local\")\\\n",
    "    .appName(\"lesson_15\")\\\n",
    "    .getOrCreate()\n",
    "sc = spark.sparkContext"
   ]
  },
  {
   "cell_type": "code",
   "execution_count": 3,
   "id": "a95b8fc2",
   "metadata": {},
   "outputs": [
    {
     "name": "stderr",
     "output_type": "stream",
     "text": [
      "                                                                                \r"
     ]
    }
   ],
   "source": [
    "film = spark.read\\\n",
    "    .parquet(\"/datalake/silver/pagila/film\")"
   ]
  },
  {
   "cell_type": "code",
   "execution_count": 4,
   "id": "a64837a4",
   "metadata": {},
   "outputs": [
    {
     "name": "stderr",
     "output_type": "stream",
     "text": [
      "                                                                                \r"
     ]
    },
    {
     "data": {
      "text/plain": [
       "997"
      ]
     },
     "execution_count": 4,
     "metadata": {},
     "output_type": "execute_result"
    }
   ],
   "source": [
    "film.count()"
   ]
  },
  {
   "cell_type": "code",
   "execution_count": 5,
   "id": "eeac8f42",
   "metadata": {},
   "outputs": [
    {
     "name": "stderr",
     "output_type": "stream",
     "text": [
      "                                                                                \r"
     ]
    },
    {
     "name": "stdout",
     "output_type": "stream",
     "text": [
      "+------+\n",
      "|rating|\n",
      "+------+\n",
      "|    PG|\n",
      "| NC-17|\n",
      "|     R|\n",
      "|     G|\n",
      "| PG-13|\n",
      "+------+\n",
      "\n"
     ]
    }
   ],
   "source": [
    "film.select(\"rating\").distinct().show()"
   ]
  },
  {
   "cell_type": "code",
   "execution_count": 10,
   "id": "0da69063",
   "metadata": {},
   "outputs": [],
   "source": [
    "film = film.filter(F.col('film_id') < F.lit(750))"
   ]
  },
  {
   "cell_type": "code",
   "execution_count": 15,
   "id": "5e29fddb",
   "metadata": {},
   "outputs": [
    {
     "data": {
      "text/plain": [
       "DataFrame[film_id: int, title: string, description: string, release_year: int, language_id: int, rental_duration: int, rental_rate: double, length: int, replacement_cost: double, rating: string]"
      ]
     },
     "execution_count": 15,
     "metadata": {},
     "output_type": "execute_result"
    }
   ],
   "source": [
    "film.persist(StorageLevel.MEMORY_ONLY)    # to save last command in memory"
   ]
  },
  {
   "cell_type": "code",
   "execution_count": 16,
   "id": "b27cd250",
   "metadata": {},
   "outputs": [
    {
     "name": "stderr",
     "output_type": "stream",
     "text": [
      "22/03/05 16:33:33 WARN execution.CacheManager: Asked to cache already cached data.\n"
     ]
    },
    {
     "data": {
      "text/plain": [
       "DataFrame[film_id: int, title: string, description: string, release_year: int, language_id: int, rental_duration: int, rental_rate: double, length: int, replacement_cost: double, rating: string]"
      ]
     },
     "execution_count": 16,
     "metadata": {},
     "output_type": "execute_result"
    }
   ],
   "source": [
    "film.persist(StorageLevel.MEMORY_AND_DISK)    # to save last command in memory and disk"
   ]
  },
  {
   "cell_type": "code",
   "execution_count": 17,
   "id": "bf078888",
   "metadata": {},
   "outputs": [
    {
     "name": "stderr",
     "output_type": "stream",
     "text": [
      "22/03/05 16:34:09 WARN execution.CacheManager: Asked to cache already cached data.\n"
     ]
    },
    {
     "data": {
      "text/plain": [
       "DataFrame[film_id: int, title: string, description: string, release_year: int, language_id: int, rental_duration: int, rental_rate: double, length: int, replacement_cost: double, rating: string]"
      ]
     },
     "execution_count": 17,
     "metadata": {},
     "output_type": "execute_result"
    }
   ],
   "source": [
    "film.persist(StorageLevel.DISK_ONLY)    # to save last command in disk"
   ]
  },
  {
   "cell_type": "code",
   "execution_count": 18,
   "id": "f4afd3b4",
   "metadata": {},
   "outputs": [
    {
     "name": "stderr",
     "output_type": "stream",
     "text": [
      "22/03/05 16:34:47 WARN execution.CacheManager: Asked to cache already cached data.\n"
     ]
    },
    {
     "data": {
      "text/plain": [
       "DataFrame[film_id: int, title: string, description: string, release_year: int, language_id: int, rental_duration: int, rental_rate: double, length: int, replacement_cost: double, rating: string]"
      ]
     },
     "execution_count": 18,
     "metadata": {},
     "output_type": "execute_result"
    }
   ],
   "source": [
    "film.cache()    # to save last command in memory"
   ]
  },
  {
   "cell_type": "code",
   "execution_count": 11,
   "id": "f4908db5",
   "metadata": {},
   "outputs": [],
   "source": [
    "film_pg = film.filter(F.col('rating') == 'PG-13')\n",
    "film_r = film.filter(F.col('rating') == 'R')"
   ]
  },
  {
   "cell_type": "code",
   "execution_count": 12,
   "id": "03f15758",
   "metadata": {},
   "outputs": [
    {
     "name": "stderr",
     "output_type": "stream",
     "text": [
      "                                                                                \r"
     ]
    },
    {
     "data": {
      "text/plain": [
       "165"
      ]
     },
     "execution_count": 12,
     "metadata": {},
     "output_type": "execute_result"
    }
   ],
   "source": [
    "film_pg.count()"
   ]
  },
  {
   "cell_type": "code",
   "execution_count": 13,
   "id": "13b65f90",
   "metadata": {},
   "outputs": [
    {
     "name": "stderr",
     "output_type": "stream",
     "text": [
      "                                                                                \r"
     ]
    },
    {
     "data": {
      "text/plain": [
       "138"
      ]
     },
     "execution_count": 13,
     "metadata": {},
     "output_type": "execute_result"
    }
   ],
   "source": [
    "film_r.count()"
   ]
  },
  {
   "cell_type": "code",
   "execution_count": null,
   "id": "7b3f9758",
   "metadata": {},
   "outputs": [],
   "source": []
  }
 ],
 "metadata": {
  "kernelspec": {
   "display_name": "Python 3 (ipykernel)",
   "language": "python",
   "name": "python3"
  },
  "language_info": {
   "codemirror_mode": {
    "name": "ipython",
    "version": 3
   },
   "file_extension": ".py",
   "mimetype": "text/x-python",
   "name": "python",
   "nbconvert_exporter": "python",
   "pygments_lexer": "ipython3",
   "version": "3.8.8"
  }
 },
 "nbformat": 4,
 "nbformat_minor": 5
}
