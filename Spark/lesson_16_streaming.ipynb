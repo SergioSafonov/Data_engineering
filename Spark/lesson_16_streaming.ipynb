{
 "cells": [
  {
   "cell_type": "code",
   "execution_count": 1,
   "id": "77055c6a",
   "metadata": {},
   "outputs": [],
   "source": [
    "from pyspark.sql import SparkSession\n",
    "from pyspark.sql.functions import *\n",
    "from pyspark.sql.types import *"
   ]
  },
  {
   "cell_type": "code",
   "execution_count": 2,
   "id": "44747327",
   "metadata": {},
   "outputs": [
    {
     "name": "stderr",
     "output_type": "stream",
     "text": [
      "Setting default log level to \"WARN\".\n",
      "To adjust logging level use sc.setLogLevel(newLevel). For SparkR, use setLogLevel(newLevel).\n"
     ]
    }
   ],
   "source": [
    "# %fs\n",
    "# ls   - for using in DataBricks, \"spark\" already runned\n",
    "spark = SparkSession.builder\\\n",
    "    .master(\"local\")\\\n",
    "    .appName(\"lesson_16\")\\\n",
    "    .getOrCreate()"
   ]
  },
  {
   "cell_type": "code",
   "execution_count": 3,
   "id": "70fb86ef",
   "metadata": {},
   "outputs": [],
   "source": [
    "json_schema = StructType([StructField(\"product_id\", IntegerType(), True), StructField(\"date\", DateType(), True)])"
   ]
  },
  {
   "cell_type": "code",
   "execution_count": 4,
   "id": "25495036",
   "metadata": {},
   "outputs": [],
   "source": [
    "events_static = spark.read\\\n",
    "    .schema(json_schema)\\\n",
    "    .json(\"/datalake/bronze/rd_payload/2021-07-09/\")"
   ]
  },
  {
   "cell_type": "code",
   "execution_count": 5,
   "id": "9120ec1d",
   "metadata": {},
   "outputs": [],
   "source": [
    "events_static = events_static.where(col('product_id') == 17848)"
   ]
  },
  {
   "cell_type": "code",
   "execution_count": 6,
   "id": "32e453fc",
   "metadata": {},
   "outputs": [
    {
     "data": {
      "text/plain": [
       "DataFrame[product_id: int, date: date]"
      ]
     },
     "metadata": {},
     "output_type": "display_data"
    }
   ],
   "source": [
    "display(events_static)"
   ]
  },
  {
   "cell_type": "code",
   "execution_count": 7,
   "id": "592000c5",
   "metadata": {},
   "outputs": [
    {
     "name": "stderr",
     "output_type": "stream",
     "text": [
      "\r",
      "[Stage 0:>                                                          (0 + 1) / 1]\r"
     ]
    },
    {
     "name": "stdout",
     "output_type": "stream",
     "text": [
      "+----------+----------+\n",
      "|product_id|      date|\n",
      "+----------+----------+\n",
      "|     17848|2021-07-09|\n",
      "+----------+----------+\n",
      "\n"
     ]
    },
    {
     "name": "stderr",
     "output_type": "stream",
     "text": [
      "\r",
      "                                                                                \r"
     ]
    }
   ],
   "source": [
    "events_static.show()"
   ]
  },
  {
   "cell_type": "code",
   "execution_count": 8,
   "id": "3f96300f",
   "metadata": {},
   "outputs": [],
   "source": [
    "events_streaming = spark.readStream\\\n",
    "    .schema(json_schema)\\\n",
    "    .option(\"maxFilesPerTrigger\", 1)\\\n",
    "    .json(\"/datalake/bronze/rd_payload/spark_stream/\")   # .kafka(\"...\")"
   ]
  },
  {
   "cell_type": "code",
   "execution_count": 9,
   "id": "ed925f2c",
   "metadata": {},
   "outputs": [],
   "source": [
    "# Append mode"
   ]
  },
  {
   "cell_type": "code",
   "execution_count": 10,
   "id": "3ac07bdb",
   "metadata": {},
   "outputs": [],
   "source": [
    "append_df = events_streaming.where(col('product_id') == 17848)"
   ]
  },
  {
   "cell_type": "code",
   "execution_count": 11,
   "id": "0696e7e2",
   "metadata": {},
   "outputs": [
    {
     "name": "stderr",
     "output_type": "stream",
     "text": [
      "22/03/10 10:00:49 WARN streaming.StreamingQueryManager: Temporary checkpoint location created which is deleted normally when the query didn't fail: /tmp/temporary-e1e9f486-3501-4396-aa69-ad8cbc0ef90d. If it's required to delete it under any circumstances, please set spark.sql.streaming.forceDeleteTempCheckpointLocation to true. Important to know deleting temp checkpoint folder is best effort.\n"
     ]
    },
    {
     "data": {
      "text/plain": [
       "<pyspark.sql.streaming.StreamingQuery at 0x7f7e21c0b850>"
      ]
     },
     "execution_count": 11,
     "metadata": {},
     "output_type": "execute_result"
    }
   ],
   "source": [
    "append_df.writeStream\\\n",
    "    .format(\"memory\")\\\n",
    "    .queryName(\"event_stream_append\")\\\n",
    "    .outputMode(\"append\")\\\n",
    "    .start()"
   ]
  },
  {
   "cell_type": "code",
   "execution_count": 12,
   "id": "ba80be11",
   "metadata": {},
   "outputs": [],
   "source": [
    "# %sql\n",
    "# select * from event_stream;   # it works in DataBricks\n",
    "# select count(*) from event_stream;"
   ]
  },
  {
   "cell_type": "code",
   "execution_count": 13,
   "id": "85a4fcfd",
   "metadata": {},
   "outputs": [],
   "source": [
    "# Complete mode"
   ]
  },
  {
   "cell_type": "code",
   "execution_count": 14,
   "id": "32682506",
   "metadata": {},
   "outputs": [],
   "source": [
    "complete_df = events_streaming\\\n",
    "    .groupBy(col('product_id'), window(col(\"date\"), '1 day')).count()   # windowing 1 day delay for execution (wait for grouping)"
   ]
  },
  {
   "cell_type": "code",
   "execution_count": 15,
   "id": "0ea9247c",
   "metadata": {},
   "outputs": [
    {
     "name": "stderr",
     "output_type": "stream",
     "text": [
      "22/03/10 10:01:28 WARN streaming.StreamingQueryManager: Temporary checkpoint location created which is deleted normally when the query didn't fail: /tmp/temporary-11000624-0f08-4026-a641-668188548a6f. If it's required to delete it under any circumstances, please set spark.sql.streaming.forceDeleteTempCheckpointLocation to true. Important to know deleting temp checkpoint folder is best effort.\n"
     ]
    },
    {
     "data": {
      "text/plain": [
       "<pyspark.sql.streaming.StreamingQuery at 0x7f7e218ad3d0>"
      ]
     },
     "execution_count": 15,
     "metadata": {},
     "output_type": "execute_result"
    },
    {
     "name": "stderr",
     "output_type": "stream",
     "text": [
      "                                                                                \r"
     ]
    }
   ],
   "source": [
    "complete_df.writeStream\\\n",
    "    .format(\"memory\")\\\n",
    "    .queryName(\"event_stream_complete\")\\\n",
    "    .outputMode(\"complete\")\\\n",
    "    .start()"
   ]
  },
  {
   "cell_type": "code",
   "execution_count": 16,
   "id": "9ef3e293",
   "metadata": {},
   "outputs": [],
   "source": [
    "# %sql\n",
    "# select * from event_stream;   # it works in DataBricks\n",
    "# select count(*) from event_stream;"
   ]
  },
  {
   "cell_type": "code",
   "execution_count": null,
   "id": "fd28fb9b",
   "metadata": {},
   "outputs": [],
   "source": []
  }
 ],
 "metadata": {
  "kernelspec": {
   "display_name": "Python 3 (ipykernel)",
   "language": "python",
   "name": "python3"
  },
  "language_info": {
   "codemirror_mode": {
    "name": "ipython",
    "version": 3
   },
   "file_extension": ".py",
   "mimetype": "text/x-python",
   "name": "python",
   "nbconvert_exporter": "python",
   "pygments_lexer": "ipython3",
   "version": "3.8.8"
  }
 },
 "nbformat": 4,
 "nbformat_minor": 5
}
