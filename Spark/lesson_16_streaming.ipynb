{
 "cells": [
  {
   "cell_type": "code",
   "execution_count": 1,
   "id": "77055c6a",
   "metadata": {},
   "outputs": [],
   "source": [
    "from pyspark.sql import SparkSession\n",
    "from pyspark.sql.functions import *\n",
    "from pyspark.sql.types import *"
   ]
  },
  {
   "cell_type": "code",
   "execution_count": 2,
   "id": "44747327",
   "metadata": {},
   "outputs": [
    {
     "name": "stderr",
     "output_type": "stream",
     "text": [
      "Setting default log level to \"WARN\".\n",
      "To adjust logging level use sc.setLogLevel(newLevel). For SparkR, use setLogLevel(newLevel).\n"
     ]
    }
   ],
   "source": [
    "# %fs\n",
    "# ls   - for using in DataBricks, \"spark\" already runned\n",
    "spark = SparkSession.builder\\\n",
    "    .master(\"local\")\\\n",
    "    .appName(\"lesson_16\")\\\n",
    "    .getOrCreate()"
   ]
  },
  {
   "cell_type": "code",
   "execution_count": 3,
   "id": "70fb86ef",
   "metadata": {},
   "outputs": [],
   "source": [
    "json_schema = StructType([StructField(\"product_id\", IntegerType(), True), StructField(\"date\", DateType(), True)])"
   ]
  },
  {
   "cell_type": "code",
   "execution_count": 4,
   "id": "25495036",
   "metadata": {},
   "outputs": [],
   "source": [
    "events_static = spark.read\\\n",
    "    .schema(json_schema)\\\n",
    "    .json(\"/datalake/bronze/rd_payload/2021-07-09/\")"
   ]
  },
  {
   "cell_type": "code",
   "execution_count": 5,
   "id": "9120ec1d",
   "metadata": {},
   "outputs": [],
   "source": [
    "events_static = events_static.where(col('product_id') < 10000)"
   ]
  },
  {
   "cell_type": "code",
   "execution_count": 6,
   "id": "32e453fc",
   "metadata": {},
   "outputs": [
    {
     "data": {
      "text/plain": [
       "DataFrame[product_id: int, date: date]"
      ]
     },
     "metadata": {},
     "output_type": "display_data"
    }
   ],
   "source": [
    "display(events_static)"
   ]
  },
  {
   "cell_type": "code",
   "execution_count": 7,
   "id": "592000c5",
   "metadata": {},
   "outputs": [
    {
     "name": "stderr",
     "output_type": "stream",
     "text": [
      "\r",
      "[Stage 0:>                                                          (0 + 1) / 1]\r"
     ]
    },
    {
     "name": "stdout",
     "output_type": "stream",
     "text": [
      "+----------+----------+\n",
      "|product_id|      date|\n",
      "+----------+----------+\n",
      "|      4310|2021-07-09|\n",
      "|      8251|2021-07-09|\n",
      "|      6870|2021-07-09|\n",
      "|      2606|2021-07-09|\n",
      "|      1334|2021-07-09|\n",
      "|       153|2021-07-09|\n",
      "|      3867|2021-07-09|\n",
      "|      3097|2021-07-09|\n",
      "|      1801|2021-07-09|\n",
      "|      8286|2021-07-09|\n",
      "|       202|2021-07-09|\n",
      "|      1038|2021-07-09|\n",
      "|      7042|2021-07-09|\n",
      "|      2025|2021-07-09|\n",
      "|      6109|2021-07-09|\n",
      "|      8280|2021-07-09|\n",
      "|      4724|2021-07-09|\n",
      "|      1322|2021-07-09|\n",
      "|      5291|2021-07-09|\n",
      "|      4317|2021-07-09|\n",
      "+----------+----------+\n",
      "only showing top 20 rows\n",
      "\n"
     ]
    },
    {
     "name": "stderr",
     "output_type": "stream",
     "text": [
      "\r",
      "                                                                                \r"
     ]
    }
   ],
   "source": [
    "events_static.show()"
   ]
  },
  {
   "cell_type": "code",
   "execution_count": 8,
   "id": "692e48be",
   "metadata": {},
   "outputs": [
    {
     "data": {
      "text/plain": [
       "707"
      ]
     },
     "execution_count": 8,
     "metadata": {},
     "output_type": "execute_result"
    }
   ],
   "source": [
    "events_static.count()"
   ]
  },
  {
   "cell_type": "code",
   "execution_count": 9,
   "id": "3f96300f",
   "metadata": {},
   "outputs": [],
   "source": [
    "events_streaming = spark.readStream\\\n",
    "    .schema(json_schema)\\\n",
    "    .option(\"maxFilesPerTrigger\", 1)\\\n",
    "    .json(\"/datalake/bronze/rd_payload/spark_stream/\")   # .kafka(\"...\")"
   ]
  },
  {
   "cell_type": "code",
   "execution_count": 10,
   "id": "ed925f2c",
   "metadata": {},
   "outputs": [],
   "source": [
    "# Append mode"
   ]
  },
  {
   "cell_type": "code",
   "execution_count": 11,
   "id": "3ac07bdb",
   "metadata": {},
   "outputs": [],
   "source": [
    "append_df = events_streaming\\\n",
    "    .where(col('product_id') < 10000)"
   ]
  },
  {
   "cell_type": "code",
   "execution_count": 12,
   "id": "0696e7e2",
   "metadata": {},
   "outputs": [
    {
     "name": "stderr",
     "output_type": "stream",
     "text": [
      "22/04/03 12:09:06 WARN streaming.StreamingQueryManager: Temporary checkpoint location created which is deleted normally when the query didn't fail: /tmp/temporary-cc2fe707-e34a-491e-af32-50d37915e4d2. If it's required to delete it under any circumstances, please set spark.sql.streaming.forceDeleteTempCheckpointLocation to true. Important to know deleting temp checkpoint folder is best effort.\n",
      "                                                                                \r"
     ]
    }
   ],
   "source": [
    "append = append_df.writeStream\\\n",
    "    .format(\"memory\")\\\n",
    "    .queryName(\"event_stream_append\")\\\n",
    "    .outputMode(\"append\")\\\n",
    "    .start()"
   ]
  },
  {
   "cell_type": "code",
   "execution_count": 13,
   "id": "ba80be11",
   "metadata": {},
   "outputs": [],
   "source": [
    "# %sql\n",
    "# select * from event_stream_append;   # it works in DataBricks\n",
    "# select count(*) from event_stream_append;"
   ]
  },
  {
   "cell_type": "code",
   "execution_count": 14,
   "id": "1b8f37f3",
   "metadata": {},
   "outputs": [
    {
     "name": "stdout",
     "output_type": "stream",
     "text": [
      "+----------+----------+\n",
      "|product_id|      date|\n",
      "+----------+----------+\n",
      "|      4310|2021-07-09|\n",
      "|      8251|2021-07-09|\n",
      "|      6870|2021-07-09|\n",
      "|      2606|2021-07-09|\n",
      "|      1334|2021-07-09|\n",
      "|       153|2021-07-09|\n",
      "|      3867|2021-07-09|\n",
      "|      3097|2021-07-09|\n",
      "|      1801|2021-07-09|\n",
      "|      8286|2021-07-09|\n",
      "|       202|2021-07-09|\n",
      "|      1038|2021-07-09|\n",
      "|      7042|2021-07-09|\n",
      "|      2025|2021-07-09|\n",
      "|      6109|2021-07-09|\n",
      "|      8280|2021-07-09|\n",
      "|      4724|2021-07-09|\n",
      "|      1322|2021-07-09|\n",
      "|      5291|2021-07-09|\n",
      "|      4317|2021-07-09|\n",
      "+----------+----------+\n",
      "only showing top 20 rows\n",
      "\n"
     ]
    }
   ],
   "source": [
    "spark.sql(\"select * from event_stream_append\").show()"
   ]
  },
  {
   "cell_type": "code",
   "execution_count": 15,
   "id": "175a3dbe",
   "metadata": {},
   "outputs": [
    {
     "name": "stdout",
     "output_type": "stream",
     "text": [
      "+--------+\n",
      "|count(1)|\n",
      "+--------+\n",
      "|    1385|\n",
      "+--------+\n",
      "\n"
     ]
    }
   ],
   "source": [
    "spark.sql(\"select count(*) from event_stream_append\").show()"
   ]
  },
  {
   "cell_type": "code",
   "execution_count": 16,
   "id": "fab0d597",
   "metadata": {},
   "outputs": [],
   "source": [
    "append.stop()"
   ]
  },
  {
   "cell_type": "code",
   "execution_count": 17,
   "id": "ad4046c6",
   "metadata": {},
   "outputs": [],
   "source": [
    "append_df = events_streaming\\\n",
    "    .where(col('product_id') > 10000)"
   ]
  },
  {
   "cell_type": "code",
   "execution_count": 18,
   "id": "4e93cdd6",
   "metadata": {},
   "outputs": [
    {
     "name": "stderr",
     "output_type": "stream",
     "text": [
      "22/04/03 12:09:22 WARN streaming.StreamingQueryManager: Temporary checkpoint location created which is deleted normally when the query didn't fail: /tmp/temporary-223e3c35-e2d2-4120-91c8-fe629fa3be7a. If it's required to delete it under any circumstances, please set spark.sql.streaming.forceDeleteTempCheckpointLocation to true. Important to know deleting temp checkpoint folder is best effort.\n"
     ]
    }
   ],
   "source": [
    "append = append_df.writeStream\\\n",
    "    .format(\"memory\")\\\n",
    "    .queryName(\"event_stream_append\")\\\n",
    "    .outputMode(\"append\")\\\n",
    "    .start()"
   ]
  },
  {
   "cell_type": "code",
   "execution_count": 19,
   "id": "2e735f49",
   "metadata": {},
   "outputs": [
    {
     "name": "stdout",
     "output_type": "stream",
     "text": [
      "+--------+\n",
      "|count(1)|\n",
      "+--------+\n",
      "|    5372|\n",
      "+--------+\n",
      "\n"
     ]
    }
   ],
   "source": [
    "spark.sql(\"select count(*) from event_stream_append\").show()"
   ]
  },
  {
   "cell_type": "code",
   "execution_count": 20,
   "id": "05982af5",
   "metadata": {},
   "outputs": [],
   "source": [
    "append.stop()"
   ]
  },
  {
   "cell_type": "code",
   "execution_count": 21,
   "id": "85a4fcfd",
   "metadata": {},
   "outputs": [],
   "source": [
    "# Complete mode"
   ]
  },
  {
   "cell_type": "code",
   "execution_count": 22,
   "id": "6c6b6abd",
   "metadata": {},
   "outputs": [],
   "source": [
    "complete_df = events_streaming\\\n",
    "    .groupBy(col('date'))\\\n",
    "    .count()"
   ]
  },
  {
   "cell_type": "code",
   "execution_count": 23,
   "id": "0ea9247c",
   "metadata": {},
   "outputs": [
    {
     "name": "stderr",
     "output_type": "stream",
     "text": [
      "22/04/03 12:09:41 WARN streaming.StreamingQueryManager: Temporary checkpoint location created which is deleted normally when the query didn't fail: /tmp/temporary-a40d459c-5639-4d21-b41f-ab7070bbf87d. If it's required to delete it under any circumstances, please set spark.sql.streaming.forceDeleteTempCheckpointLocation to true. Important to know deleting temp checkpoint folder is best effort.\n",
      "[Stage 15:======================================>               (141 + 1) / 200]\r"
     ]
    }
   ],
   "source": [
    "complete = complete_df.writeStream\\\n",
    "    .format(\"memory\")\\\n",
    "    .queryName(\"event_stream_complete\").outputMode(\"complete\").start()"
   ]
  },
  {
   "cell_type": "code",
   "execution_count": 24,
   "id": "9ef3e293",
   "metadata": {},
   "outputs": [
    {
     "name": "stderr",
     "output_type": "stream",
     "text": [
      "[Stage 17:========================================>             (149 + 1) / 200]\r"
     ]
    }
   ],
   "source": [
    "# %sql\n",
    "# select * from event_stream_complete;   # it works in DataBricks\n",
    "# select count(*) from event_stream_complete;"
   ]
  },
  {
   "cell_type": "code",
   "execution_count": 26,
   "id": "30528234",
   "metadata": {
    "scrolled": true
   },
   "outputs": [
    {
     "name": "stdout",
     "output_type": "stream",
     "text": [
      "+----------+-----+\n",
      "|      date|count|\n",
      "+----------+-----+\n",
      "|2021-07-08| 1540|\n",
      "|2021-07-07| 1881|\n",
      "|2021-07-09| 3336|\n",
      "+----------+-----+\n",
      "\n"
     ]
    }
   ],
   "source": [
    "spark.sql(\"select * from event_stream_complete\").show()"
   ]
  },
  {
   "cell_type": "code",
   "execution_count": 27,
   "id": "a29a3ccf",
   "metadata": {},
   "outputs": [],
   "source": [
    "complete.stop()"
   ]
  },
  {
   "cell_type": "code",
   "execution_count": 28,
   "id": "32682506",
   "metadata": {},
   "outputs": [],
   "source": [
    "complete_df = events_streaming\\\n",
    "    .groupBy(col('product_id'), window(col(\"date\"), '1 day'))\\\n",
    "    .count()   # windowing 1 day delay for execution (wait for grouping, joining, usually - 15 minutes)"
   ]
  },
  {
   "cell_type": "code",
   "execution_count": 29,
   "id": "f25456d7",
   "metadata": {},
   "outputs": [
    {
     "name": "stderr",
     "output_type": "stream",
     "text": [
      "22/04/03 12:11:56 WARN streaming.StreamingQueryManager: Temporary checkpoint location created which is deleted normally when the query didn't fail: /tmp/temporary-3ff77f34-2055-4d6a-aef4-efab7f803ce6. If it's required to delete it under any circumstances, please set spark.sql.streaming.forceDeleteTempCheckpointLocation to true. Important to know deleting temp checkpoint folder is best effort.\n",
      "[Stage 27:====>                                                  (17 + 1) / 200]\r"
     ]
    }
   ],
   "source": [
    "complete = complete_df.writeStream\\\n",
    "    .format(\"memory\")\\\n",
    "    .queryName(\"event_stream_complete\")\\\n",
    "    .outputMode(\"complete\")\\\n",
    "    .start()      # need for aggregation operations"
   ]
  },
  {
   "cell_type": "code",
   "execution_count": 31,
   "id": "fd28fb9b",
   "metadata": {},
   "outputs": [
    {
     "name": "stdout",
     "output_type": "stream",
     "text": [
      "+--------+\n",
      "|count(1)|\n",
      "+--------+\n",
      "|    6584|\n",
      "+--------+\n",
      "\n"
     ]
    }
   ],
   "source": [
    "spark.sql(\"select count(*) from event_stream_complete\").show()"
   ]
  },
  {
   "cell_type": "code",
   "execution_count": 32,
   "id": "73741df7",
   "metadata": {},
   "outputs": [],
   "source": [
    "complete.stop()"
   ]
  },
  {
   "cell_type": "code",
   "execution_count": null,
   "id": "4b3e4eb1",
   "metadata": {},
   "outputs": [],
   "source": []
  }
 ],
 "metadata": {
  "kernelspec": {
   "display_name": "Python 3 (ipykernel)",
   "language": "python",
   "name": "python3"
  },
  "language_info": {
   "codemirror_mode": {
    "name": "ipython",
    "version": 3
   },
   "file_extension": ".py",
   "mimetype": "text/x-python",
   "name": "python",
   "nbconvert_exporter": "python",
   "pygments_lexer": "ipython3",
   "version": "3.8.8"
  }
 },
 "nbformat": 4,
 "nbformat_minor": 5
}
