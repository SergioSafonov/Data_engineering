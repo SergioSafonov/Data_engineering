{
 "cells": [
  {
   "cell_type": "code",
   "execution_count": 1,
   "id": "64af08ca",
   "metadata": {},
   "outputs": [],
   "source": [
    "from pyspark.sql import SparkSession\n",
    "import pyspark.sql.functions as F"
   ]
  },
  {
   "cell_type": "code",
   "execution_count": 2,
   "id": "fae16eda",
   "metadata": {},
   "outputs": [
    {
     "name": "stderr",
     "output_type": "stream",
     "text": [
      "Setting default log level to \"WARN\".\n",
      "To adjust logging level use sc.setLogLevel(newLevel). For SparkR, use setLogLevel(newLevel).\n",
      "22/03/05 15:49:24 WARN util.Utils: Service 'SparkUI' could not bind on port 4040. Attempting port 4041.\n",
      "22/03/05 15:49:24 WARN util.Utils: Service 'SparkUI' could not bind on port 4041. Attempting port 4042.\n",
      "22/03/05 15:49:24 WARN util.Utils: Service 'SparkUI' could not bind on port 4042. Attempting port 4043.\n",
      "22/03/05 15:49:24 WARN util.Utils: Service 'SparkUI' could not bind on port 4043. Attempting port 4044.\n"
     ]
    }
   ],
   "source": [
    "spark = SparkSession.builder\\\n",
    "    .master(\"local\")\\\n",
    "    .appName(\"lesson_15\")\\\n",
    "    .getOrCreate()\n",
    "sc = spark.sparkContext"
   ]
  },
  {
   "cell_type": "code",
   "execution_count": 11,
   "id": "ac839fd4",
   "metadata": {},
   "outputs": [],
   "source": [
    "df = spark.read\\\n",
    "    .option(\"header\", True)\\\n",
    "    .option(\"inferSchema\", True)\\\n",
    "    .csv(\"/datalake/bronze/dshop/clients/2022-02-24/clients.csv\")"
   ]
  },
  {
   "cell_type": "code",
   "execution_count": 12,
   "id": "636fdd01",
   "metadata": {},
   "outputs": [
    {
     "data": {
      "text/plain": [
       "['client_id', 'fullname', 'location_area_id']"
      ]
     },
     "execution_count": 12,
     "metadata": {},
     "output_type": "execute_result"
    }
   ],
   "source": [
    "df.first()\n",
    "df.columns"
   ]
  },
  {
   "cell_type": "code",
   "execution_count": 13,
   "id": "0c629045",
   "metadata": {},
   "outputs": [
    {
     "name": "stdout",
     "output_type": "stream",
     "text": [
      "== Physical Plan ==\n",
      "Exchange RoundRobinPartitioning(6), REPARTITION_WITH_NUM, [id=#107]\n",
      "+- FileScan csv [client_id#64,fullname#65,location_area_id#66] Batched: false, DataFilters: [], Format: CSV, Location: InMemoryFileIndex[hdfs://master:9000/datalake/bronze/dshop/clients/2022-02-24/clients.csv], PartitionFilters: [], PushedFilters: [], ReadSchema: struct<client_id:int,fullname:string,location_area_id:int>\n",
      "\n",
      "\n"
     ]
    }
   ],
   "source": [
    "df.repartition(6).explain()   # distribute data between 6 partitions round robin   (Num partitions >= Num worker numbers)"
   ]
  },
  {
   "cell_type": "code",
   "execution_count": 14,
   "id": "b823b2ce",
   "metadata": {},
   "outputs": [
    {
     "name": "stdout",
     "output_type": "stream",
     "text": [
      "== Physical Plan ==\n",
      "Exchange hashpartitioning(location_area_id#66, 6), REPARTITION_WITH_NUM, [id=#114]\n",
      "+- FileScan csv [client_id#64,fullname#65,location_area_id#66] Batched: false, DataFilters: [], Format: CSV, Location: InMemoryFileIndex[hdfs://master:9000/datalake/bronze/dshop/clients/2022-02-24/clients.csv], PartitionFilters: [], PushedFilters: [], ReadSchema: struct<client_id:int,fullname:string,location_area_id:int>\n",
      "\n",
      "\n"
     ]
    }
   ],
   "source": [
    "df.repartition(6, \"location_area_id\").explain()   # distribute data between 6 partition by location_area_id"
   ]
  },
  {
   "cell_type": "code",
   "execution_count": 16,
   "id": "66717cea",
   "metadata": {},
   "outputs": [
    {
     "name": "stdout",
     "output_type": "stream",
     "text": [
      "== Physical Plan ==\n",
      "Coalesce 2\n",
      "+- FileScan csv [client_id#64,fullname#65,location_area_id#66] Batched: false, DataFilters: [], Format: CSV, Location: InMemoryFileIndex[hdfs://master:9000/datalake/bronze/dshop/clients/2022-02-24/clients.csv], PartitionFilters: [], PushedFilters: [], ReadSchema: struct<client_id:int,fullname:string,location_area_id:int>\n",
      "\n",
      "\n"
     ]
    }
   ],
   "source": [
    "df.coalesce(2).explain()     # unite partitions (merge) - as result 2 partitions"
   ]
  },
  {
   "cell_type": "code",
   "execution_count": null,
   "id": "b938b2eb",
   "metadata": {},
   "outputs": [],
   "source": []
  }
 ],
 "metadata": {
  "kernelspec": {
   "display_name": "Python 3 (ipykernel)",
   "language": "python",
   "name": "python3"
  },
  "language_info": {
   "codemirror_mode": {
    "name": "ipython",
    "version": 3
   },
   "file_extension": ".py",
   "mimetype": "text/x-python",
   "name": "python",
   "nbconvert_exporter": "python",
   "pygments_lexer": "ipython3",
   "version": "3.8.8"
  }
 },
 "nbformat": 4,
 "nbformat_minor": 5
}
