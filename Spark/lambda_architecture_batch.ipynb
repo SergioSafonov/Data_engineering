{
 "cells": [
  {
   "cell_type": "code",
   "execution_count": 1,
   "id": "b5d1102b",
   "metadata": {},
   "outputs": [],
   "source": [
    "from pyspark.sql import SparkSession\n",
    "from pyspark.sql.functions import *\n",
    "from pyspark.sql.types import *"
   ]
  },
  {
   "cell_type": "code",
   "execution_count": 2,
   "id": "2c4d9d4f",
   "metadata": {},
   "outputs": [
    {
     "name": "stderr",
     "output_type": "stream",
     "text": [
      "Setting default log level to \"WARN\".\n",
      "To adjust logging level use sc.setLogLevel(newLevel). For SparkR, use setLogLevel(newLevel).\n",
      "22/04/03 12:13:39 WARN util.Utils: Service 'SparkUI' could not bind on port 4040. Attempting port 4041.\n"
     ]
    }
   ],
   "source": [
    "# %fs   - for using in DataBricks, \"spark\" already runned\n",
    "# ls /databricks-datasets\n",
    "\n",
    "spark = SparkSession.builder\\\n",
    "    .master(\"local\")\\\n",
    "    .appName(\"lambda\")\\\n",
    "    .getOrCreate()"
   ]
  },
  {
   "cell_type": "code",
   "execution_count": 3,
   "id": "6521fbb5",
   "metadata": {},
   "outputs": [
    {
     "name": "stderr",
     "output_type": "stream",
     "text": [
      "                                                                                \r"
     ]
    }
   ],
   "source": [
    "client = spark.read\\\n",
    "    .option(\"header\", True)\\\n",
    "    .option(\"inferSchema\", True)\\\n",
    "    .csv(\"/datalake/bronze/dshop/clients/2022-02-24/clients.csv\")"
   ]
  },
  {
   "cell_type": "code",
   "execution_count": 4,
   "id": "2cb602c8",
   "metadata": {},
   "outputs": [
    {
     "data": {
      "text/plain": [
       "DataFrame[client_id: int, fullname: string, location_area_id: int]"
      ]
     },
     "metadata": {},
     "output_type": "display_data"
    }
   ],
   "source": [
    "display(client)"
   ]
  },
  {
   "cell_type": "code",
   "execution_count": 5,
   "id": "473061b7",
   "metadata": {},
   "outputs": [],
   "source": [
    "client = client.select('client_id', col('fullname').alias('client_name'))"
   ]
  },
  {
   "cell_type": "code",
   "execution_count": 6,
   "id": "b4a88e33",
   "metadata": {},
   "outputs": [
    {
     "name": "stdout",
     "output_type": "stream",
     "text": [
      "+---------+---------------+\n",
      "|client_id|    client_name|\n",
      "+---------+---------------+\n",
      "|        1| Anthony Reilly|\n",
      "|        2|Christina Boyle|\n",
      "|        3|  Andrew Walker|\n",
      "|        4|Emily Rodriguez|\n",
      "|        5|    Glen Travis|\n",
      "|        6|     Adam Mayer|\n",
      "|        7|  Lydia Griffin|\n",
      "|        8|     Marcus Cox|\n",
      "|        9|   Sean Johnson|\n",
      "|       10|    Joel Mullen|\n",
      "|       11|   Laurie Brown|\n",
      "|       12|  Kevin Johnson|\n",
      "|       13|    Paula Lopez|\n",
      "|       14|Michelle Hodges|\n",
      "|       15|   Jerome Russo|\n",
      "|       16|Jonathon Porter|\n",
      "|       17| Andrew Jackson|\n",
      "|       18|   Emma Jackson|\n",
      "|       19|     Pam Wilson|\n",
      "|       20| Andrea Sanders|\n",
      "+---------+---------------+\n",
      "only showing top 20 rows\n",
      "\n"
     ]
    }
   ],
   "source": [
    "client.show()"
   ]
  },
  {
   "cell_type": "code",
   "execution_count": 7,
   "id": "2c74f7f0",
   "metadata": {
    "scrolled": true
   },
   "outputs": [
    {
     "name": "stderr",
     "output_type": "stream",
     "text": [
      "                                                                                \r"
     ]
    }
   ],
   "source": [
    "# client.write.format(\"delta\").save(\"/datalake/silver/dshop/clients\")    # only in DataBricks - \"delta\" is a parquet file and table \n",
    "client.write\\\n",
    "    .parquet(\"/datalake/silver/dshop/clients/\", mode='overwrite')"
   ]
  },
  {
   "cell_type": "code",
   "execution_count": 8,
   "id": "ae729ffc",
   "metadata": {},
   "outputs": [],
   "source": [
    "client.createOrReplaceTempView('dim_client')\n",
    "# % sql\n",
    "# CREATE TABLE tmp.client USING DELTA LOCATION '/datalake/silver/dshop/clients'  # Databricks creation table"
   ]
  },
  {
   "cell_type": "code",
   "execution_count": 9,
   "id": "01f2da2f",
   "metadata": {},
   "outputs": [
    {
     "name": "stdout",
     "output_type": "stream",
     "text": [
      "+---------+---------------+\n",
      "|client_id|    client_name|\n",
      "+---------+---------------+\n",
      "|        1| Anthony Reilly|\n",
      "|        2|Christina Boyle|\n",
      "|        3|  Andrew Walker|\n",
      "|        4|Emily Rodriguez|\n",
      "|        5|    Glen Travis|\n",
      "|        6|     Adam Mayer|\n",
      "|        7|  Lydia Griffin|\n",
      "|        8|     Marcus Cox|\n",
      "|        9|   Sean Johnson|\n",
      "|       10|    Joel Mullen|\n",
      "|       11|   Laurie Brown|\n",
      "|       12|  Kevin Johnson|\n",
      "|       13|    Paula Lopez|\n",
      "|       14|Michelle Hodges|\n",
      "|       15|   Jerome Russo|\n",
      "|       16|Jonathon Porter|\n",
      "|       17| Andrew Jackson|\n",
      "|       18|   Emma Jackson|\n",
      "|       19|     Pam Wilson|\n",
      "|       20| Andrea Sanders|\n",
      "+---------+---------------+\n",
      "only showing top 20 rows\n",
      "\n"
     ]
    }
   ],
   "source": [
    "spark.sql(\"\"\" SELECT * FROM dim_client \"\"\").show()\n",
    "# %sql\n",
    "# select * from tmp.client   # DataBricks selecting"
   ]
  },
  {
   "cell_type": "code",
   "execution_count": 10,
   "id": "69fd4d7c",
   "metadata": {},
   "outputs": [],
   "source": [
    "client_df = spark.table(\"dim_client\")"
   ]
  },
  {
   "cell_type": "code",
   "execution_count": 11,
   "id": "f4fbebad",
   "metadata": {},
   "outputs": [
    {
     "name": "stdout",
     "output_type": "stream",
     "text": [
      "+---------+---------------+\n",
      "|client_id|    client_name|\n",
      "+---------+---------------+\n",
      "|        1| Anthony Reilly|\n",
      "|        2|Christina Boyle|\n",
      "|        3|  Andrew Walker|\n",
      "|        4|Emily Rodriguez|\n",
      "|        5|    Glen Travis|\n",
      "|        6|     Adam Mayer|\n",
      "|        7|  Lydia Griffin|\n",
      "|        8|     Marcus Cox|\n",
      "|        9|   Sean Johnson|\n",
      "|       10|    Joel Mullen|\n",
      "|       11|   Laurie Brown|\n",
      "|       12|  Kevin Johnson|\n",
      "|       13|    Paula Lopez|\n",
      "|       14|Michelle Hodges|\n",
      "|       15|   Jerome Russo|\n",
      "|       16|Jonathon Porter|\n",
      "|       17| Andrew Jackson|\n",
      "|       18|   Emma Jackson|\n",
      "|       19|     Pam Wilson|\n",
      "|       20| Andrea Sanders|\n",
      "+---------+---------------+\n",
      "only showing top 20 rows\n",
      "\n"
     ]
    }
   ],
   "source": [
    "client_df.show()"
   ]
  },
  {
   "cell_type": "code",
   "execution_count": null,
   "id": "455e08f5",
   "metadata": {},
   "outputs": [],
   "source": []
  }
 ],
 "metadata": {
  "kernelspec": {
   "display_name": "Python 3 (ipykernel)",
   "language": "python",
   "name": "python3"
  },
  "language_info": {
   "codemirror_mode": {
    "name": "ipython",
    "version": 3
   },
   "file_extension": ".py",
   "mimetype": "text/x-python",
   "name": "python",
   "nbconvert_exporter": "python",
   "pygments_lexer": "ipython3",
   "version": "3.8.8"
  }
 },
 "nbformat": 4,
 "nbformat_minor": 5
}
