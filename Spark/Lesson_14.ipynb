{
 "cells": [
  {
   "cell_type": "code",
   "execution_count": 2,
   "id": "8e5a1c9e",
   "metadata": {},
   "outputs": [],
   "source": [
    "from pyspark.sql import SparkSession"
   ]
  },
  {
   "cell_type": "code",
   "execution_count": 3,
   "id": "1b9a5528",
   "metadata": {},
   "outputs": [
    {
     "name": "stderr",
     "output_type": "stream",
     "text": [
      "Setting default log level to \"WARN\".\n",
      "To adjust logging level use sc.setLogLevel(newLevel). For SparkR, use setLogLevel(newLevel).\n",
      "22/02/24 11:40:42 WARN util.Utils: Service 'SparkUI' could not bind on port 4040. Attempting port 4041.\n",
      "22/02/24 11:40:42 WARN util.Utils: Service 'SparkUI' could not bind on port 4041. Attempting port 4042.\n"
     ]
    }
   ],
   "source": [
    "spark = SparkSession.builder\\\n",
    "     .config('spark.driver.extraClassPath'\n",
    "            , '/home/user/shared_folder/Distrib/postgresql-42.2.23.jar')\\\n",
    "    .master('local')\\\n",
    "    .appName(\"lesson_14\")\\\n",
    "    .getOrCreate()"
   ]
  },
  {
   "cell_type": "code",
   "execution_count": 4,
   "id": "d09b1530",
   "metadata": {},
   "outputs": [
    {
     "name": "stderr",
     "output_type": "stream",
     "text": [
      "\r",
      "[Stage 0:>                                                          (0 + 1) / 1]\r",
      "\r",
      "                                                                                \r"
     ]
    }
   ],
   "source": [
    "df = spark.read.parquet('/datalake/bronze/pagila/film/2022-02-24/film/')"
   ]
  },
  {
   "cell_type": "code",
   "execution_count": 6,
   "id": "8fdb69d4",
   "metadata": {},
   "outputs": [
    {
     "data": {
      "text/plain": [
       "Row(film_id=1, title='ACADEMY DINOSAUR', description='A Epic Drama of a Feminist And a Mad Scientist who must Battle a Teacher in The Canadian Rockies', release_year=2006, language_id=1, original_language_id=None, rental_duration=6, rental_rate=Decimal('0.99'), length=86, replacement_cost=Decimal('20.99'), rating='PG', last_update=datetime.datetime(2020, 9, 10, 19, 46, 3, 905795), special_features=['Deleted Scenes', 'Behind the Scenes'], fulltext=\"'academi':1 'battl':15 'canadian':20 'dinosaur':2 'drama':5 'epic':4 'feminist':8 'mad':11 'must':14 'rocki':21 'scientist':12 'teacher':17\")"
      ]
     },
     "execution_count": 6,
     "metadata": {},
     "output_type": "execute_result"
    }
   ],
   "source": [
    "df.first()"
   ]
  },
  {
   "cell_type": "code",
   "execution_count": 7,
   "id": "8519f70a",
   "metadata": {},
   "outputs": [
    {
     "data": {
      "text/plain": [
       "2000"
      ]
     },
     "execution_count": 7,
     "metadata": {},
     "output_type": "execute_result"
    }
   ],
   "source": [
    "df.count()"
   ]
  },
  {
   "cell_type": "code",
   "execution_count": 8,
   "id": "2a329c63",
   "metadata": {},
   "outputs": [
    {
     "name": "stdout",
     "output_type": "stream",
     "text": [
      "root\n",
      " |-- film_id: integer (nullable = true)\n",
      " |-- title: string (nullable = true)\n",
      " |-- description: string (nullable = true)\n",
      " |-- release_year: integer (nullable = true)\n",
      " |-- language_id: integer (nullable = true)\n",
      " |-- original_language_id: integer (nullable = true)\n",
      " |-- rental_duration: short (nullable = true)\n",
      " |-- rental_rate: decimal(4,2) (nullable = true)\n",
      " |-- length: short (nullable = true)\n",
      " |-- replacement_cost: decimal(5,2) (nullable = true)\n",
      " |-- rating: string (nullable = true)\n",
      " |-- last_update: timestamp (nullable = true)\n",
      " |-- special_features: array (nullable = true)\n",
      " |    |-- element: string (containsNull = true)\n",
      " |-- fulltext: string (nullable = true)\n",
      "\n"
     ]
    }
   ],
   "source": [
    "df.printSchema()"
   ]
  },
  {
   "cell_type": "code",
   "execution_count": null,
   "id": "4e2fd91c",
   "metadata": {},
   "outputs": [],
   "source": []
  }
 ],
 "metadata": {
  "kernelspec": {
   "display_name": "Python 3 (ipykernel)",
   "language": "python",
   "name": "python3"
  },
  "language_info": {
   "codemirror_mode": {
    "name": "ipython",
    "version": 3
   },
   "file_extension": ".py",
   "mimetype": "text/x-python",
   "name": "python",
   "nbconvert_exporter": "python",
   "pygments_lexer": "ipython3",
   "version": "3.8.8"
  }
 },
 "nbformat": 4,
 "nbformat_minor": 5
}
