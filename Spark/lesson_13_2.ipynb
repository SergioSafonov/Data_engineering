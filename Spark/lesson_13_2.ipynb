{
 "cells": [
  {
   "cell_type": "code",
   "execution_count": 43,
   "id": "0a15580f",
   "metadata": {},
   "outputs": [],
   "source": [
    "import os\n",
    "from datetime import datetime\n",
    "\n",
    "import psycopg2\n",
    "\n",
    "from pyspark.sql import SparkSession\n",
    "from pyspark.sql.types import *\n",
    "import pyspark.sql.functions as F\n",
    "\n",
    "from hdfs import InsecureClient"
   ]
  },
  {
   "cell_type": "code",
   "execution_count": 44,
   "id": "6ec44606",
   "metadata": {},
   "outputs": [
    {
     "name": "stderr",
     "output_type": "stream",
     "text": [
      "ERROR:py4j.java_gateway:An error occurred while trying to connect to the Java server (127.0.0.1:33263)\n",
      "Traceback (most recent call last):\n",
      "  File \"/home/user/.local/lib/python3.8/site-packages/py4j/java_gateway.py\", line 977, in _get_connection\n",
      "    connection = self.deque.pop()\n",
      "IndexError: pop from an empty deque\n",
      "\n",
      "During handling of the above exception, another exception occurred:\n",
      "\n",
      "Traceback (most recent call last):\n",
      "  File \"/home/user/.local/lib/python3.8/site-packages/py4j/java_gateway.py\", line 1115, in start\n",
      "    self.socket.connect((self.address, self.port))\n",
      "ConnectionRefusedError: [Errno 111] Connection refused\n",
      "ERROR:py4j.java_gateway:An error occurred while trying to connect to the Java server (127.0.0.1:33263)\n",
      "Traceback (most recent call last):\n",
      "  File \"/home/user/.local/lib/python3.8/site-packages/py4j/java_gateway.py\", line 977, in _get_connection\n",
      "    connection = self.deque.pop()\n",
      "IndexError: pop from an empty deque\n",
      "\n",
      "During handling of the above exception, another exception occurred:\n",
      "\n",
      "Traceback (most recent call last):\n",
      "  File \"/home/user/.local/lib/python3.8/site-packages/py4j/java_gateway.py\", line 1115, in start\n",
      "    self.socket.connect((self.address, self.port))\n",
      "ConnectionRefusedError: [Errno 111] Connection refused\n",
      "\n",
      "During handling of the above exception, another exception occurred:\n",
      "\n",
      "Traceback (most recent call last):\n",
      "  File \"/home/user/.local/lib/python3.8/site-packages/IPython/core/interactiveshell.py\", line 3251, in run_code\n",
      "    exec(code_obj, self.user_global_ns, self.user_ns)\n",
      "  File \"/tmp/ipykernel_24400/2978482337.py\", line 1, in <module>\n",
      "    spark = SparkSession.builder\\\n",
      "  File \"/home/user/.local/lib/python3.8/site-packages/pyspark/sql/session.py\", line 233, in getOrCreate\n",
      "    session._jsparkSession.sessionState().conf().setConfString(key, value)\n",
      "  File \"/home/user/.local/lib/python3.8/site-packages/py4j/java_gateway.py\", line 1303, in __call__\n",
      "    answer = self.gateway_client.send_command(command)\n",
      "  File \"/home/user/.local/lib/python3.8/site-packages/py4j/java_gateway.py\", line 1031, in send_command\n",
      "    connection = self._get_connection()\n",
      "  File \"/home/user/.local/lib/python3.8/site-packages/py4j/java_gateway.py\", line 979, in _get_connection\n",
      "    connection = self._create_connection()\n",
      "  File \"/home/user/.local/lib/python3.8/site-packages/py4j/java_gateway.py\", line 985, in _create_connection\n",
      "    connection.start()\n",
      "  File \"/home/user/.local/lib/python3.8/site-packages/py4j/java_gateway.py\", line 1127, in start\n",
      "    raise Py4JNetworkError(msg, e)\n",
      "py4j.protocol.Py4JNetworkError: An error occurred while trying to connect to the Java server (127.0.0.1:33263)\n",
      "\n",
      "During handling of the above exception, another exception occurred:\n",
      "\n",
      "Traceback (most recent call last):\n",
      "  File \"/home/user/.local/lib/python3.8/site-packages/IPython/core/interactiveshell.py\", line 1934, in showtraceback\n",
      "    stb = value._render_traceback_()\n",
      "AttributeError: 'Py4JNetworkError' object has no attribute '_render_traceback_'\n",
      "\n",
      "During handling of the above exception, another exception occurred:\n",
      "\n",
      "Traceback (most recent call last):\n",
      "  File \"/home/user/.local/lib/python3.8/site-packages/executing/executing.py\", line 317, in executing\n",
      "    args = executing_cache[key]\n",
      "KeyError: (<code object run_code at 0x7fc8a604d710, file \"/home/user/.local/lib/python3.8/site-packages/IPython/core/interactiveshell.py\", line 3215>, 140499755521808, 74)\n",
      "\n",
      "During handling of the above exception, another exception occurred:\n",
      "\n",
      "Traceback (most recent call last):\n",
      "  File \"/home/user/.local/lib/python3.8/site-packages/py4j/java_gateway.py\", line 977, in _get_connection\n",
      "    connection = self.deque.pop()\n",
      "IndexError: pop from an empty deque\n",
      "\n",
      "During handling of the above exception, another exception occurred:\n",
      "\n",
      "Traceback (most recent call last):\n",
      "  File \"/home/user/.local/lib/python3.8/site-packages/py4j/java_gateway.py\", line 1115, in start\n",
      "    self.socket.connect((self.address, self.port))\n",
      "ConnectionRefusedError: [Errno 111] Connection refused\n",
      "ERROR:py4j.java_gateway:An error occurred while trying to connect to the Java server (127.0.0.1:33263)\n",
      "Traceback (most recent call last):\n",
      "  File \"/home/user/.local/lib/python3.8/site-packages/py4j/java_gateway.py\", line 977, in _get_connection\n",
      "    connection = self.deque.pop()\n",
      "IndexError: pop from an empty deque\n",
      "\n",
      "During handling of the above exception, another exception occurred:\n",
      "\n",
      "Traceback (most recent call last):\n",
      "  File \"/home/user/.local/lib/python3.8/site-packages/py4j/java_gateway.py\", line 1115, in start\n",
      "    self.socket.connect((self.address, self.port))\n",
      "ConnectionRefusedError: [Errno 111] Connection refused\n",
      "\n",
      "During handling of the above exception, another exception occurred:\n",
      "\n",
      "Traceback (most recent call last):\n",
      "  File \"/home/user/.local/lib/python3.8/site-packages/IPython/core/interactiveshell.py\", line 3251, in run_code\n",
      "    exec(code_obj, self.user_global_ns, self.user_ns)\n",
      "  File \"/tmp/ipykernel_24400/2978482337.py\", line 1, in <module>\n",
      "    spark = SparkSession.builder\\\n",
      "  File \"/home/user/.local/lib/python3.8/site-packages/pyspark/sql/session.py\", line 233, in getOrCreate\n",
      "    session._jsparkSession.sessionState().conf().setConfString(key, value)\n",
      "  File \"/home/user/.local/lib/python3.8/site-packages/py4j/java_gateway.py\", line 1303, in __call__\n",
      "    answer = self.gateway_client.send_command(command)\n",
      "  File \"/home/user/.local/lib/python3.8/site-packages/py4j/java_gateway.py\", line 1031, in send_command\n",
      "    connection = self._get_connection()\n",
      "  File \"/home/user/.local/lib/python3.8/site-packages/py4j/java_gateway.py\", line 979, in _get_connection\n",
      "    connection = self._create_connection()\n",
      "  File \"/home/user/.local/lib/python3.8/site-packages/py4j/java_gateway.py\", line 985, in _create_connection\n",
      "    connection.start()\n",
      "  File \"/home/user/.local/lib/python3.8/site-packages/py4j/java_gateway.py\", line 1127, in start\n",
      "    raise Py4JNetworkError(msg, e)\n",
      "py4j.protocol.Py4JNetworkError: An error occurred while trying to connect to the Java server (127.0.0.1:33263)\n",
      "\n",
      "During handling of the above exception, another exception occurred:\n",
      "\n",
      "Traceback (most recent call last):\n",
      "  File \"/home/user/.local/lib/python3.8/site-packages/IPython/core/interactiveshell.py\", line 1934, in showtraceback\n",
      "    stb = value._render_traceback_()\n",
      "AttributeError: 'Py4JNetworkError' object has no attribute '_render_traceback_'\n",
      "\n",
      "During handling of the above exception, another exception occurred:\n",
      "\n",
      "Traceback (most recent call last):\n",
      "  File \"/home/user/.local/lib/python3.8/site-packages/executing/executing.py\", line 317, in executing\n",
      "    args = executing_cache[key]\n",
      "KeyError: (<code object run_code at 0x7fc8a604d710, file \"/home/user/.local/lib/python3.8/site-packages/IPython/core/interactiveshell.py\", line 3215>, 140499755521808, 74)\n",
      "\n",
      "During handling of the above exception, another exception occurred:\n",
      "\n",
      "Traceback (most recent call last):\n",
      "  File \"/home/user/.local/lib/python3.8/site-packages/py4j/java_gateway.py\", line 977, in _get_connection\n",
      "    connection = self.deque.pop()\n",
      "IndexError: pop from an empty deque\n",
      "\n",
      "During handling of the above exception, another exception occurred:\n",
      "\n",
      "Traceback (most recent call last):\n",
      "  File \"/home/user/.local/lib/python3.8/site-packages/py4j/java_gateway.py\", line 1115, in start\n",
      "    self.socket.connect((self.address, self.port))\n",
      "ConnectionRefusedError: [Errno 111] Connection refused\n",
      "ERROR:py4j.java_gateway:An error occurred while trying to connect to the Java server (127.0.0.1:33263)\n",
      "Traceback (most recent call last):\n",
      "  File \"/home/user/.local/lib/python3.8/site-packages/py4j/java_gateway.py\", line 977, in _get_connection\n",
      "    connection = self.deque.pop()\n",
      "IndexError: pop from an empty deque\n",
      "\n",
      "During handling of the above exception, another exception occurred:\n",
      "\n",
      "Traceback (most recent call last):\n",
      "  File \"/home/user/.local/lib/python3.8/site-packages/py4j/java_gateway.py\", line 1115, in start\n",
      "    self.socket.connect((self.address, self.port))\n",
      "ConnectionRefusedError: [Errno 111] Connection refused\n",
      "\n",
      "During handling of the above exception, another exception occurred:\n",
      "\n",
      "Traceback (most recent call last):\n",
      "  File \"/home/user/.local/lib/python3.8/site-packages/IPython/core/interactiveshell.py\", line 3251, in run_code\n",
      "    exec(code_obj, self.user_global_ns, self.user_ns)\n",
      "  File \"/tmp/ipykernel_24400/2978482337.py\", line 1, in <module>\n",
      "    spark = SparkSession.builder\\\n",
      "  File \"/home/user/.local/lib/python3.8/site-packages/pyspark/sql/session.py\", line 233, in getOrCreate\n",
      "    session._jsparkSession.sessionState().conf().setConfString(key, value)\n",
      "  File \"/home/user/.local/lib/python3.8/site-packages/py4j/java_gateway.py\", line 1303, in __call__\n",
      "    answer = self.gateway_client.send_command(command)\n",
      "  File \"/home/user/.local/lib/python3.8/site-packages/py4j/java_gateway.py\", line 1031, in send_command\n",
      "    connection = self._get_connection()\n",
      "  File \"/home/user/.local/lib/python3.8/site-packages/py4j/java_gateway.py\", line 979, in _get_connection\n",
      "    connection = self._create_connection()\n",
      "  File \"/home/user/.local/lib/python3.8/site-packages/py4j/java_gateway.py\", line 985, in _create_connection\n",
      "    connection.start()\n",
      "  File \"/home/user/.local/lib/python3.8/site-packages/py4j/java_gateway.py\", line 1127, in start\n",
      "    raise Py4JNetworkError(msg, e)\n",
      "py4j.protocol.Py4JNetworkError: An error occurred while trying to connect to the Java server (127.0.0.1:33263)\n",
      "\n",
      "During handling of the above exception, another exception occurred:\n",
      "\n",
      "Traceback (most recent call last):\n",
      "  File \"/home/user/.local/lib/python3.8/site-packages/IPython/core/interactiveshell.py\", line 1934, in showtraceback\n",
      "    stb = value._render_traceback_()\n",
      "AttributeError: 'Py4JNetworkError' object has no attribute '_render_traceback_'\n",
      "\n",
      "During handling of the above exception, another exception occurred:\n",
      "\n",
      "Traceback (most recent call last):\n",
      "  File \"/home/user/.local/lib/python3.8/site-packages/executing/executing.py\", line 317, in executing\n",
      "    args = executing_cache[key]\n",
      "KeyError: (<code object run_code at 0x7fc8a604d710, file \"/home/user/.local/lib/python3.8/site-packages/IPython/core/interactiveshell.py\", line 3215>, 140499755521808, 74)\n",
      "\n",
      "During handling of the above exception, another exception occurred:\n",
      "\n",
      "Traceback (most recent call last):\n",
      "  File \"/home/user/.local/lib/python3.8/site-packages/py4j/java_gateway.py\", line 977, in _get_connection\n",
      "    connection = self.deque.pop()\n",
      "IndexError: pop from an empty deque\n",
      "\n",
      "During handling of the above exception, another exception occurred:\n",
      "\n",
      "Traceback (most recent call last):\n",
      "  File \"/home/user/.local/lib/python3.8/site-packages/py4j/java_gateway.py\", line 1115, in start\n",
      "    self.socket.connect((self.address, self.port))\n",
      "ConnectionRefusedError: [Errno 111] Connection refused\n"
     ]
    },
    {
     "name": "stderr",
     "output_type": "stream",
     "text": [
      "ERROR:py4j.java_gateway:An error occurred while trying to connect to the Java server (127.0.0.1:33263)\n",
      "Traceback (most recent call last):\n",
      "  File \"/home/user/.local/lib/python3.8/site-packages/py4j/java_gateway.py\", line 977, in _get_connection\n",
      "    connection = self.deque.pop()\n",
      "IndexError: pop from an empty deque\n",
      "\n",
      "During handling of the above exception, another exception occurred:\n",
      "\n",
      "Traceback (most recent call last):\n",
      "  File \"/home/user/.local/lib/python3.8/site-packages/py4j/java_gateway.py\", line 1115, in start\n",
      "    self.socket.connect((self.address, self.port))\n",
      "ConnectionRefusedError: [Errno 111] Connection refused\n",
      "\n",
      "During handling of the above exception, another exception occurred:\n",
      "\n",
      "Traceback (most recent call last):\n",
      "  File \"/home/user/.local/lib/python3.8/site-packages/IPython/core/interactiveshell.py\", line 3251, in run_code\n",
      "    exec(code_obj, self.user_global_ns, self.user_ns)\n",
      "  File \"/tmp/ipykernel_24400/2978482337.py\", line 1, in <module>\n",
      "    spark = SparkSession.builder\\\n",
      "  File \"/home/user/.local/lib/python3.8/site-packages/pyspark/sql/session.py\", line 233, in getOrCreate\n",
      "    session._jsparkSession.sessionState().conf().setConfString(key, value)\n",
      "  File \"/home/user/.local/lib/python3.8/site-packages/py4j/java_gateway.py\", line 1303, in __call__\n",
      "    answer = self.gateway_client.send_command(command)\n",
      "  File \"/home/user/.local/lib/python3.8/site-packages/py4j/java_gateway.py\", line 1031, in send_command\n",
      "    connection = self._get_connection()\n",
      "  File \"/home/user/.local/lib/python3.8/site-packages/py4j/java_gateway.py\", line 979, in _get_connection\n",
      "    connection = self._create_connection()\n",
      "  File \"/home/user/.local/lib/python3.8/site-packages/py4j/java_gateway.py\", line 985, in _create_connection\n",
      "    connection.start()\n",
      "  File \"/home/user/.local/lib/python3.8/site-packages/py4j/java_gateway.py\", line 1127, in start\n",
      "    raise Py4JNetworkError(msg, e)\n",
      "py4j.protocol.Py4JNetworkError: An error occurred while trying to connect to the Java server (127.0.0.1:33263)\n",
      "\n",
      "During handling of the above exception, another exception occurred:\n",
      "\n",
      "Traceback (most recent call last):\n",
      "  File \"/home/user/.local/lib/python3.8/site-packages/IPython/core/interactiveshell.py\", line 1934, in showtraceback\n",
      "    stb = value._render_traceback_()\n",
      "AttributeError: 'Py4JNetworkError' object has no attribute '_render_traceback_'\n",
      "\n",
      "During handling of the above exception, another exception occurred:\n",
      "\n",
      "Traceback (most recent call last):\n",
      "  File \"/home/user/.local/lib/python3.8/site-packages/executing/executing.py\", line 317, in executing\n",
      "    args = executing_cache[key]\n",
      "KeyError: (<code object getOrCreate at 0x7fc869b3ef50, file \"/home/user/.local/lib/python3.8/site-packages/pyspark/sql/session.py\", line 190>, 140498743586640, 156)\n",
      "\n",
      "During handling of the above exception, another exception occurred:\n",
      "\n",
      "Traceback (most recent call last):\n",
      "  File \"/home/user/.local/lib/python3.8/site-packages/py4j/java_gateway.py\", line 977, in _get_connection\n",
      "    connection = self.deque.pop()\n",
      "IndexError: pop from an empty deque\n",
      "\n",
      "During handling of the above exception, another exception occurred:\n",
      "\n",
      "Traceback (most recent call last):\n",
      "  File \"/home/user/.local/lib/python3.8/site-packages/py4j/java_gateway.py\", line 1115, in start\n",
      "    self.socket.connect((self.address, self.port))\n",
      "ConnectionRefusedError: [Errno 111] Connection refused\n",
      "ERROR:py4j.java_gateway:An error occurred while trying to connect to the Java server (127.0.0.1:33263)\n",
      "Traceback (most recent call last):\n",
      "  File \"/home/user/.local/lib/python3.8/site-packages/py4j/java_gateway.py\", line 977, in _get_connection\n",
      "    connection = self.deque.pop()\n",
      "IndexError: pop from an empty deque\n",
      "\n",
      "During handling of the above exception, another exception occurred:\n",
      "\n",
      "Traceback (most recent call last):\n",
      "  File \"/home/user/.local/lib/python3.8/site-packages/py4j/java_gateway.py\", line 1115, in start\n",
      "    self.socket.connect((self.address, self.port))\n",
      "ConnectionRefusedError: [Errno 111] Connection refused\n",
      "\n",
      "During handling of the above exception, another exception occurred:\n",
      "\n",
      "Traceback (most recent call last):\n",
      "  File \"/home/user/.local/lib/python3.8/site-packages/IPython/core/interactiveshell.py\", line 3251, in run_code\n",
      "    exec(code_obj, self.user_global_ns, self.user_ns)\n",
      "  File \"/tmp/ipykernel_24400/2978482337.py\", line 1, in <module>\n",
      "    spark = SparkSession.builder\\\n",
      "  File \"/home/user/.local/lib/python3.8/site-packages/pyspark/sql/session.py\", line 233, in getOrCreate\n",
      "    session._jsparkSession.sessionState().conf().setConfString(key, value)\n",
      "  File \"/home/user/.local/lib/python3.8/site-packages/py4j/java_gateway.py\", line 1303, in __call__\n",
      "    answer = self.gateway_client.send_command(command)\n",
      "  File \"/home/user/.local/lib/python3.8/site-packages/py4j/java_gateway.py\", line 1031, in send_command\n",
      "    connection = self._get_connection()\n",
      "  File \"/home/user/.local/lib/python3.8/site-packages/py4j/java_gateway.py\", line 979, in _get_connection\n",
      "    connection = self._create_connection()\n",
      "  File \"/home/user/.local/lib/python3.8/site-packages/py4j/java_gateway.py\", line 985, in _create_connection\n",
      "    connection.start()\n",
      "  File \"/home/user/.local/lib/python3.8/site-packages/py4j/java_gateway.py\", line 1127, in start\n",
      "    raise Py4JNetworkError(msg, e)\n",
      "py4j.protocol.Py4JNetworkError: An error occurred while trying to connect to the Java server (127.0.0.1:33263)\n",
      "\n",
      "During handling of the above exception, another exception occurred:\n",
      "\n",
      "Traceback (most recent call last):\n",
      "  File \"/home/user/.local/lib/python3.8/site-packages/IPython/core/interactiveshell.py\", line 1934, in showtraceback\n",
      "    stb = value._render_traceback_()\n",
      "AttributeError: 'Py4JNetworkError' object has no attribute '_render_traceback_'\n",
      "\n",
      "During handling of the above exception, another exception occurred:\n",
      "\n",
      "Traceback (most recent call last):\n",
      "  File \"/home/user/.local/lib/python3.8/site-packages/executing/executing.py\", line 317, in executing\n",
      "    args = executing_cache[key]\n",
      "KeyError: (<code object getOrCreate at 0x7fc869b3ef50, file \"/home/user/.local/lib/python3.8/site-packages/pyspark/sql/session.py\", line 190>, 140498743586640, 156)\n",
      "\n",
      "During handling of the above exception, another exception occurred:\n",
      "\n",
      "Traceback (most recent call last):\n",
      "  File \"/home/user/.local/lib/python3.8/site-packages/py4j/java_gateway.py\", line 977, in _get_connection\n",
      "    connection = self.deque.pop()\n",
      "IndexError: pop from an empty deque\n",
      "\n",
      "During handling of the above exception, another exception occurred:\n",
      "\n",
      "Traceback (most recent call last):\n",
      "  File \"/home/user/.local/lib/python3.8/site-packages/py4j/java_gateway.py\", line 1115, in start\n",
      "    self.socket.connect((self.address, self.port))\n",
      "ConnectionRefusedError: [Errno 111] Connection refused\n",
      "ERROR:py4j.java_gateway:An error occurred while trying to connect to the Java server (127.0.0.1:33263)\n",
      "Traceback (most recent call last):\n",
      "  File \"/home/user/.local/lib/python3.8/site-packages/py4j/java_gateway.py\", line 977, in _get_connection\n",
      "    connection = self.deque.pop()\n",
      "IndexError: pop from an empty deque\n",
      "\n",
      "During handling of the above exception, another exception occurred:\n",
      "\n",
      "Traceback (most recent call last):\n",
      "  File \"/home/user/.local/lib/python3.8/site-packages/py4j/java_gateway.py\", line 1115, in start\n",
      "    self.socket.connect((self.address, self.port))\n",
      "ConnectionRefusedError: [Errno 111] Connection refused\n",
      "\n",
      "During handling of the above exception, another exception occurred:\n",
      "\n",
      "Traceback (most recent call last):\n",
      "  File \"/home/user/.local/lib/python3.8/site-packages/IPython/core/interactiveshell.py\", line 3251, in run_code\n",
      "    exec(code_obj, self.user_global_ns, self.user_ns)\n",
      "  File \"/tmp/ipykernel_24400/2978482337.py\", line 1, in <module>\n",
      "    spark = SparkSession.builder\\\n",
      "  File \"/home/user/.local/lib/python3.8/site-packages/pyspark/sql/session.py\", line 233, in getOrCreate\n",
      "    session._jsparkSession.sessionState().conf().setConfString(key, value)\n",
      "  File \"/home/user/.local/lib/python3.8/site-packages/py4j/java_gateway.py\", line 1303, in __call__\n",
      "    answer = self.gateway_client.send_command(command)\n",
      "  File \"/home/user/.local/lib/python3.8/site-packages/py4j/java_gateway.py\", line 1031, in send_command\n",
      "    connection = self._get_connection()\n",
      "  File \"/home/user/.local/lib/python3.8/site-packages/py4j/java_gateway.py\", line 979, in _get_connection\n",
      "    connection = self._create_connection()\n",
      "  File \"/home/user/.local/lib/python3.8/site-packages/py4j/java_gateway.py\", line 985, in _create_connection\n",
      "    connection.start()\n",
      "  File \"/home/user/.local/lib/python3.8/site-packages/py4j/java_gateway.py\", line 1127, in start\n",
      "    raise Py4JNetworkError(msg, e)\n",
      "py4j.protocol.Py4JNetworkError: An error occurred while trying to connect to the Java server (127.0.0.1:33263)\n",
      "\n",
      "During handling of the above exception, another exception occurred:\n",
      "\n",
      "Traceback (most recent call last):\n",
      "  File \"/home/user/.local/lib/python3.8/site-packages/IPython/core/interactiveshell.py\", line 1934, in showtraceback\n",
      "    stb = value._render_traceback_()\n",
      "AttributeError: 'Py4JNetworkError' object has no attribute '_render_traceback_'\n",
      "\n",
      "During handling of the above exception, another exception occurred:\n",
      "\n",
      "Traceback (most recent call last):\n",
      "  File \"/home/user/.local/lib/python3.8/site-packages/executing/executing.py\", line 317, in executing\n",
      "    args = executing_cache[key]\n",
      "KeyError: (<code object getOrCreate at 0x7fc869b3ef50, file \"/home/user/.local/lib/python3.8/site-packages/pyspark/sql/session.py\", line 190>, 140498743586640, 156)\n",
      "\n",
      "During handling of the above exception, another exception occurred:\n",
      "\n",
      "Traceback (most recent call last):\n",
      "  File \"/home/user/.local/lib/python3.8/site-packages/py4j/java_gateway.py\", line 977, in _get_connection\n",
      "    connection = self.deque.pop()\n",
      "IndexError: pop from an empty deque\n",
      "\n",
      "During handling of the above exception, another exception occurred:\n",
      "\n",
      "Traceback (most recent call last):\n",
      "  File \"/home/user/.local/lib/python3.8/site-packages/py4j/java_gateway.py\", line 1115, in start\n",
      "    self.socket.connect((self.address, self.port))\n",
      "ConnectionRefusedError: [Errno 111] Connection refused\n"
     ]
    },
    {
     "name": "stderr",
     "output_type": "stream",
     "text": [
      "ERROR:py4j.java_gateway:An error occurred while trying to connect to the Java server (127.0.0.1:33263)\n",
      "Traceback (most recent call last):\n",
      "  File \"/home/user/.local/lib/python3.8/site-packages/py4j/java_gateway.py\", line 977, in _get_connection\n",
      "    connection = self.deque.pop()\n",
      "IndexError: pop from an empty deque\n",
      "\n",
      "During handling of the above exception, another exception occurred:\n",
      "\n",
      "Traceback (most recent call last):\n",
      "  File \"/home/user/.local/lib/python3.8/site-packages/py4j/java_gateway.py\", line 1115, in start\n",
      "    self.socket.connect((self.address, self.port))\n",
      "ConnectionRefusedError: [Errno 111] Connection refused\n",
      "\n",
      "During handling of the above exception, another exception occurred:\n",
      "\n",
      "Traceback (most recent call last):\n",
      "  File \"/home/user/.local/lib/python3.8/site-packages/IPython/core/interactiveshell.py\", line 3251, in run_code\n",
      "    exec(code_obj, self.user_global_ns, self.user_ns)\n",
      "  File \"/tmp/ipykernel_24400/2978482337.py\", line 1, in <module>\n",
      "    spark = SparkSession.builder\\\n",
      "  File \"/home/user/.local/lib/python3.8/site-packages/pyspark/sql/session.py\", line 233, in getOrCreate\n",
      "    session._jsparkSession.sessionState().conf().setConfString(key, value)\n",
      "  File \"/home/user/.local/lib/python3.8/site-packages/py4j/java_gateway.py\", line 1303, in __call__\n",
      "    answer = self.gateway_client.send_command(command)\n",
      "  File \"/home/user/.local/lib/python3.8/site-packages/py4j/java_gateway.py\", line 1031, in send_command\n",
      "    connection = self._get_connection()\n",
      "  File \"/home/user/.local/lib/python3.8/site-packages/py4j/java_gateway.py\", line 979, in _get_connection\n",
      "    connection = self._create_connection()\n",
      "  File \"/home/user/.local/lib/python3.8/site-packages/py4j/java_gateway.py\", line 985, in _create_connection\n",
      "    connection.start()\n",
      "  File \"/home/user/.local/lib/python3.8/site-packages/py4j/java_gateway.py\", line 1127, in start\n",
      "    raise Py4JNetworkError(msg, e)\n",
      "py4j.protocol.Py4JNetworkError: An error occurred while trying to connect to the Java server (127.0.0.1:33263)\n",
      "\n",
      "During handling of the above exception, another exception occurred:\n",
      "\n",
      "Traceback (most recent call last):\n",
      "  File \"/home/user/.local/lib/python3.8/site-packages/IPython/core/interactiveshell.py\", line 1934, in showtraceback\n",
      "    stb = value._render_traceback_()\n",
      "AttributeError: 'Py4JNetworkError' object has no attribute '_render_traceback_'\n",
      "\n",
      "During handling of the above exception, another exception occurred:\n",
      "\n",
      "Traceback (most recent call last):\n",
      "  File \"/home/user/.local/lib/python3.8/site-packages/executing/executing.py\", line 317, in executing\n",
      "    args = executing_cache[key]\n",
      "KeyError: (<code object getOrCreate at 0x7fc869b3ef50, file \"/home/user/.local/lib/python3.8/site-packages/pyspark/sql/session.py\", line 190>, 140498743586640, 156)\n",
      "\n",
      "During handling of the above exception, another exception occurred:\n",
      "\n",
      "Traceback (most recent call last):\n",
      "  File \"/home/user/.local/lib/python3.8/site-packages/py4j/java_gateway.py\", line 977, in _get_connection\n",
      "    connection = self.deque.pop()\n",
      "IndexError: pop from an empty deque\n",
      "\n",
      "During handling of the above exception, another exception occurred:\n",
      "\n",
      "Traceback (most recent call last):\n",
      "  File \"/home/user/.local/lib/python3.8/site-packages/py4j/java_gateway.py\", line 1115, in start\n",
      "    self.socket.connect((self.address, self.port))\n",
      "ConnectionRefusedError: [Errno 111] Connection refused\n",
      "ERROR:py4j.java_gateway:An error occurred while trying to connect to the Java server (127.0.0.1:33263)\n",
      "Traceback (most recent call last):\n",
      "  File \"/home/user/.local/lib/python3.8/site-packages/py4j/java_gateway.py\", line 977, in _get_connection\n",
      "    connection = self.deque.pop()\n",
      "IndexError: pop from an empty deque\n",
      "\n",
      "During handling of the above exception, another exception occurred:\n",
      "\n",
      "Traceback (most recent call last):\n",
      "  File \"/home/user/.local/lib/python3.8/site-packages/py4j/java_gateway.py\", line 1115, in start\n",
      "    self.socket.connect((self.address, self.port))\n",
      "ConnectionRefusedError: [Errno 111] Connection refused\n",
      "\n",
      "During handling of the above exception, another exception occurred:\n",
      "\n",
      "Traceback (most recent call last):\n",
      "  File \"/home/user/.local/lib/python3.8/site-packages/IPython/core/interactiveshell.py\", line 3251, in run_code\n",
      "    exec(code_obj, self.user_global_ns, self.user_ns)\n",
      "  File \"/tmp/ipykernel_24400/2978482337.py\", line 1, in <module>\n",
      "    spark = SparkSession.builder\\\n",
      "  File \"/home/user/.local/lib/python3.8/site-packages/pyspark/sql/session.py\", line 233, in getOrCreate\n",
      "    session._jsparkSession.sessionState().conf().setConfString(key, value)\n",
      "  File \"/home/user/.local/lib/python3.8/site-packages/py4j/java_gateway.py\", line 1303, in __call__\n",
      "    answer = self.gateway_client.send_command(command)\n",
      "  File \"/home/user/.local/lib/python3.8/site-packages/py4j/java_gateway.py\", line 1031, in send_command\n",
      "    connection = self._get_connection()\n",
      "  File \"/home/user/.local/lib/python3.8/site-packages/py4j/java_gateway.py\", line 979, in _get_connection\n",
      "    connection = self._create_connection()\n",
      "  File \"/home/user/.local/lib/python3.8/site-packages/py4j/java_gateway.py\", line 985, in _create_connection\n",
      "    connection.start()\n",
      "  File \"/home/user/.local/lib/python3.8/site-packages/py4j/java_gateway.py\", line 1127, in start\n",
      "    raise Py4JNetworkError(msg, e)\n",
      "py4j.protocol.Py4JNetworkError: An error occurred while trying to connect to the Java server (127.0.0.1:33263)\n",
      "\n",
      "During handling of the above exception, another exception occurred:\n",
      "\n",
      "Traceback (most recent call last):\n",
      "  File \"/home/user/.local/lib/python3.8/site-packages/IPython/core/interactiveshell.py\", line 1934, in showtraceback\n",
      "    stb = value._render_traceback_()\n",
      "AttributeError: 'Py4JNetworkError' object has no attribute '_render_traceback_'\n",
      "\n",
      "During handling of the above exception, another exception occurred:\n",
      "\n",
      "Traceback (most recent call last):\n",
      "  File \"/home/user/.local/lib/python3.8/site-packages/executing/executing.py\", line 317, in executing\n",
      "    args = executing_cache[key]\n",
      "KeyError: (<code object getOrCreate at 0x7fc869b3ef50, file \"/home/user/.local/lib/python3.8/site-packages/pyspark/sql/session.py\", line 190>, 140498743586640, 156)\n",
      "\n",
      "During handling of the above exception, another exception occurred:\n",
      "\n",
      "Traceback (most recent call last):\n",
      "  File \"/home/user/.local/lib/python3.8/site-packages/py4j/java_gateway.py\", line 977, in _get_connection\n",
      "    connection = self.deque.pop()\n",
      "IndexError: pop from an empty deque\n",
      "\n",
      "During handling of the above exception, another exception occurred:\n",
      "\n",
      "Traceback (most recent call last):\n",
      "  File \"/home/user/.local/lib/python3.8/site-packages/py4j/java_gateway.py\", line 1115, in start\n",
      "    self.socket.connect((self.address, self.port))\n",
      "ConnectionRefusedError: [Errno 111] Connection refused\n"
     ]
    },
    {
     "ename": "Py4JNetworkError",
     "evalue": "An error occurred while trying to connect to the Java server (127.0.0.1:33263)",
     "output_type": "error",
     "traceback": [
      "\u001b[0;31m---------------------------------------------------------------------------\u001b[0m",
      "\u001b[0;31mIndexError\u001b[0m                                Traceback (most recent call last)",
      "File \u001b[0;32m~/.local/lib/python3.8/site-packages/py4j/java_gateway.py:977\u001b[0m, in \u001b[0;36mGatewayClient._get_connection\u001b[0;34m(self)\u001b[0m\n\u001b[1;32m    976\u001b[0m \u001b[38;5;28;01mtry\u001b[39;00m:\n\u001b[0;32m--> 977\u001b[0m     connection \u001b[38;5;241m=\u001b[39m \u001b[38;5;28;43mself\u001b[39;49m\u001b[38;5;241;43m.\u001b[39;49m\u001b[43mdeque\u001b[49m\u001b[38;5;241;43m.\u001b[39;49m\u001b[43mpop\u001b[49m\u001b[43m(\u001b[49m\u001b[43m)\u001b[49m\n\u001b[1;32m    978\u001b[0m \u001b[38;5;28;01mexcept\u001b[39;00m \u001b[38;5;167;01mIndexError\u001b[39;00m:\n",
      "\u001b[0;31mIndexError\u001b[0m: pop from an empty deque",
      "\nDuring handling of the above exception, another exception occurred:\n",
      "\u001b[0;31mConnectionRefusedError\u001b[0m                    Traceback (most recent call last)",
      "File \u001b[0;32m~/.local/lib/python3.8/site-packages/py4j/java_gateway.py:1115\u001b[0m, in \u001b[0;36mGatewayConnection.start\u001b[0;34m(self)\u001b[0m\n\u001b[1;32m   1114\u001b[0m \u001b[38;5;28;01mtry\u001b[39;00m:\n\u001b[0;32m-> 1115\u001b[0m     \u001b[38;5;28;43mself\u001b[39;49m\u001b[38;5;241;43m.\u001b[39;49m\u001b[43msocket\u001b[49m\u001b[38;5;241;43m.\u001b[39;49m\u001b[43mconnect\u001b[49m\u001b[43m(\u001b[49m\u001b[43m(\u001b[49m\u001b[38;5;28;43mself\u001b[39;49m\u001b[38;5;241;43m.\u001b[39;49m\u001b[43maddress\u001b[49m\u001b[43m,\u001b[49m\u001b[43m \u001b[49m\u001b[38;5;28;43mself\u001b[39;49m\u001b[38;5;241;43m.\u001b[39;49m\u001b[43mport\u001b[49m\u001b[43m)\u001b[49m\u001b[43m)\u001b[49m\n\u001b[1;32m   1116\u001b[0m     \u001b[38;5;28mself\u001b[39m\u001b[38;5;241m.\u001b[39mstream \u001b[38;5;241m=\u001b[39m \u001b[38;5;28mself\u001b[39m\u001b[38;5;241m.\u001b[39msocket\u001b[38;5;241m.\u001b[39mmakefile(\u001b[38;5;124m\"\u001b[39m\u001b[38;5;124mrb\u001b[39m\u001b[38;5;124m\"\u001b[39m)\n",
      "\u001b[0;31mConnectionRefusedError\u001b[0m: [Errno 111] Connection refused",
      "\nDuring handling of the above exception, another exception occurred:\n",
      "\u001b[0;31mPy4JNetworkError\u001b[0m                          Traceback (most recent call last)",
      "Input \u001b[0;32mIn [44]\u001b[0m, in \u001b[0;36m<module>\u001b[0;34m\u001b[0m\n\u001b[0;32m----> 1\u001b[0m spark \u001b[38;5;241m=\u001b[39m \u001b[43mSparkSession\u001b[49m\u001b[38;5;241;43m.\u001b[39;49m\u001b[43mbuilder\u001b[49m\u001b[43m\\\u001b[49m\n\u001b[1;32m      2\u001b[0m \u001b[43m     \u001b[49m\u001b[38;5;241;43m.\u001b[39;49m\u001b[43mconfig\u001b[49m\u001b[43m(\u001b[49m\u001b[38;5;124;43m'\u001b[39;49m\u001b[38;5;124;43mspark.driver.extraClassPath\u001b[39;49m\u001b[38;5;124;43m'\u001b[39;49m\n\u001b[1;32m      3\u001b[0m \u001b[43m            \u001b[49m\u001b[43m,\u001b[49m\u001b[43m \u001b[49m\u001b[38;5;124;43m'\u001b[39;49m\u001b[38;5;124;43m/home/user/shared_folder/Distrib/postgresql-42.2.23.jar\u001b[39;49m\u001b[38;5;124;43m'\u001b[39;49m\u001b[43m)\u001b[49m\u001b[43m\\\u001b[49m\n\u001b[1;32m      4\u001b[0m \u001b[43m    \u001b[49m\u001b[38;5;241;43m.\u001b[39;49m\u001b[43mmaster\u001b[49m\u001b[43m(\u001b[49m\u001b[38;5;124;43m'\u001b[39;49m\u001b[38;5;124;43mlocal\u001b[39;49m\u001b[38;5;124;43m'\u001b[39;49m\u001b[43m)\u001b[49m\u001b[43m\\\u001b[49m\n\u001b[1;32m      5\u001b[0m \u001b[43m    \u001b[49m\u001b[38;5;241;43m.\u001b[39;49m\u001b[43mappName\u001b[49m\u001b[43m(\u001b[49m\u001b[38;5;124;43m\"\u001b[39;49m\u001b[38;5;124;43mlesson_13\u001b[39;49m\u001b[38;5;124;43m\"\u001b[39;49m\u001b[43m)\u001b[49m\u001b[43m\\\u001b[49m\n\u001b[1;32m      6\u001b[0m \u001b[43m    \u001b[49m\u001b[38;5;241;43m.\u001b[39;49m\u001b[43mgetOrCreate\u001b[49m\u001b[43m(\u001b[49m\u001b[43m)\u001b[49m\n",
      "File \u001b[0;32m~/.local/lib/python3.8/site-packages/pyspark/sql/session.py:233\u001b[0m, in \u001b[0;36mSparkSession.Builder.getOrCreate\u001b[0;34m(self)\u001b[0m\n\u001b[1;32m    231\u001b[0m     session \u001b[38;5;241m=\u001b[39m SparkSession(sc)\n\u001b[1;32m    232\u001b[0m \u001b[38;5;28;01mfor\u001b[39;00m key, value \u001b[38;5;129;01min\u001b[39;00m \u001b[38;5;28mself\u001b[39m\u001b[38;5;241m.\u001b[39m_options\u001b[38;5;241m.\u001b[39mitems():\n\u001b[0;32m--> 233\u001b[0m     \u001b[43msession\u001b[49m\u001b[38;5;241;43m.\u001b[39;49m\u001b[43m_jsparkSession\u001b[49m\u001b[38;5;241;43m.\u001b[39;49m\u001b[43msessionState\u001b[49m\u001b[43m(\u001b[49m\u001b[43m)\u001b[49m\u001b[38;5;241m.\u001b[39mconf()\u001b[38;5;241m.\u001b[39msetConfString(key, value)\n\u001b[1;32m    234\u001b[0m \u001b[38;5;28;01mreturn\u001b[39;00m session\n",
      "File \u001b[0;32m~/.local/lib/python3.8/site-packages/py4j/java_gateway.py:1303\u001b[0m, in \u001b[0;36mJavaMember.__call__\u001b[0;34m(self, *args)\u001b[0m\n\u001b[1;32m   1296\u001b[0m args_command, temp_args \u001b[38;5;241m=\u001b[39m \u001b[38;5;28mself\u001b[39m\u001b[38;5;241m.\u001b[39m_build_args(\u001b[38;5;241m*\u001b[39margs)\n\u001b[1;32m   1298\u001b[0m command \u001b[38;5;241m=\u001b[39m proto\u001b[38;5;241m.\u001b[39mCALL_COMMAND_NAME \u001b[38;5;241m+\u001b[39m\\\n\u001b[1;32m   1299\u001b[0m     \u001b[38;5;28mself\u001b[39m\u001b[38;5;241m.\u001b[39mcommand_header \u001b[38;5;241m+\u001b[39m\\\n\u001b[1;32m   1300\u001b[0m     args_command \u001b[38;5;241m+\u001b[39m\\\n\u001b[1;32m   1301\u001b[0m     proto\u001b[38;5;241m.\u001b[39mEND_COMMAND_PART\n\u001b[0;32m-> 1303\u001b[0m answer \u001b[38;5;241m=\u001b[39m \u001b[38;5;28;43mself\u001b[39;49m\u001b[38;5;241;43m.\u001b[39;49m\u001b[43mgateway_client\u001b[49m\u001b[38;5;241;43m.\u001b[39;49m\u001b[43msend_command\u001b[49m\u001b[43m(\u001b[49m\u001b[43mcommand\u001b[49m\u001b[43m)\u001b[49m\n\u001b[1;32m   1304\u001b[0m return_value \u001b[38;5;241m=\u001b[39m get_return_value(\n\u001b[1;32m   1305\u001b[0m     answer, \u001b[38;5;28mself\u001b[39m\u001b[38;5;241m.\u001b[39mgateway_client, \u001b[38;5;28mself\u001b[39m\u001b[38;5;241m.\u001b[39mtarget_id, \u001b[38;5;28mself\u001b[39m\u001b[38;5;241m.\u001b[39mname)\n\u001b[1;32m   1307\u001b[0m \u001b[38;5;28;01mfor\u001b[39;00m temp_arg \u001b[38;5;129;01min\u001b[39;00m temp_args:\n",
      "File \u001b[0;32m~/.local/lib/python3.8/site-packages/py4j/java_gateway.py:1031\u001b[0m, in \u001b[0;36mGatewayClient.send_command\u001b[0;34m(self, command, retry, binary)\u001b[0m\n\u001b[1;32m   1010\u001b[0m \u001b[38;5;28;01mdef\u001b[39;00m \u001b[38;5;21msend_command\u001b[39m(\u001b[38;5;28mself\u001b[39m, command, retry\u001b[38;5;241m=\u001b[39m\u001b[38;5;28;01mTrue\u001b[39;00m, binary\u001b[38;5;241m=\u001b[39m\u001b[38;5;28;01mFalse\u001b[39;00m):\n\u001b[1;32m   1011\u001b[0m     \u001b[38;5;124;03m\"\"\"Sends a command to the JVM. This method is not intended to be\u001b[39;00m\n\u001b[1;32m   1012\u001b[0m \u001b[38;5;124;03m       called directly by Py4J users. It is usually called by\u001b[39;00m\n\u001b[1;32m   1013\u001b[0m \u001b[38;5;124;03m       :class:`JavaMember` instances.\u001b[39;00m\n\u001b[0;32m   (...)\u001b[0m\n\u001b[1;32m   1029\u001b[0m \u001b[38;5;124;03m     if `binary` is `True`.\u001b[39;00m\n\u001b[1;32m   1030\u001b[0m \u001b[38;5;124;03m    \"\"\"\u001b[39;00m\n\u001b[0;32m-> 1031\u001b[0m     connection \u001b[38;5;241m=\u001b[39m \u001b[38;5;28;43mself\u001b[39;49m\u001b[38;5;241;43m.\u001b[39;49m\u001b[43m_get_connection\u001b[49m\u001b[43m(\u001b[49m\u001b[43m)\u001b[49m\n\u001b[1;32m   1032\u001b[0m     \u001b[38;5;28;01mtry\u001b[39;00m:\n\u001b[1;32m   1033\u001b[0m         response \u001b[38;5;241m=\u001b[39m connection\u001b[38;5;241m.\u001b[39msend_command(command)\n",
      "File \u001b[0;32m~/.local/lib/python3.8/site-packages/py4j/java_gateway.py:979\u001b[0m, in \u001b[0;36mGatewayClient._get_connection\u001b[0;34m(self)\u001b[0m\n\u001b[1;32m    977\u001b[0m     connection \u001b[38;5;241m=\u001b[39m \u001b[38;5;28mself\u001b[39m\u001b[38;5;241m.\u001b[39mdeque\u001b[38;5;241m.\u001b[39mpop()\n\u001b[1;32m    978\u001b[0m \u001b[38;5;28;01mexcept\u001b[39;00m \u001b[38;5;167;01mIndexError\u001b[39;00m:\n\u001b[0;32m--> 979\u001b[0m     connection \u001b[38;5;241m=\u001b[39m \u001b[38;5;28;43mself\u001b[39;49m\u001b[38;5;241;43m.\u001b[39;49m\u001b[43m_create_connection\u001b[49m\u001b[43m(\u001b[49m\u001b[43m)\u001b[49m\n\u001b[1;32m    980\u001b[0m \u001b[38;5;28;01mreturn\u001b[39;00m connection\n",
      "File \u001b[0;32m~/.local/lib/python3.8/site-packages/py4j/java_gateway.py:985\u001b[0m, in \u001b[0;36mGatewayClient._create_connection\u001b[0;34m(self)\u001b[0m\n\u001b[1;32m    982\u001b[0m \u001b[38;5;28;01mdef\u001b[39;00m \u001b[38;5;21m_create_connection\u001b[39m(\u001b[38;5;28mself\u001b[39m):\n\u001b[1;32m    983\u001b[0m     connection \u001b[38;5;241m=\u001b[39m GatewayConnection(\n\u001b[1;32m    984\u001b[0m         \u001b[38;5;28mself\u001b[39m\u001b[38;5;241m.\u001b[39mgateway_parameters, \u001b[38;5;28mself\u001b[39m\u001b[38;5;241m.\u001b[39mgateway_property)\n\u001b[0;32m--> 985\u001b[0m     \u001b[43mconnection\u001b[49m\u001b[38;5;241;43m.\u001b[39;49m\u001b[43mstart\u001b[49m\u001b[43m(\u001b[49m\u001b[43m)\u001b[49m\n\u001b[1;32m    986\u001b[0m     \u001b[38;5;28;01mreturn\u001b[39;00m connection\n",
      "File \u001b[0;32m~/.local/lib/python3.8/site-packages/py4j/java_gateway.py:1127\u001b[0m, in \u001b[0;36mGatewayConnection.start\u001b[0;34m(self)\u001b[0m\n\u001b[1;32m   1124\u001b[0m msg \u001b[38;5;241m=\u001b[39m \u001b[38;5;124m\"\u001b[39m\u001b[38;5;124mAn error occurred while trying to connect to the Java \u001b[39m\u001b[38;5;124m\"\u001b[39m\\\n\u001b[1;32m   1125\u001b[0m     \u001b[38;5;124m\"\u001b[39m\u001b[38;5;124mserver (\u001b[39m\u001b[38;5;132;01m{0}\u001b[39;00m\u001b[38;5;124m:\u001b[39m\u001b[38;5;132;01m{1}\u001b[39;00m\u001b[38;5;124m)\u001b[39m\u001b[38;5;124m\"\u001b[39m\u001b[38;5;241m.\u001b[39mformat(\u001b[38;5;28mself\u001b[39m\u001b[38;5;241m.\u001b[39maddress, \u001b[38;5;28mself\u001b[39m\u001b[38;5;241m.\u001b[39mport)\n\u001b[1;32m   1126\u001b[0m logger\u001b[38;5;241m.\u001b[39mexception(msg)\n\u001b[0;32m-> 1127\u001b[0m \u001b[38;5;28;01mraise\u001b[39;00m Py4JNetworkError(msg, e)\n",
      "\u001b[0;31mPy4JNetworkError\u001b[0m: An error occurred while trying to connect to the Java server (127.0.0.1:33263)"
     ]
    }
   ],
   "source": [
    "spark = SparkSession.builder\\\n",
    "     .config('spark.driver.extraClassPath'\n",
    "            , '/home/user/shared_folder/Distrib/postgresql-42.2.23.jar')\\\n",
    "    .master('local')\\\n",
    "    .appName(\"lesson_13\")\\\n",
    "    .getOrCreate()"
   ]
  },
  {
   "cell_type": "code",
   "execution_count": 3,
   "id": "9bedd3f9",
   "metadata": {},
   "outputs": [],
   "source": [
    "hdfs_url = 'http://127.0.0.1:50070/'"
   ]
  },
  {
   "cell_type": "code",
   "execution_count": 4,
   "id": "c2720d0b",
   "metadata": {},
   "outputs": [],
   "source": [
    "pg_creds = {\n",
    "    'host': '192.168.1.56',\n",
    "    'port': '5432',\n",
    "    'database': 'pagila',\n",
    "    'user': 'pguser',\n",
    "    'password': 'secret',\n",
    "}\n",
    "\n",
    "gp_url = \"jdbc:postgresql://192.168.1.56:5433/gp\"\n",
    "gp_properties = {\"user\": \"gpuser\", \"password\": \"secret\"}"
   ]
  },
  {
   "cell_type": "code",
   "execution_count": 5,
   "id": "32d4d3d4",
   "metadata": {},
   "outputs": [],
   "source": [
    "tables_to_load = (\n",
    "          'film',\n",
    "          'film_actor',\n",
    "          'actor',\n",
    "          'film_category',\n",
    "          'category',\n",
    "          'language'\n",
    "         )"
   ]
  },
  {
   "cell_type": "code",
   "execution_count": 6,
   "id": "ad4e07de",
   "metadata": {},
   "outputs": [
    {
     "data": {
      "text/plain": [
       "'2022-02-22'"
      ]
     },
     "execution_count": 6,
     "metadata": {},
     "output_type": "execute_result"
    }
   ],
   "source": [
    "current_date = datetime.now().strftime('%Y-%m-%d')\n",
    "current_date"
   ]
  },
  {
   "cell_type": "code",
   "execution_count": 7,
   "id": "05a275f5",
   "metadata": {},
   "outputs": [],
   "source": [
    "# Load to Bronze"
   ]
  },
  {
   "cell_type": "code",
   "execution_count": 8,
   "id": "ab73a09e",
   "metadata": {},
   "outputs": [],
   "source": [
    "client = InsecureClient(hdfs_url, user='user')\n",
    "\n",
    "for table in tables_to_load:\n",
    "    \n",
    "    with psycopg2.connect(**pg_creds) as pg_connection:\n",
    "        cursor = pg_connection.cursor()\n",
    "    \n",
    "        with client.write(\n",
    "            os.path.join('/', 'datalake', 'bronze', 'pagila', table, current_date, table + '.csv'), overwrite=True\n",
    "        ) as csv_file:\n",
    "            cursor.copy_expert(f\"COPY {table} TO STDOUT WITH HEADER CSV\", \n",
    "                                   csv_file)"
   ]
  },
  {
   "cell_type": "code",
   "execution_count": 9,
   "id": "c420fcc7",
   "metadata": {},
   "outputs": [],
   "source": [
    "# LOAD TO SILVER"
   ]
  },
  {
   "cell_type": "code",
   "execution_count": 10,
   "id": "6db70709",
   "metadata": {},
   "outputs": [],
   "source": [
    "bronze_film_df = spark.read\\\n",
    "    .load(os.path.join('/', 'datalake', 'bronze', 'pagila', 'film', current_date, 'film.csv'),\n",
    "          header = \"true\",\n",
    "          inferSchema = \"true\",\n",
    "          format = \"csv\"\n",
    "         )"
   ]
  },
  {
   "cell_type": "code",
   "execution_count": 11,
   "id": "29d46557",
   "metadata": {},
   "outputs": [
    {
     "data": {
      "text/plain": [
       "2000"
      ]
     },
     "execution_count": 11,
     "metadata": {},
     "output_type": "execute_result"
    }
   ],
   "source": [
    "bronze_film_df.count()"
   ]
  },
  {
   "cell_type": "code",
   "execution_count": 12,
   "id": "0d246e35",
   "metadata": {},
   "outputs": [],
   "source": [
    "bronze_film_df = bronze_film_df\\\n",
    "    .drop('special_features')\\\n",
    "    .drop('fulltext')\\\n",
    "    .drop('last_update')\\\n",
    "    .drop('original_language_id')\n",
    "\n",
    "bronze_film_df = bronze_film_df\\\n",
    "    .where(F.col('title').isNotNull() & F.col('description').isNotNull())\n",
    "\n",
    "bronze_film_df = bronze_film_df.dropDuplicates()"
   ]
  },
  {
   "cell_type": "code",
   "execution_count": 13,
   "id": "07972d4c",
   "metadata": {},
   "outputs": [
    {
     "name": "stderr",
     "output_type": "stream",
     "text": [
      "                                                                                \r"
     ]
    },
    {
     "data": {
      "text/plain": [
       "997"
      ]
     },
     "execution_count": 13,
     "metadata": {},
     "output_type": "execute_result"
    }
   ],
   "source": [
    "bronze_film_df.count()"
   ]
  },
  {
   "cell_type": "code",
   "execution_count": 14,
   "id": "9e84b506",
   "metadata": {},
   "outputs": [
    {
     "data": {
      "text/plain": [
       "Row(film_id=415, title='HIGH ENCINO', description='A Fateful Saga of a Waitress And a Hunter who must Outrace a Sumo Wrestler in Australia', release_year=2006, language_id=1, rental_duration=3, rental_rate=2.99, length=84, replacement_cost=23.99, rating='R')"
      ]
     },
     "execution_count": 14,
     "metadata": {},
     "output_type": "execute_result"
    }
   ],
   "source": [
    "bronze_film_df.first()"
   ]
  },
  {
   "cell_type": "code",
   "execution_count": 15,
   "id": "d906f731",
   "metadata": {},
   "outputs": [
    {
     "name": "stderr",
     "output_type": "stream",
     "text": [
      "22/02/22 12:51:36 WARN hdfs.DataStreamer: Caught exception       (43 + 1) / 200]\n",
      "java.lang.InterruptedException\n",
      "\tat java.lang.Object.wait(Native Method)\n",
      "\tat java.lang.Thread.join(Thread.java:1252)\n",
      "\tat java.lang.Thread.join(Thread.java:1326)\n",
      "\tat org.apache.hadoop.hdfs.DataStreamer.closeResponder(DataStreamer.java:980)\n",
      "\tat org.apache.hadoop.hdfs.DataStreamer.endBlock(DataStreamer.java:630)\n",
      "\tat org.apache.hadoop.hdfs.DataStreamer.run(DataStreamer.java:807)\n",
      "                                                                                \r"
     ]
    }
   ],
   "source": [
    "bronze_film_df.write\\\n",
    "    .partitionBy('rating')\\\n",
    "    .parquet(os.path.join('/', 'datalake', 'silver', 'film'), mode = 'overwrite')"
   ]
  },
  {
   "cell_type": "code",
   "execution_count": 16,
   "id": "2ce2da9a",
   "metadata": {},
   "outputs": [],
   "source": [
    "film_actor_df = spark.read\\\n",
    "    .load(os.path.join('/', 'datalake', 'bronze', 'pagila', 'film_actor', current_date, 'film_actor.csv')\n",
    "                                , header=\"true\"\n",
    "                                , inferSchema=\"true\"\n",
    "                                , format=\"csv\")"
   ]
  },
  {
   "cell_type": "code",
   "execution_count": 17,
   "id": "8fe4317b",
   "metadata": {},
   "outputs": [],
   "source": [
    "film_actor_df.write\\\n",
    "    .parquet(os.path.join('/', 'datalake', 'silver', 'film_actor'), mode='overwrite')"
   ]
  },
  {
   "cell_type": "code",
   "execution_count": 18,
   "id": "43589510",
   "metadata": {},
   "outputs": [],
   "source": [
    "actor_df = spark.read\\\n",
    "    .load(os.path.join('/', 'datalake', 'bronze', 'pagila', 'actor', current_date, 'actor.csv')\n",
    "                                , header=\"true\"\n",
    "                                , inferSchema=\"true\"\n",
    "                                , format=\"csv\")"
   ]
  },
  {
   "cell_type": "code",
   "execution_count": 19,
   "id": "848b2848",
   "metadata": {},
   "outputs": [],
   "source": [
    "actor_df.write\\\n",
    "    .parquet(os.path.join('/', 'datalake', 'silver', 'actor'), mode='overwrite')"
   ]
  },
  {
   "cell_type": "code",
   "execution_count": 20,
   "id": "390aeca6",
   "metadata": {},
   "outputs": [],
   "source": [
    "film_category_df = spark.read\\\n",
    "    .load(os.path.join('/', 'datalake', 'bronze', 'pagila', 'film_category', current_date, 'film_category.csv')\n",
    "                                , header=\"true\"\n",
    "                                , inferSchema=\"true\"\n",
    "                                , format=\"csv\")"
   ]
  },
  {
   "cell_type": "code",
   "execution_count": 21,
   "id": "a3551d99",
   "metadata": {},
   "outputs": [],
   "source": [
    "film_category_df.write\\\n",
    "    .parquet(os.path.join('/', 'datalake', 'silver', 'film_category'), mode='overwrite')"
   ]
  },
  {
   "cell_type": "code",
   "execution_count": 22,
   "id": "5fd742a9",
   "metadata": {},
   "outputs": [],
   "source": [
    "category_df = spark.read\\\n",
    "    .load(os.path.join('/', 'datalake', 'bronze', 'pagila', 'category', current_date, 'category.csv')\n",
    "                                , header=\"true\"\n",
    "                                , inferSchema=\"true\"\n",
    "                                , format=\"csv\")"
   ]
  },
  {
   "cell_type": "code",
   "execution_count": 23,
   "id": "8d4e55cc",
   "metadata": {},
   "outputs": [],
   "source": [
    "category_df.write\\\n",
    "    .parquet(os.path.join('/', 'datalake', 'silver', 'category'), mode='overwrite')"
   ]
  },
  {
   "cell_type": "code",
   "execution_count": 24,
   "id": "b35f5fd8",
   "metadata": {},
   "outputs": [],
   "source": [
    "language_df = spark.read\\\n",
    "    .load(os.path.join('/', 'datalake', 'bronze', 'pagila', 'language', current_date, 'language.csv')\n",
    "                                , header=\"true\"\n",
    "                                , inferSchema=\"true\"\n",
    "                                , format=\"csv\")"
   ]
  },
  {
   "cell_type": "code",
   "execution_count": 25,
   "id": "d83d8072",
   "metadata": {},
   "outputs": [],
   "source": [
    "language_df.write\\\n",
    "    .parquet(os.path.join('/', 'datalake', 'silver', 'language'), mode='overwrite')"
   ]
  },
  {
   "cell_type": "code",
   "execution_count": 26,
   "id": "00fd6bc4",
   "metadata": {},
   "outputs": [],
   "source": [
    "# Load to GOLD"
   ]
  },
  {
   "cell_type": "code",
   "execution_count": 27,
   "id": "619f08e3",
   "metadata": {},
   "outputs": [],
   "source": [
    "film_df = spark.read.parquet(os.path.join('/', 'datalake', 'silver', 'film'))\n",
    "film_category_df = spark.read.parquet(os.path.join('/', 'datalake', 'silver', 'film_category'))\n",
    "category_df = spark.read.parquet(os.path.join('/', 'datalake', 'silver', 'category'))\n",
    "film_actor_df = spark.read.parquet(os.path.join('/', 'datalake', 'silver', 'film_actor'))\n",
    "actor_df = spark.read.parquet(os.path.join('/', 'datalake', 'silver', 'actor'))\n",
    "language_df = spark.read.parquet(os.path.join('/', 'datalake', 'silver', 'language'))"
   ]
  },
  {
   "cell_type": "code",
   "execution_count": 28,
   "id": "64f14b1b",
   "metadata": {},
   "outputs": [],
   "source": [
    "film_category_df = film_category_df.join(category_df\n",
    "                      , film_category_df.category_id == category_df.category_id\n",
    "                      , 'left')\\\n",
    "                .select(film_category_df.film_id, category_df.name.alias('category_name'))"
   ]
  },
  {
   "cell_type": "code",
   "execution_count": 29,
   "id": "c08b3bd9",
   "metadata": {},
   "outputs": [],
   "source": [
    "film_df = film_df.join(film_category_df\n",
    "                      , film_df.film_id == film_category_df.film_id\n",
    "                      , 'left')\\\n",
    "                .select(film_df['*'], film_category_df.category_name)"
   ]
  },
  {
   "cell_type": "code",
   "execution_count": 30,
   "id": "bb4b1e6b",
   "metadata": {},
   "outputs": [],
   "source": [
    "film_actor_df = film_actor_df.join(actor_df\n",
    "                      , film_actor_df.actor_id == actor_df.actor_id\n",
    "                      , 'left')\\\n",
    "                .select(film_actor_df.film_id, actor_df.first_name, actor_df.last_name)\n",
    "\n",
    "film_actor_df = film_actor_df.withColumn('name', F.concat(F.col('first_name'), F.lit(' '), F.col('last_name')))\n",
    "\n",
    "film_actor_df = film_actor_df.drop('first_name').drop('last_name')"
   ]
  },
  {
   "cell_type": "code",
   "execution_count": 31,
   "id": "4c9d360a",
   "metadata": {},
   "outputs": [],
   "source": [
    "film_df = film_df.join(film_actor_df\n",
    "                      , film_df.film_id == film_actor_df.film_id\n",
    "                      , 'left')\\\n",
    "                .select(film_df['*'], film_actor_df.name.alias('actor_name'))"
   ]
  },
  {
   "cell_type": "code",
   "execution_count": 32,
   "id": "840f3082",
   "metadata": {},
   "outputs": [],
   "source": [
    "film_df = film_df.join(language_df\n",
    "                      , film_df.language_id == language_df.language_id\n",
    "                      , 'left')\\\n",
    "                .select(film_df['*'], language_df.name.alias('language'))"
   ]
  },
  {
   "cell_type": "code",
   "execution_count": 33,
   "id": "54961ca4",
   "metadata": {},
   "outputs": [
    {
     "name": "stderr",
     "output_type": "stream",
     "text": [
      "\r",
      "[Stage 36:>                                                         (0 + 1) / 1]\r",
      "\r",
      "                                                                                \r"
     ]
    },
    {
     "data": {
      "text/plain": [
       "Row(film_id=35, title='ARACHNOPHOBIA ROLLERCOASTER', description='A Action-Packed Reflection of a Pastry Chef And a Composer who must Discover a Mad Scientist in The First Manned Space Station', release_year=2006, language_id=1, rental_duration=4, rental_rate=2.99, length=147, replacement_cost=24.99, rating='PG-13', category_name='Horror', actor_name='HUMPHREY GARLAND', language='English             ')"
      ]
     },
     "execution_count": 33,
     "metadata": {},
     "output_type": "execute_result"
    }
   ],
   "source": [
    "film_df.first()"
   ]
  },
  {
   "cell_type": "code",
   "execution_count": 34,
   "id": "25502fd6",
   "metadata": {},
   "outputs": [
    {
     "name": "stdout",
     "output_type": "stream",
     "text": [
      "+-------+--------------------+------+-------------+------------------+--------------------+\n",
      "|film_id|               title|rating|category_name|        actor_name|            language|\n",
      "+-------+--------------------+------+-------------+------------------+--------------------+\n",
      "|     35|ARACHNOPHOBIA ROL...| PG-13|       Horror|  HUMPHREY GARLAND|English             |\n",
      "|     35|ARACHNOPHOBIA ROL...| PG-13|       Horror|      EWAN GOODING|English             |\n",
      "|     35|ARACHNOPHOBIA ROL...| PG-13|       Horror|     RITA REYNOLDS|English             |\n",
      "|     35|ARACHNOPHOBIA ROL...| PG-13|       Horror|        CUBA ALLEN|English             |\n",
      "|     35|ARACHNOPHOBIA ROL...| PG-13|       Horror|    MORGAN HOPKINS|English             |\n",
      "|     35|ARACHNOPHOBIA ROL...| PG-13|       Horror|    DARYL WAHLBERG|English             |\n",
      "|     35|ARACHNOPHOBIA ROL...| PG-13|       Horror|         JUDY DEAN|English             |\n",
      "|     35|ARACHNOPHOBIA ROL...| PG-13|       Horror|      GRACE MOSTEL|English             |\n",
      "|    569|  MENAGERIE RUSHMORE|     G|    Animation|     RAY JOHANSSON|English             |\n",
      "|    569|  MENAGERIE RUSHMORE|     G|    Animation|      BURT DUKAKIS|English             |\n",
      "|     51|    BALLOON HOMEWARD| NC-17|        Music|      ROCK DUKAKIS|English             |\n",
      "|     51|    BALLOON HOMEWARD| NC-17|        Music|        RENEE BALL|English             |\n",
      "|     51|    BALLOON HOMEWARD| NC-17|        Music|      RICHARD PENN|English             |\n",
      "|     51|    BALLOON HOMEWARD| NC-17|        Music|         GARY PENN|English             |\n",
      "|     51|    BALLOON HOMEWARD| NC-17|        Music|       MENA TEMPLE|English             |\n",
      "|     51|    BALLOON HOMEWARD| NC-17|        Music|   PARKER GOLDBERG|English             |\n",
      "|    123|    CASABLANCA SUPER|     G|       Travel|        REESE WEST|English             |\n",
      "|    123|    CASABLANCA SUPER|     G|       Travel|ANGELA WITHERSPOON|English             |\n",
      "|    123|    CASABLANCA SUPER|     G|       Travel|       WALTER TORN|English             |\n",
      "|    123|    CASABLANCA SUPER|     G|       Travel|    KIRSTEN AKROYD|English             |\n",
      "+-------+--------------------+------+-------------+------------------+--------------------+\n",
      "only showing top 20 rows\n",
      "\n"
     ]
    }
   ],
   "source": [
    "film_df.select('film_id','title','rating','category_name','actor_name','language').show()"
   ]
  },
  {
   "cell_type": "code",
   "execution_count": 35,
   "id": "bd0dc62f",
   "metadata": {},
   "outputs": [],
   "source": [
    "films = film_df.groupBy(\n",
    "    F.col('film_id'),\n",
    "    F.col('title'),\n",
    "    F.col('description'),\n",
    "    F.col('release_year'),\n",
    "    F.col('rating'),\n",
    "    F.col('category_name'),\n",
    "    F.col('language'),\n",
    ").agg(F.collect_list(F.col('actor_name')).alias('actors'))"
   ]
  },
  {
   "cell_type": "code",
   "execution_count": 36,
   "id": "839a3f4e",
   "metadata": {},
   "outputs": [
    {
     "name": "stderr",
     "output_type": "stream",
     "text": [
      "[Stage 49:==================================================>     (18 + 1) / 20]\r"
     ]
    },
    {
     "name": "stdout",
     "output_type": "stream",
     "text": [
      "+-------+-------------------+-----------------------------------------------------------------------------------------------------------------------------------+\n",
      "|film_id|title              |actors                                                                                                                             |\n",
      "+-------+-------------------+-----------------------------------------------------------------------------------------------------------------------------------+\n",
      "|211    |DARLING BREAKING   |[JAYNE NEESON, FRANCES DAY-LEWIS]                                                                                                  |\n",
      "|50     |BAKED CLEOPATRA    |[MICHELLE MCCONAUGHEY]                                                                                                             |\n",
      "|957    |WAR NOTTING        |[HUMPHREY WILLIS, FAY WINSLET, SALMA NOLTE, CUBA ALLEN, MINNIE ZELLWEGER, MARY TANDY, NATALIE HOPKINS, HELEN VOIGHT, GRACE MOSTEL] |\n",
      "|628    |NORTHWEST POLISH   |[MARY KEITEL, REESE WEST, CUBA BIRCH, JEFF SILVERSTONE, LAURENCE BULLOCK, RITA REYNOLDS, MAE HOFFMAN, MICHELLE MCCONAUGHEY]        |\n",
      "|669    |PEARL DESTINY      |[HARVEY HOPE, DARYL CRAWFORD, CAMERON ZELLWEGER, TIM HACKMAN]                                                                      |\n",
      "|708    |QUILLS BULL        |[JOHN SUVARI, AUDREY BAILEY, LISA MONROE, FAY WINSLET]                                                                             |\n",
      "|988    |WORKER TARZAN      |[ROCK DUKAKIS, MERYL GIBSON, MINNIE KILMER, JULIANNE DENCH, RUSSELL BACALL, SUSAN DAVIS, JAYNE NEESON, PENELOPE PINKETT, ZERO CAGE]|\n",
      "|348    |GANDHI KWAI        |[DARYL CRAWFORD, GINA DEGENERES, MEG HAWKE, ANGELINA ASTAIRE, PENELOPE PINKETT, ANNE CRONYN, LUCILLE TRACY, ZERO CAGE]             |\n",
      "|792    |SHREK LICENSE      |[EMILY DEE, RIVER DEAN, FRANCES DAY-LEWIS]                                                                                         |\n",
      "|268    |EARLY HOME         |[MORGAN WILLIAMS, WALTER TORN, BEN WILLIS, SCARLETT DAMON, MENA TEMPLE, DAN TORN]                                                  |\n",
      "|119    |CAPER MOTIONS      |[BURT TEMPLE, CATE MCQUEEN, KEVIN GARLAND, CHRISTIAN AKROYD, VAL BOLGER, AUDREY OLIVIER, HELEN VOIGHT]                             |\n",
      "|767    |SCALAWAG DUCK      |[CHRIS DEPP, GROUCHO SINATRA, CHRISTIAN NEESON, JUDE CRUISE, REESE KILMER]                                                         |\n",
      "|689    |POLLOCK DELIVERANCE|[JULIA FAWCETT, BURT TEMPLE, GROUCHO SINATRA, DUSTIN TAUTOU, CARMEN HUNT, GOLDIE BRODY]                                            |\n",
      "|619    |NEIGHBORS CHARADE  |[WILL WILSON, MORGAN MCDORMAND, DARYL WAHLBERG, SCARLETT DAMON, RALPH CRUZ, TOM MCKELLEN, WOODY HOFFMAN]                           |\n",
      "|328    |FOREVER CANDIDATE  |[JADA RYDER]                                                                                                                       |\n",
      "|875    |TALENTED HOMICIDE  |[JADA RYDER, JANE JACKMAN, MINNIE ZELLWEGER, NICK STALLONE, BURT DUKAKIS]                                                          |\n",
      "|70     |BIKINI BORROWERS   |[PENELOPE CRONYN, BETTE NICHOLSON]                                                                                                 |\n",
      "|749    |RULES HUMAN        |[HARVEY HOPE, KEVIN GARLAND, CARY MCCONAUGHEY, DUSTIN TAUTOU, PENELOPE GUINESS]                                                    |\n",
      "|944    |VIRGIN DAISY       |[NICK DEGENERES, CATE MCQUEEN, SPENCER DEPP, CAMERON WRAY, JULIA BARRYMORE, NICK STALLONE, ALEC WAYNE, DAN TORN]                   |\n",
      "|96     |BREAKING HOME      |[MORGAN WILLIAMS, FRANCES TOMEI, CARMEN HUNT, WOODY HOFFMAN, HELEN VOIGHT, GRACE MOSTEL]                                           |\n",
      "+-------+-------------------+-----------------------------------------------------------------------------------------------------------------------------------+\n",
      "only showing top 20 rows\n",
      "\n"
     ]
    },
    {
     "name": "stderr",
     "output_type": "stream",
     "text": [
      "\r",
      "[Stage 49:=====================================================>  (19 + 1) / 20]\r",
      "\r",
      "                                                                                \r"
     ]
    }
   ],
   "source": [
    "films.select('film_id','title','actors').show(truncate=False)"
   ]
  },
  {
   "cell_type": "code",
   "execution_count": 37,
   "id": "c8be6b30",
   "metadata": {},
   "outputs": [
    {
     "name": "stderr",
     "output_type": "stream",
     "text": [
      "                                                                                \r"
     ]
    }
   ],
   "source": [
    "films.write.parquet(os.path.join('/','datalake','gold','films'), mode = 'overwrite')"
   ]
  },
  {
   "cell_type": "code",
   "execution_count": 38,
   "id": "fcc922f6",
   "metadata": {},
   "outputs": [],
   "source": [
    "# Process to DWH"
   ]
  },
  {
   "cell_type": "code",
   "execution_count": 39,
   "id": "1443a227",
   "metadata": {},
   "outputs": [],
   "source": [
    "films_df = spark.read.parquet(os.path.join('/', 'datalake', 'gold', 'films'))"
   ]
  },
  {
   "cell_type": "code",
   "execution_count": 40,
   "id": "5eb75bfa",
   "metadata": {},
   "outputs": [],
   "source": [
    "films_df = films.select(\n",
    "        films['*'], F.explode(F.col('actors')).alias('actor')\n",
    "    ).drop('actors')"
   ]
  },
  {
   "cell_type": "code",
   "execution_count": 41,
   "id": "695bf322",
   "metadata": {},
   "outputs": [
    {
     "name": "stderr",
     "output_type": "stream",
     "text": [
      "[Stage 66:==================================================>     (18 + 1) / 20]\r"
     ]
    },
    {
     "name": "stdout",
     "output_type": "stream",
     "text": [
      "+-------+--------------------+\n",
      "|film_id|               actor|\n",
      "+-------+--------------------+\n",
      "|    211|        JAYNE NEESON|\n",
      "|    211|   FRANCES DAY-LEWIS|\n",
      "|     50|MICHELLE MCCONAUGHEY|\n",
      "|    957|     HUMPHREY WILLIS|\n",
      "|    957|         FAY WINSLET|\n",
      "|    957|         SALMA NOLTE|\n",
      "|    957|          CUBA ALLEN|\n",
      "|    957|    MINNIE ZELLWEGER|\n",
      "|    957|          MARY TANDY|\n",
      "|    957|     NATALIE HOPKINS|\n",
      "|    957|        HELEN VOIGHT|\n",
      "|    957|        GRACE MOSTEL|\n",
      "|    628|         MARY KEITEL|\n",
      "|    628|          REESE WEST|\n",
      "|    628|          CUBA BIRCH|\n",
      "|    628|    JEFF SILVERSTONE|\n",
      "|    628|    LAURENCE BULLOCK|\n",
      "|    628|       RITA REYNOLDS|\n",
      "|    628|         MAE HOFFMAN|\n",
      "|    628|MICHELLE MCCONAUGHEY|\n",
      "+-------+--------------------+\n",
      "only showing top 20 rows\n",
      "\n"
     ]
    },
    {
     "name": "stderr",
     "output_type": "stream",
     "text": [
      "\r",
      "                                                                                \r"
     ]
    }
   ],
   "source": [
    "films_df.select('film_id','actor').show()"
   ]
  },
  {
   "cell_type": "code",
   "execution_count": 42,
   "id": "76db5e49",
   "metadata": {},
   "outputs": [
    {
     "name": "stderr",
     "output_type": "stream",
     "text": [
      "22/02/22 13:45:56 WARN spark.HeartbeatReceiver: Removing executor driver with no recent heartbeats: 173412 ms exceeds timeout 120000 ms\n",
      "22/02/22 13:45:56 WARN spark.SparkContext: Killing executors is not supported by current scheduler.\n"
     ]
    }
   ],
   "source": [
    "films_df.write.jdbc(gp_url\n",
    "                   , table = 'films'\n",
    "                   , properties = gp_properties\n",
    "                   , mode = 'overwrite')"
   ]
  },
  {
   "cell_type": "code",
   "execution_count": null,
   "id": "5c37c975",
   "metadata": {},
   "outputs": [],
   "source": []
  }
 ],
 "metadata": {
  "kernelspec": {
   "display_name": "Python 3 (ipykernel)",
   "language": "python",
   "name": "python3"
  },
  "language_info": {
   "codemirror_mode": {
    "name": "ipython",
    "version": 3
   },
   "file_extension": ".py",
   "mimetype": "text/x-python",
   "name": "python",
   "nbconvert_exporter": "python",
   "pygments_lexer": "ipython3",
   "version": "3.8.8"
  }
 },
 "nbformat": 4,
 "nbformat_minor": 5
}
