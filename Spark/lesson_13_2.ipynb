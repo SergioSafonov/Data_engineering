{
 "cells": [
  {
   "cell_type": "code",
   "execution_count": 1,
   "id": "0a15580f",
   "metadata": {},
   "outputs": [],
   "source": [
    "import os\n",
    "from datetime import datetime\n",
    "\n",
    "import psycopg2\n",
    "\n",
    "from pyspark.sql import SparkSession\n",
    "from pyspark.sql.types import *\n",
    "import pyspark.sql.functions as F\n",
    "\n",
    "from hdfs import InsecureClient"
   ]
  },
  {
   "cell_type": "code",
   "execution_count": 2,
   "id": "6ec44606",
   "metadata": {},
   "outputs": [
    {
     "name": "stderr",
     "output_type": "stream",
     "text": [
      "Setting default log level to \"WARN\".\n",
      "To adjust logging level use sc.setLogLevel(newLevel). For SparkR, use setLogLevel(newLevel).\n",
      "22/02/22 12:50:47 WARN util.Utils: Service 'SparkUI' could not bind on port 4040. Attempting port 4041.\n",
      "22/02/22 12:50:47 WARN util.Utils: Service 'SparkUI' could not bind on port 4041. Attempting port 4042.\n"
     ]
    }
   ],
   "source": [
    "spark = SparkSession.builder\\\n",
    "     .config('spark.driver.extraClassPath'\n",
    "            , '/home/user/shared_folder/Distrib/postgresql-42.2.23.jar')\\\n",
    "    .master('local')\\\n",
    "    .appName(\"lesson_13\")\\\n",
    "    .getOrCreate()"
   ]
  },
  {
   "cell_type": "code",
   "execution_count": 3,
   "id": "9bedd3f9",
   "metadata": {},
   "outputs": [],
   "source": [
    "hdfs_url = 'http://127.0.0.1:50070/'"
   ]
  },
  {
   "cell_type": "code",
   "execution_count": 4,
   "id": "c2720d0b",
   "metadata": {},
   "outputs": [],
   "source": [
    "pg_creds = {\n",
    "    'host': '192.168.1.56',\n",
    "    'port': '5432',\n",
    "    'database': 'pagila',\n",
    "    'user': 'pguser',\n",
    "    'password': 'secret',\n",
    "}\n",
    "\n",
    "gp_url = \"jdbc:postgresql://192.168.1.56:5433/gp\"\n",
    "gp_properties = {\"user\": \"gpuser\", \"password\": \"secret\"}"
   ]
  },
  {
   "cell_type": "code",
   "execution_count": 5,
   "id": "32d4d3d4",
   "metadata": {},
   "outputs": [],
   "source": [
    "tables_to_load = (\n",
    "          'film',\n",
    "          'film_actor',\n",
    "          'actor',\n",
    "          'film_category',\n",
    "          'category',\n",
    "          'language'\n",
    "         )"
   ]
  },
  {
   "cell_type": "code",
   "execution_count": 6,
   "id": "ad4e07de",
   "metadata": {},
   "outputs": [
    {
     "data": {
      "text/plain": [
       "'2022-02-22'"
      ]
     },
     "execution_count": 6,
     "metadata": {},
     "output_type": "execute_result"
    }
   ],
   "source": [
    "current_date = datetime.now().strftime('%Y-%m-%d')\n",
    "current_date"
   ]
  },
  {
   "cell_type": "code",
   "execution_count": 7,
   "id": "05a275f5",
   "metadata": {},
   "outputs": [],
   "source": [
    "# Load to Bronze"
   ]
  },
  {
   "cell_type": "code",
   "execution_count": 8,
   "id": "ab73a09e",
   "metadata": {},
   "outputs": [],
   "source": [
    "client = InsecureClient(hdfs_url, user='user')\n",
    "\n",
    "for table in tables_to_load:\n",
    "    \n",
    "    with psycopg2.connect(**pg_creds) as pg_connection:\n",
    "        cursor = pg_connection.cursor()\n",
    "    \n",
    "        with client.write(\n",
    "            os.path.join('/', 'datalake', 'bronze', 'pagila', table, current_date, table + '.csv'), overwrite=True\n",
    "        ) as csv_file:\n",
    "            cursor.copy_expert(f\"COPY {table} TO STDOUT WITH HEADER CSV\", \n",
    "                                   csv_file)"
   ]
  },
  {
   "cell_type": "code",
   "execution_count": 9,
   "id": "c420fcc7",
   "metadata": {},
   "outputs": [],
   "source": [
    "# LOAD TO SILVER"
   ]
  },
  {
   "cell_type": "code",
   "execution_count": 10,
   "id": "6db70709",
   "metadata": {},
   "outputs": [],
   "source": [
    "bronze_film_df = spark.read\\\n",
    "    .load(os.path.join('/', 'datalake', 'bronze', 'pagila', 'film', current_date, 'film.csv'),\n",
    "          header = \"true\",\n",
    "          inferSchema = \"true\",\n",
    "          format = \"csv\"\n",
    "         )"
   ]
  },
  {
   "cell_type": "code",
   "execution_count": 11,
   "id": "29d46557",
   "metadata": {},
   "outputs": [
    {
     "data": {
      "text/plain": [
       "2000"
      ]
     },
     "execution_count": 11,
     "metadata": {},
     "output_type": "execute_result"
    }
   ],
   "source": [
    "bronze_film_df.count()"
   ]
  },
  {
   "cell_type": "code",
   "execution_count": 12,
   "id": "0d246e35",
   "metadata": {},
   "outputs": [],
   "source": [
    "bronze_film_df = bronze_film_df\\\n",
    "    .drop('special_features')\\\n",
    "    .drop('fulltext')\\\n",
    "    .drop('last_update')\\\n",
    "    .drop('original_language_id')\n",
    "\n",
    "bronze_film_df = bronze_film_df\\\n",
    "    .where(F.col('title').isNotNull() & F.col('description').isNotNull())\n",
    "\n",
    "bronze_film_df = bronze_film_df.dropDuplicates()"
   ]
  },
  {
   "cell_type": "code",
   "execution_count": 13,
   "id": "07972d4c",
   "metadata": {},
   "outputs": [
    {
     "name": "stderr",
     "output_type": "stream",
     "text": [
      "                                                                                \r"
     ]
    },
    {
     "data": {
      "text/plain": [
       "997"
      ]
     },
     "execution_count": 13,
     "metadata": {},
     "output_type": "execute_result"
    }
   ],
   "source": [
    "bronze_film_df.count()"
   ]
  },
  {
   "cell_type": "code",
   "execution_count": 14,
   "id": "9e84b506",
   "metadata": {},
   "outputs": [
    {
     "data": {
      "text/plain": [
       "Row(film_id=415, title='HIGH ENCINO', description='A Fateful Saga of a Waitress And a Hunter who must Outrace a Sumo Wrestler in Australia', release_year=2006, language_id=1, rental_duration=3, rental_rate=2.99, length=84, replacement_cost=23.99, rating='R')"
      ]
     },
     "execution_count": 14,
     "metadata": {},
     "output_type": "execute_result"
    }
   ],
   "source": [
    "bronze_film_df.first()"
   ]
  },
  {
   "cell_type": "code",
   "execution_count": 15,
   "id": "d906f731",
   "metadata": {},
   "outputs": [
    {
     "name": "stderr",
     "output_type": "stream",
     "text": [
      "22/02/22 12:51:36 WARN hdfs.DataStreamer: Caught exception       (43 + 1) / 200]\n",
      "java.lang.InterruptedException\n",
      "\tat java.lang.Object.wait(Native Method)\n",
      "\tat java.lang.Thread.join(Thread.java:1252)\n",
      "\tat java.lang.Thread.join(Thread.java:1326)\n",
      "\tat org.apache.hadoop.hdfs.DataStreamer.closeResponder(DataStreamer.java:980)\n",
      "\tat org.apache.hadoop.hdfs.DataStreamer.endBlock(DataStreamer.java:630)\n",
      "\tat org.apache.hadoop.hdfs.DataStreamer.run(DataStreamer.java:807)\n",
      "                                                                                \r"
     ]
    }
   ],
   "source": [
    "bronze_film_df.write\\\n",
    "    .partitionBy('rating')\\\n",
    "    .parquet(os.path.join('/', 'datalake', 'silver', 'film'), mode = 'overwrite')"
   ]
  },
  {
   "cell_type": "code",
   "execution_count": 16,
   "id": "2ce2da9a",
   "metadata": {},
   "outputs": [],
   "source": [
    "film_actor_df = spark.read\\\n",
    "    .load(os.path.join('/', 'datalake', 'bronze', 'pagila', 'film_actor', current_date, 'film_actor.csv')\n",
    "                                , header=\"true\"\n",
    "                                , inferSchema=\"true\"\n",
    "                                , format=\"csv\")"
   ]
  },
  {
   "cell_type": "code",
   "execution_count": 17,
   "id": "8fe4317b",
   "metadata": {},
   "outputs": [],
   "source": [
    "film_actor_df.write\\\n",
    "    .parquet(os.path.join('/', 'datalake', 'silver', 'film_actor'), mode='overwrite')"
   ]
  },
  {
   "cell_type": "code",
   "execution_count": 18,
   "id": "43589510",
   "metadata": {},
   "outputs": [],
   "source": [
    "actor_df = spark.read\\\n",
    "    .load(os.path.join('/', 'datalake', 'bronze', 'pagila', 'actor', current_date, 'actor.csv')\n",
    "                                , header=\"true\"\n",
    "                                , inferSchema=\"true\"\n",
    "                                , format=\"csv\")"
   ]
  },
  {
   "cell_type": "code",
   "execution_count": 19,
   "id": "848b2848",
   "metadata": {},
   "outputs": [],
   "source": [
    "actor_df.write\\\n",
    "    .parquet(os.path.join('/', 'datalake', 'silver', 'actor'), mode='overwrite')"
   ]
  },
  {
   "cell_type": "code",
   "execution_count": 20,
   "id": "390aeca6",
   "metadata": {},
   "outputs": [],
   "source": [
    "film_category_df = spark.read\\\n",
    "    .load(os.path.join('/', 'datalake', 'bronze', 'pagila', 'film_category', current_date, 'film_category.csv')\n",
    "                                , header=\"true\"\n",
    "                                , inferSchema=\"true\"\n",
    "                                , format=\"csv\")"
   ]
  },
  {
   "cell_type": "code",
   "execution_count": 21,
   "id": "a3551d99",
   "metadata": {},
   "outputs": [],
   "source": [
    "film_category_df.write\\\n",
    "    .parquet(os.path.join('/', 'datalake', 'silver', 'film_category'), mode='overwrite')"
   ]
  },
  {
   "cell_type": "code",
   "execution_count": 22,
   "id": "5fd742a9",
   "metadata": {},
   "outputs": [],
   "source": [
    "category_df = spark.read\\\n",
    "    .load(os.path.join('/', 'datalake', 'bronze', 'pagila', 'category', current_date, 'category.csv')\n",
    "                                , header=\"true\"\n",
    "                                , inferSchema=\"true\"\n",
    "                                , format=\"csv\")"
   ]
  },
  {
   "cell_type": "code",
   "execution_count": 23,
   "id": "8d4e55cc",
   "metadata": {},
   "outputs": [],
   "source": [
    "category_df.write\\\n",
    "    .parquet(os.path.join('/', 'datalake', 'silver', 'category'), mode='overwrite')"
   ]
  },
  {
   "cell_type": "code",
   "execution_count": 24,
   "id": "b35f5fd8",
   "metadata": {},
   "outputs": [],
   "source": [
    "language_df = spark.read\\\n",
    "    .load(os.path.join('/', 'datalake', 'bronze', 'pagila', 'language', current_date, 'language.csv')\n",
    "                                , header=\"true\"\n",
    "                                , inferSchema=\"true\"\n",
    "                                , format=\"csv\")"
   ]
  },
  {
   "cell_type": "code",
   "execution_count": 25,
   "id": "d83d8072",
   "metadata": {},
   "outputs": [],
   "source": [
    "language_df.write\\\n",
    "    .parquet(os.path.join('/', 'datalake', 'silver', 'language'), mode='overwrite')"
   ]
  },
  {
   "cell_type": "code",
   "execution_count": 26,
   "id": "00fd6bc4",
   "metadata": {},
   "outputs": [],
   "source": [
    "# Load to GOLD"
   ]
  },
  {
   "cell_type": "code",
   "execution_count": 27,
   "id": "619f08e3",
   "metadata": {},
   "outputs": [],
   "source": [
    "film_df = spark.read.parquet(os.path.join('/', 'datalake', 'silver', 'film'))\n",
    "film_category_df = spark.read.parquet(os.path.join('/', 'datalake', 'silver', 'film_category'))\n",
    "category_df = spark.read.parquet(os.path.join('/', 'datalake', 'silver', 'category'))\n",
    "film_actor_df = spark.read.parquet(os.path.join('/', 'datalake', 'silver', 'film_actor'))\n",
    "actor_df = spark.read.parquet(os.path.join('/', 'datalake', 'silver', 'actor'))\n",
    "language_df = spark.read.parquet(os.path.join('/', 'datalake', 'silver', 'language'))"
   ]
  },
  {
   "cell_type": "code",
   "execution_count": 28,
   "id": "64f14b1b",
   "metadata": {},
   "outputs": [],
   "source": [
    "film_category_df = film_category_df.join(category_df\n",
    "                      , film_category_df.category_id == category_df.category_id\n",
    "                      , 'left')\\\n",
    "                .select(film_category_df.film_id, category_df.name.alias('category_name'))"
   ]
  },
  {
   "cell_type": "code",
   "execution_count": 29,
   "id": "c08b3bd9",
   "metadata": {},
   "outputs": [],
   "source": [
    "film_df = film_df.join(film_category_df\n",
    "                      , film_df.film_id == film_category_df.film_id\n",
    "                      , 'left')\\\n",
    "                .select(film_df['*'], film_category_df.category_name)"
   ]
  },
  {
   "cell_type": "code",
   "execution_count": 30,
   "id": "bb4b1e6b",
   "metadata": {},
   "outputs": [],
   "source": [
    "film_actor_df = film_actor_df.join(actor_df\n",
    "                      , film_actor_df.actor_id == actor_df.actor_id\n",
    "                      , 'left')\\\n",
    "                .select(film_actor_df.film_id, actor_df.first_name, actor_df.last_name)\n",
    "\n",
    "film_actor_df = film_actor_df.withColumn('name', F.concat(F.col('first_name'), F.lit(' '), F.col('last_name')))\n",
    "\n",
    "film_actor_df = film_actor_df.drop('first_name').drop('last_name')"
   ]
  },
  {
   "cell_type": "code",
   "execution_count": 31,
   "id": "4c9d360a",
   "metadata": {},
   "outputs": [],
   "source": [
    "film_df = film_df.join(film_actor_df\n",
    "                      , film_df.film_id == film_actor_df.film_id\n",
    "                      , 'left')\\\n",
    "                .select(film_df['*'], film_actor_df.name.alias('actor_name'))"
   ]
  },
  {
   "cell_type": "code",
   "execution_count": 32,
   "id": "840f3082",
   "metadata": {},
   "outputs": [],
   "source": [
    "film_df = film_df.join(language_df\n",
    "                      , film_df.language_id == language_df.language_id\n",
    "                      , 'left')\\\n",
    "                .select(film_df['*'], language_df.name.alias('language'))"
   ]
  },
  {
   "cell_type": "code",
   "execution_count": 33,
   "id": "54961ca4",
   "metadata": {},
   "outputs": [
    {
     "name": "stderr",
     "output_type": "stream",
     "text": [
      "                                                                                \r"
     ]
    },
    {
     "data": {
      "text/plain": [
       "Row(film_id=35, title='ARACHNOPHOBIA ROLLERCOASTER', description='A Action-Packed Reflection of a Pastry Chef And a Composer who must Discover a Mad Scientist in The First Manned Space Station', release_year=2006, language_id=1, rental_duration=4, rental_rate=2.99, length=147, replacement_cost=24.99, rating='PG-13', category_name='Horror', actor_name='HUMPHREY GARLAND', language='English             ')"
      ]
     },
     "execution_count": 33,
     "metadata": {},
     "output_type": "execute_result"
    }
   ],
   "source": [
    "film_df.first()"
   ]
  },
  {
   "cell_type": "code",
   "execution_count": 34,
   "id": "25502fd6",
   "metadata": {},
   "outputs": [
    {
     "name": "stdout",
     "output_type": "stream",
     "text": [
      "+-------+--------------------+------+-------------+------------------+--------------------+\n",
      "|film_id|               title|rating|category_name|        actor_name|            language|\n",
      "+-------+--------------------+------+-------------+------------------+--------------------+\n",
      "|     35|ARACHNOPHOBIA ROL...| PG-13|       Horror|  HUMPHREY GARLAND|English             |\n",
      "|     35|ARACHNOPHOBIA ROL...| PG-13|       Horror|      EWAN GOODING|English             |\n",
      "|     35|ARACHNOPHOBIA ROL...| PG-13|       Horror|     RITA REYNOLDS|English             |\n",
      "|     35|ARACHNOPHOBIA ROL...| PG-13|       Horror|        CUBA ALLEN|English             |\n",
      "|     35|ARACHNOPHOBIA ROL...| PG-13|       Horror|    MORGAN HOPKINS|English             |\n",
      "|     35|ARACHNOPHOBIA ROL...| PG-13|       Horror|    DARYL WAHLBERG|English             |\n",
      "|     35|ARACHNOPHOBIA ROL...| PG-13|       Horror|         JUDY DEAN|English             |\n",
      "|     35|ARACHNOPHOBIA ROL...| PG-13|       Horror|      GRACE MOSTEL|English             |\n",
      "|    569|  MENAGERIE RUSHMORE|     G|    Animation|     RAY JOHANSSON|English             |\n",
      "|    569|  MENAGERIE RUSHMORE|     G|    Animation|      BURT DUKAKIS|English             |\n",
      "|     51|    BALLOON HOMEWARD| NC-17|        Music|      ROCK DUKAKIS|English             |\n",
      "|     51|    BALLOON HOMEWARD| NC-17|        Music|        RENEE BALL|English             |\n",
      "|     51|    BALLOON HOMEWARD| NC-17|        Music|      RICHARD PENN|English             |\n",
      "|     51|    BALLOON HOMEWARD| NC-17|        Music|         GARY PENN|English             |\n",
      "|     51|    BALLOON HOMEWARD| NC-17|        Music|       MENA TEMPLE|English             |\n",
      "|     51|    BALLOON HOMEWARD| NC-17|        Music|   PARKER GOLDBERG|English             |\n",
      "|    123|    CASABLANCA SUPER|     G|       Travel|        REESE WEST|English             |\n",
      "|    123|    CASABLANCA SUPER|     G|       Travel|ANGELA WITHERSPOON|English             |\n",
      "|    123|    CASABLANCA SUPER|     G|       Travel|       WALTER TORN|English             |\n",
      "|    123|    CASABLANCA SUPER|     G|       Travel|    KIRSTEN AKROYD|English             |\n",
      "+-------+--------------------+------+-------------+------------------+--------------------+\n",
      "only showing top 20 rows\n",
      "\n"
     ]
    }
   ],
   "source": [
    "film_df.select('film_id','title','rating','category_name','actor_name','language').show()"
   ]
  },
  {
   "cell_type": "code",
   "execution_count": 35,
   "id": "bd0dc62f",
   "metadata": {},
   "outputs": [],
   "source": [
    "films = film_df.groupBy(\n",
    "    F.col('film_id'),\n",
    "    F.col('title'),\n",
    "    F.col('description'),\n",
    "    F.col('release_year'),\n",
    "    F.col('rating'),\n",
    "    F.col('category_name'),\n",
    "    F.col('language'),\n",
    ").agg(F.collect_list(F.col('actor_name')).alias('actors'))"
   ]
  },
  {
   "cell_type": "code",
   "execution_count": 36,
   "id": "839a3f4e",
   "metadata": {},
   "outputs": [
    {
     "name": "stderr",
     "output_type": "stream",
     "text": [
      "[Stage 49:==================================================>     (18 + 1) / 20]\r"
     ]
    },
    {
     "name": "stdout",
     "output_type": "stream",
     "text": [
      "+-------+-------------------+-----------------------------------------------------------------------------------------------------------------------------------+\n",
      "|film_id|title              |actors                                                                                                                             |\n",
      "+-------+-------------------+-----------------------------------------------------------------------------------------------------------------------------------+\n",
      "|211    |DARLING BREAKING   |[JAYNE NEESON, FRANCES DAY-LEWIS]                                                                                                  |\n",
      "|50     |BAKED CLEOPATRA    |[MICHELLE MCCONAUGHEY]                                                                                                             |\n",
      "|957    |WAR NOTTING        |[HUMPHREY WILLIS, FAY WINSLET, SALMA NOLTE, CUBA ALLEN, MINNIE ZELLWEGER, MARY TANDY, NATALIE HOPKINS, HELEN VOIGHT, GRACE MOSTEL] |\n",
      "|628    |NORTHWEST POLISH   |[MARY KEITEL, REESE WEST, CUBA BIRCH, JEFF SILVERSTONE, LAURENCE BULLOCK, RITA REYNOLDS, MAE HOFFMAN, MICHELLE MCCONAUGHEY]        |\n",
      "|669    |PEARL DESTINY      |[HARVEY HOPE, DARYL CRAWFORD, CAMERON ZELLWEGER, TIM HACKMAN]                                                                      |\n",
      "|708    |QUILLS BULL        |[JOHN SUVARI, AUDREY BAILEY, LISA MONROE, FAY WINSLET]                                                                             |\n",
      "|988    |WORKER TARZAN      |[ROCK DUKAKIS, MERYL GIBSON, MINNIE KILMER, JULIANNE DENCH, RUSSELL BACALL, SUSAN DAVIS, JAYNE NEESON, PENELOPE PINKETT, ZERO CAGE]|\n",
      "|348    |GANDHI KWAI        |[DARYL CRAWFORD, GINA DEGENERES, MEG HAWKE, ANGELINA ASTAIRE, PENELOPE PINKETT, ANNE CRONYN, LUCILLE TRACY, ZERO CAGE]             |\n",
      "|792    |SHREK LICENSE      |[EMILY DEE, RIVER DEAN, FRANCES DAY-LEWIS]                                                                                         |\n",
      "|268    |EARLY HOME         |[MORGAN WILLIAMS, WALTER TORN, BEN WILLIS, SCARLETT DAMON, MENA TEMPLE, DAN TORN]                                                  |\n",
      "|119    |CAPER MOTIONS      |[BURT TEMPLE, CATE MCQUEEN, KEVIN GARLAND, CHRISTIAN AKROYD, VAL BOLGER, AUDREY OLIVIER, HELEN VOIGHT]                             |\n",
      "|767    |SCALAWAG DUCK      |[CHRIS DEPP, GROUCHO SINATRA, CHRISTIAN NEESON, JUDE CRUISE, REESE KILMER]                                                         |\n",
      "|689    |POLLOCK DELIVERANCE|[JULIA FAWCETT, BURT TEMPLE, GROUCHO SINATRA, DUSTIN TAUTOU, CARMEN HUNT, GOLDIE BRODY]                                            |\n",
      "|619    |NEIGHBORS CHARADE  |[WILL WILSON, MORGAN MCDORMAND, DARYL WAHLBERG, SCARLETT DAMON, RALPH CRUZ, TOM MCKELLEN, WOODY HOFFMAN]                           |\n",
      "|328    |FOREVER CANDIDATE  |[JADA RYDER]                                                                                                                       |\n",
      "|875    |TALENTED HOMICIDE  |[JADA RYDER, JANE JACKMAN, MINNIE ZELLWEGER, NICK STALLONE, BURT DUKAKIS]                                                          |\n",
      "|70     |BIKINI BORROWERS   |[PENELOPE CRONYN, BETTE NICHOLSON]                                                                                                 |\n",
      "|749    |RULES HUMAN        |[HARVEY HOPE, KEVIN GARLAND, CARY MCCONAUGHEY, DUSTIN TAUTOU, PENELOPE GUINESS]                                                    |\n",
      "|944    |VIRGIN DAISY       |[NICK DEGENERES, CATE MCQUEEN, SPENCER DEPP, CAMERON WRAY, JULIA BARRYMORE, NICK STALLONE, ALEC WAYNE, DAN TORN]                   |\n",
      "|96     |BREAKING HOME      |[MORGAN WILLIAMS, FRANCES TOMEI, CARMEN HUNT, WOODY HOFFMAN, HELEN VOIGHT, GRACE MOSTEL]                                           |\n",
      "+-------+-------------------+-----------------------------------------------------------------------------------------------------------------------------------+\n",
      "only showing top 20 rows\n",
      "\n"
     ]
    },
    {
     "name": "stderr",
     "output_type": "stream",
     "text": [
      "                                                                                \r"
     ]
    }
   ],
   "source": [
    "films.select('film_id','title','actors').show(truncate=False)"
   ]
  },
  {
   "cell_type": "code",
   "execution_count": 37,
   "id": "c8be6b30",
   "metadata": {},
   "outputs": [
    {
     "name": "stderr",
     "output_type": "stream",
     "text": [
      "                                                                                \r"
     ]
    }
   ],
   "source": [
    "films.write.parquet(os.path.join('/','datalake','gold','films'), mode = 'overwrite')"
   ]
  },
  {
   "cell_type": "code",
   "execution_count": 38,
   "id": "fcc922f6",
   "metadata": {},
   "outputs": [],
   "source": [
    "# Process to DWH"
   ]
  },
  {
   "cell_type": "code",
   "execution_count": 39,
   "id": "1443a227",
   "metadata": {},
   "outputs": [],
   "source": [
    "films_df = spark.read.parquet(os.path.join('/', 'datalake', 'gold', 'films'))"
   ]
  },
  {
   "cell_type": "code",
   "execution_count": 40,
   "id": "5eb75bfa",
   "metadata": {},
   "outputs": [],
   "source": [
    "films_df = films.select(\n",
    "        films['*'], F.explode(F.col('actors')).alias('actor')\n",
    "    ).drop('actors')"
   ]
  },
  {
   "cell_type": "code",
   "execution_count": 41,
   "id": "695bf322",
   "metadata": {},
   "outputs": [
    {
     "name": "stderr",
     "output_type": "stream",
     "text": [
      "[Stage 66:==================================================>     (18 + 1) / 20]\r"
     ]
    },
    {
     "name": "stdout",
     "output_type": "stream",
     "text": [
      "+-------+--------------------+\n",
      "|film_id|               actor|\n",
      "+-------+--------------------+\n",
      "|    211|        JAYNE NEESON|\n",
      "|    211|   FRANCES DAY-LEWIS|\n",
      "|     50|MICHELLE MCCONAUGHEY|\n",
      "|    957|     HUMPHREY WILLIS|\n",
      "|    957|         FAY WINSLET|\n",
      "|    957|         SALMA NOLTE|\n",
      "|    957|          CUBA ALLEN|\n",
      "|    957|    MINNIE ZELLWEGER|\n",
      "|    957|          MARY TANDY|\n",
      "|    957|     NATALIE HOPKINS|\n",
      "|    957|        HELEN VOIGHT|\n",
      "|    957|        GRACE MOSTEL|\n",
      "|    628|         MARY KEITEL|\n",
      "|    628|          REESE WEST|\n",
      "|    628|          CUBA BIRCH|\n",
      "|    628|    JEFF SILVERSTONE|\n",
      "|    628|    LAURENCE BULLOCK|\n",
      "|    628|       RITA REYNOLDS|\n",
      "|    628|         MAE HOFFMAN|\n",
      "|    628|MICHELLE MCCONAUGHEY|\n",
      "+-------+--------------------+\n",
      "only showing top 20 rows\n",
      "\n"
     ]
    },
    {
     "name": "stderr",
     "output_type": "stream",
     "text": [
      "                                                                                \r"
     ]
    }
   ],
   "source": [
    "films_df.select('film_id','actor').show()"
   ]
  },
  {
   "cell_type": "code",
   "execution_count": 42,
   "id": "76db5e49",
   "metadata": {},
   "outputs": [
    {
     "name": "stderr",
     "output_type": "stream",
     "text": [
      "22/02/22 13:45:56 WARN spark.HeartbeatReceiver: Removing executor driver with no recent heartbeats: 173412 ms exceeds timeout 120000 ms\n",
      "22/02/22 13:45:56 WARN spark.SparkContext: Killing executors is not supported by current scheduler.\n"
     ]
    }
   ],
   "source": [
    "films_df.write.jdbc(gp_url\n",
    "                   , table = 'films'\n",
    "                   , properties = gp_properties\n",
    "                   , mode = 'overwrite')"
   ]
  },
  {
   "cell_type": "code",
   "execution_count": null,
   "id": "5c37c975",
   "metadata": {},
   "outputs": [],
   "source": []
  }
 ],
 "metadata": {
  "kernelspec": {
   "display_name": "Python 3 (ipykernel)",
   "language": "python",
   "name": "python3"
  },
  "language_info": {
   "codemirror_mode": {
    "name": "ipython",
    "version": 3
   },
   "file_extension": ".py",
   "mimetype": "text/x-python",
   "name": "python",
   "nbconvert_exporter": "python",
   "pygments_lexer": "ipython3",
   "version": "3.8.8"
  }
 },
 "nbformat": 4,
 "nbformat_minor": 5
}
